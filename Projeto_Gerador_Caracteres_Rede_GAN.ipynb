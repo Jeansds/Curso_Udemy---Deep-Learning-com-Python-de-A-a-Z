{
  "nbformat": 4,
  "nbformat_minor": 0,
  "metadata": {
    "colab": {
      "name": "Projeto_Gerador_Caracteres_Rede_GAN",
      "provenance": [],
      "authorship_tag": "ABX9TyOjGQPglfRKlnL9Bef8uojY",
      "include_colab_link": true
    },
    "kernelspec": {
      "name": "python3",
      "display_name": "Python 3"
    },
    "accelerator": "GPU"
  },
  "cells": [
    {
      "cell_type": "markdown",
      "metadata": {
        "id": "view-in-github",
        "colab_type": "text"
      },
      "source": [
        "<a href=\"https://colab.research.google.com/github/Jeansds/Curso_Udemy---Deep-Learning-com-Python-de-A-a-Z/blob/master/Projeto_Gerador_Caracteres_Rede_GAN.ipynb\" target=\"_parent\"><img src=\"https://colab.research.google.com/assets/colab-badge.svg\" alt=\"Open In Colab\"/></a>"
      ]
    },
    {
      "cell_type": "code",
      "metadata": {
        "id": "zZXKrPbJtISY",
        "colab_type": "code",
        "colab": {
          "base_uri": "https://localhost:8080/",
          "height": 34
        },
        "outputId": "6d11c3cb-152d-4c9f-bd6a-c13862069aaa"
      },
      "source": [
        "!git clone https://github.com/bstriner/keras_adversarial.git"
      ],
      "execution_count": 1,
      "outputs": [
        {
          "output_type": "stream",
          "text": [
            "fatal: destination path 'keras_adversarial' already exists and is not an empty directory.\n"
          ],
          "name": "stdout"
        }
      ]
    },
    {
      "cell_type": "code",
      "metadata": {
        "id": "0NTMOGZt8qPm",
        "colab_type": "code",
        "colab": {
          "base_uri": "https://localhost:8080/",
          "height": 309
        },
        "outputId": "26cf6f15-0f9d-400e-b6c1-80abeb34dd28"
      },
      "source": [
        "!pip install '/content/keras_adversarial'"
      ],
      "execution_count": 2,
      "outputs": [
        {
          "output_type": "stream",
          "text": [
            "Processing ./keras_adversarial\n",
            "Requirement already satisfied: Keras in /usr/local/lib/python3.6/dist-packages (from keras-adversarial==0.0.3) (2.1.1)\n",
            "Requirement already satisfied: scipy>=0.14 in /usr/local/lib/python3.6/dist-packages (from Keras->keras-adversarial==0.0.3) (1.4.1)\n",
            "Requirement already satisfied: numpy>=1.9.1 in /usr/local/lib/python3.6/dist-packages (from Keras->keras-adversarial==0.0.3) (1.17.5)\n",
            "Requirement already satisfied: pyyaml in /usr/local/lib/python3.6/dist-packages (from Keras->keras-adversarial==0.0.3) (3.13)\n",
            "Requirement already satisfied: six>=1.9.0 in /usr/local/lib/python3.6/dist-packages (from Keras->keras-adversarial==0.0.3) (1.12.0)\n",
            "Building wheels for collected packages: keras-adversarial\n",
            "  Building wheel for keras-adversarial (setup.py) ... \u001b[?25l\u001b[?25hdone\n",
            "  Created wheel for keras-adversarial: filename=keras_adversarial-0.0.3-py2.py3-none-any.whl size=14046 sha256=fb0449a04ba8c2d939313c1ef9f4a3642714f90327975b03b72e3e9bc35c7968\n",
            "  Stored in directory: /tmp/pip-ephem-wheel-cache-qc809k61/wheels/fa/66/6b/b03143f3173bf0dbb61179b92729fd82f21c9b0ee07b3aefe6\n",
            "Successfully built keras-adversarial\n",
            "Installing collected packages: keras-adversarial\n",
            "  Found existing installation: keras-adversarial 0.0.3\n",
            "    Uninstalling keras-adversarial-0.0.3:\n",
            "      Successfully uninstalled keras-adversarial-0.0.3\n",
            "Successfully installed keras-adversarial-0.0.3\n"
          ],
          "name": "stdout"
        }
      ]
    },
    {
      "cell_type": "code",
      "metadata": {
        "id": "6WN759oltcSH",
        "colab_type": "code",
        "colab": {
          "base_uri": "https://localhost:8080/",
          "height": 102
        },
        "outputId": "913d0d5b-bc0f-4d64-eb0e-06bec61f69cb"
      },
      "source": [
        "!pip install keras==2.1.1"
      ],
      "execution_count": 3,
      "outputs": [
        {
          "output_type": "stream",
          "text": [
            "Requirement already satisfied: keras==2.1.1 in /usr/local/lib/python3.6/dist-packages (2.1.1)\n",
            "Requirement already satisfied: scipy>=0.14 in /usr/local/lib/python3.6/dist-packages (from keras==2.1.1) (1.4.1)\n",
            "Requirement already satisfied: numpy>=1.9.1 in /usr/local/lib/python3.6/dist-packages (from keras==2.1.1) (1.17.5)\n",
            "Requirement already satisfied: pyyaml in /usr/local/lib/python3.6/dist-packages (from keras==2.1.1) (3.13)\n",
            "Requirement already satisfied: six>=1.9.0 in /usr/local/lib/python3.6/dist-packages (from keras==2.1.1) (1.12.0)\n"
          ],
          "name": "stdout"
        }
      ]
    },
    {
      "cell_type": "markdown",
      "metadata": {
        "id": "RFlRUqT1s2I8",
        "colab_type": "text"
      },
      "source": [
        "Biblioteca Keras Adversarial\n",
        "[link text](https://github.com/bstriner/keras-adversarial)"
      ]
    },
    {
      "cell_type": "code",
      "metadata": {
        "id": "SyGFzSBMxvnj",
        "colab_type": "code",
        "outputId": "0609fbb7-0727-46b0-8c97-eb69100f73e0",
        "colab": {
          "base_uri": "https://localhost:8080/",
          "height": 80
        }
      },
      "source": [
        "import matplotlib.pyplot as plt\n",
        "import numpy as np\n",
        "import keras_adversarial\n",
        "from keras.datasets import mnist\n",
        "from keras.models import Sequential\n",
        "from keras.layers import InputLayer, Dense, Flatten, Reshape\n",
        "from keras.regularizers import L1L2\n",
        "from keras_adversarial import AdversarialModel, simple_gan, gan_targets\n",
        "from keras_adversarial import AdversarialOptimizerSimultaneous, normal_latent_sampling"
      ],
      "execution_count": 4,
      "outputs": [
        {
          "output_type": "stream",
          "text": [
            "Using TensorFlow backend.\n"
          ],
          "name": "stderr"
        },
        {
          "output_type": "display_data",
          "data": {
            "text/html": [
              "<p style=\"color: red;\">\n",
              "The default version of TensorFlow in Colab will soon switch to TensorFlow 2.x.<br>\n",
              "We recommend you <a href=\"https://www.tensorflow.org/guide/migrate\" target=\"_blank\">upgrade</a> now \n",
              "or ensure your notebook will continue to use TensorFlow 1.x via the <code>%tensorflow_version 1.x</code> magic:\n",
              "<a href=\"https://colab.research.google.com/notebooks/tensorflow_version.ipynb\" target=\"_blank\">more info</a>.</p>\n"
            ],
            "text/plain": [
              "<IPython.core.display.HTML object>"
            ]
          },
          "metadata": {
            "tags": []
          }
        }
      ]
    },
    {
      "cell_type": "code",
      "metadata": {
        "id": "krmHLJ-JzeSo",
        "colab_type": "code",
        "colab": {
          "base_uri": "https://localhost:8080/",
          "height": 34
        },
        "outputId": "545717b9-1d4a-4d5f-f1a4-aafe6a5c5fd5"
      },
      "source": [
        "(previsores_treinamento, _), (_, _) = mnist.load_data()\n",
        "previsores_treinamento.shape"
      ],
      "execution_count": 5,
      "outputs": [
        {
          "output_type": "execute_result",
          "data": {
            "text/plain": [
              "(60000, 28, 28)"
            ]
          },
          "metadata": {
            "tags": []
          },
          "execution_count": 5
        }
      ]
    },
    {
      "cell_type": "code",
      "metadata": {
        "id": "2VODUTFXzxpY",
        "colab_type": "code",
        "colab": {}
      },
      "source": [
        "previsores_treinamento = previsores_treinamento.astype('float32') / 255 #Normalização da base"
      ],
      "execution_count": 0,
      "outputs": []
    },
    {
      "cell_type": "code",
      "metadata": {
        "id": "9Ywl-qt3z4dh",
        "colab_type": "code",
        "colab": {
          "base_uri": "https://localhost:8080/",
          "height": 190
        },
        "outputId": "0f9b8008-223d-4ee3-adba-7b452039a50b"
      },
      "source": [
        "#Gerador\n",
        "gerador = Sequential()\n",
        "gerador.add(Dense(units = 500, input_dim = 100, activation = 'relu',\n",
        "                  kernel_regularizer = L1L2(1e-5, 1e-5)))\n",
        "gerador.add(Dense(units = 500, input_dim = 100, activation = 'relu',\n",
        "                  kernel_regularizer = L1L2(1e-5, 1e-5)))\n",
        "gerador.add(Dense(units = 28*28, activation = 'sigmoid', kernel_regularizer = L1L2(1e-5, 1e-5)))\n",
        "gerador.add(Reshape((28, 28)))"
      ],
      "execution_count": 7,
      "outputs": [
        {
          "output_type": "stream",
          "text": [
            "WARNING:tensorflow:From /usr/local/lib/python3.6/dist-packages/keras/backend/tensorflow_backend.py:63: The name tf.get_default_graph is deprecated. Please use tf.compat.v1.get_default_graph instead.\n",
            "\n",
            "WARNING:tensorflow:From /usr/local/lib/python3.6/dist-packages/keras/backend/tensorflow_backend.py:492: The name tf.placeholder is deprecated. Please use tf.compat.v1.placeholder instead.\n",
            "\n",
            "WARNING:tensorflow:From /usr/local/lib/python3.6/dist-packages/keras/backend/tensorflow_backend.py:3630: The name tf.random_uniform is deprecated. Please use tf.random.uniform instead.\n",
            "\n",
            "WARNING:tensorflow:From /usr/local/lib/python3.6/dist-packages/keras/backend/tensorflow_backend.py:1242: calling reduce_sum_v1 (from tensorflow.python.ops.math_ops) with keep_dims is deprecated and will be removed in a future version.\n",
            "Instructions for updating:\n",
            "keep_dims is deprecated, use keepdims instead\n"
          ],
          "name": "stdout"
        }
      ]
    },
    {
      "cell_type": "code",
      "metadata": {
        "id": "BbMQBvhb1SHJ",
        "colab_type": "code",
        "colab": {
          "base_uri": "https://localhost:8080/",
          "height": 88
        },
        "outputId": "d262a0f8-abe8-40d0-bc06-0d997417ab90"
      },
      "source": [
        "#Discriminador\n",
        "discriminador = Sequential()\n",
        "discriminador.add(InputLayer(input_shape = (28, 28)))\n",
        "discriminador.add(Flatten())\n",
        "discriminador.add(Dense(units = 500, activation = 'relu', kernel_regularizer = L1L2(1e-5, 1e-5)))\n",
        "discriminador.add(Dense(units = 500, activation = 'relu', kernel_regularizer = L1L2(1e-5, 1e-5)))\n",
        "discriminador.add(Dense(units = 1, activation = 'sigmoid', kernel_regularizer = L1L2(1e-5, 1e-5)))"
      ],
      "execution_count": 8,
      "outputs": [
        {
          "output_type": "stream",
          "text": [
            "WARNING:tensorflow:From /usr/local/lib/python3.6/dist-packages/keras/backend/tensorflow_backend.py:1259: calling reduce_prod_v1 (from tensorflow.python.ops.math_ops) with keep_dims is deprecated and will be removed in a future version.\n",
            "Instructions for updating:\n",
            "keep_dims is deprecated, use keepdims instead\n"
          ],
          "name": "stdout"
        }
      ]
    },
    {
      "cell_type": "code",
      "metadata": {
        "id": "KE2Llc5D3LnF",
        "colab_type": "code",
        "colab": {
          "base_uri": "https://localhost:8080/",
          "height": 190
        },
        "outputId": "fca0ef6f-cc5c-4196-f875-eb1fa541d0f0"
      },
      "source": [
        "gan = simple_gan(gerador, discriminador, normal_latent_sampling((100, )))#normal_atent_sampling tem de possuir o mesmo valor do input dim\n",
        "modelo = AdversarialModel(base_model = gan,\n",
        "                          player_params = [gerador.trainable_weights,\n",
        "                                           discriminador.trainable_weights])\n",
        "modelo.adversarial_compile(adversarial_optimizer = AdversarialOptimizerSimultaneous(),\n",
        "                           player_optimizers = ['adam', 'adam'],\n",
        "                           loss = 'binary_crossentropy')"
      ],
      "execution_count": 9,
      "outputs": [
        {
          "output_type": "stream",
          "text": [
            "WARNING:tensorflow:From /usr/local/lib/python3.6/dist-packages/keras/backend/tensorflow_backend.py:3607: The name tf.random_normal is deprecated. Please use tf.random.normal instead.\n",
            "\n",
            "WARNING:tensorflow:From /usr/local/lib/python3.6/dist-packages/keras/optimizers.py:711: The name tf.train.Optimizer is deprecated. Please use tf.compat.v1.train.Optimizer instead.\n",
            "\n",
            "WARNING:tensorflow:From /usr/local/lib/python3.6/dist-packages/keras/backend/tensorflow_backend.py:2944: The name tf.log is deprecated. Please use tf.math.log instead.\n",
            "\n",
            "WARNING:tensorflow:From /usr/local/lib/python3.6/dist-packages/tensorflow_core/python/ops/nn_impl.py:183: where (from tensorflow.python.ops.array_ops) is deprecated and will be removed in a future version.\n",
            "Instructions for updating:\n",
            "Use tf.where in 2.0, which has the same broadcast rule as np.where\n"
          ],
          "name": "stdout"
        }
      ]
    },
    {
      "cell_type": "code",
      "metadata": {
        "id": "AhkHm-CG4aBl",
        "colab_type": "code",
        "colab": {
          "base_uri": "https://localhost:8080/",
          "height": 1000
        },
        "outputId": "2857773c-fdbf-43c0-c716-f5f24cf2c886"
      },
      "source": [
        "modelo.fit(x = previsores_treinamento, y = gan_targets(60000), epochs = 100, batch_size = 256)"
      ],
      "execution_count": 16,
      "outputs": [
        {
          "output_type": "stream",
          "text": [
            "Epoch 1/100\n",
            "60000/60000 [==============================] - 3s 45us/step - loss: 21.2821 - player_0_loss: 20.3188 - player_0_yfake_loss: 6.1806 - player_0_yreal_loss: 13.1886 - player_1_loss: 0.9634 - player_1_yfake_loss: 0.0057 - player_1_yreal_loss: 0.0081\n",
            "Epoch 2/100\n",
            "60000/60000 [==============================] - 3s 46us/step - loss: 20.9920 - player_0_loss: 20.0252 - player_0_yfake_loss: 6.0974 - player_0_yreal_loss: 12.9751 - player_1_loss: 0.9668 - player_1_yfake_loss: 0.0059 - player_1_yreal_loss: 0.0082\n",
            "Epoch 3/100\n",
            "60000/60000 [==============================] - 3s 45us/step - loss: 21.5466 - player_0_loss: 20.6084 - player_0_yfake_loss: 6.3261 - player_0_yreal_loss: 13.3568 - player_1_loss: 0.9382 - player_1_yfake_loss: 0.0055 - player_1_yreal_loss: 0.0073\n",
            "Epoch 4/100\n",
            "60000/60000 [==============================] - 3s 46us/step - loss: 21.9249 - player_0_loss: 20.9993 - player_0_yfake_loss: 6.6741 - player_0_yreal_loss: 13.4133 - player_1_loss: 0.9256 - player_1_yfake_loss: 0.0055 - player_1_yreal_loss: 0.0082\n",
            "Epoch 5/100\n",
            "60000/60000 [==============================] - 3s 46us/step - loss: 22.2188 - player_0_loss: 21.2580 - player_0_yfake_loss: 6.7232 - player_0_yreal_loss: 13.5871 - player_1_loss: 0.9608 - player_1_yfake_loss: 0.0053 - player_1_yreal_loss: 0.0078\n",
            "Epoch 6/100\n",
            "60000/60000 [==============================] - 3s 45us/step - loss: 21.5410 - player_0_loss: 20.5968 - player_0_yfake_loss: 6.5827 - player_0_yreal_loss: 13.0855 - player_1_loss: 0.9443 - player_1_yfake_loss: 0.0063 - player_1_yreal_loss: 0.0095\n",
            "Epoch 7/100\n",
            "60000/60000 [==============================] - 3s 47us/step - loss: 21.3989 - player_0_loss: 20.4599 - player_0_yfake_loss: 6.4942 - player_0_yreal_loss: 13.0436 - player_1_loss: 0.9390 - player_1_yfake_loss: 0.0068 - player_1_yreal_loss: 0.0101\n",
            "Epoch 8/100\n",
            "60000/60000 [==============================] - 3s 46us/step - loss: 21.9140 - player_0_loss: 20.9850 - player_0_yfake_loss: 6.6505 - player_0_yreal_loss: 13.4197 - player_1_loss: 0.9289 - player_1_yfake_loss: 0.0054 - player_1_yreal_loss: 0.0086\n",
            "Epoch 9/100\n",
            "60000/60000 [==============================] - 3s 45us/step - loss: 21.6800 - player_0_loss: 20.7531 - player_0_yfake_loss: 6.5441 - player_0_yreal_loss: 13.2976 - player_1_loss: 0.9270 - player_1_yfake_loss: 0.0063 - player_1_yreal_loss: 0.0093\n",
            "Epoch 10/100\n",
            "60000/60000 [==============================] - 3s 45us/step - loss: 22.5260 - player_0_loss: 21.5919 - player_0_yfake_loss: 6.6931 - player_0_yreal_loss: 13.9792 - player_1_loss: 0.9341 - player_1_yfake_loss: 0.0055 - player_1_yreal_loss: 0.0090\n",
            "Epoch 11/100\n",
            "60000/60000 [==============================] - 3s 45us/step - loss: 21.9284 - player_0_loss: 20.9699 - player_0_yfake_loss: 6.5948 - player_0_yreal_loss: 13.4383 - player_1_loss: 0.9585 - player_1_yfake_loss: 0.0084 - player_1_yreal_loss: 0.0134\n",
            "Epoch 12/100\n",
            "60000/60000 [==============================] - 3s 45us/step - loss: 21.6604 - player_0_loss: 20.6823 - player_0_yfake_loss: 6.6679 - player_0_yreal_loss: 13.0568 - player_1_loss: 0.9782 - player_1_yfake_loss: 0.0080 - player_1_yreal_loss: 0.0127\n",
            "Epoch 13/100\n",
            "60000/60000 [==============================] - 3s 47us/step - loss: 22.0002 - player_0_loss: 21.0140 - player_0_yfake_loss: 6.7161 - player_0_yreal_loss: 13.3318 - player_1_loss: 0.9862 - player_1_yfake_loss: 0.0079 - player_1_yreal_loss: 0.0122\n",
            "Epoch 14/100\n",
            "60000/60000 [==============================] - 3s 47us/step - loss: 21.4713 - player_0_loss: 20.4726 - player_0_yfake_loss: 6.6881 - player_0_yreal_loss: 12.8118 - player_1_loss: 0.9988 - player_1_yfake_loss: 0.0104 - player_1_yreal_loss: 0.0156\n",
            "Epoch 15/100\n",
            "60000/60000 [==============================] - 3s 46us/step - loss: 21.7621 - player_0_loss: 20.7317 - player_0_yfake_loss: 6.6764 - player_0_yreal_loss: 13.0538 - player_1_loss: 1.0304 - player_1_yfake_loss: 0.0106 - player_1_yreal_loss: 0.0183\n",
            "Epoch 16/100\n",
            "60000/60000 [==============================] - 3s 46us/step - loss: 21.8103 - player_0_loss: 20.7680 - player_0_yfake_loss: 6.5818 - player_0_yreal_loss: 13.1650 - player_1_loss: 1.0423 - player_1_yfake_loss: 0.0086 - player_1_yreal_loss: 0.0126\n",
            "Epoch 17/100\n",
            "60000/60000 [==============================] - 3s 46us/step - loss: 21.7367 - player_0_loss: 20.6701 - player_0_yfake_loss: 6.5720 - player_0_yreal_loss: 13.0606 - player_1_loss: 1.0666 - player_1_yfake_loss: 0.0109 - player_1_yreal_loss: 0.0182\n",
            "Epoch 18/100\n",
            "60000/60000 [==============================] - 3s 47us/step - loss: 21.2798 - player_0_loss: 20.1896 - player_0_yfake_loss: 6.4574 - player_0_yreal_loss: 12.6762 - player_1_loss: 1.0902 - player_1_yfake_loss: 0.0134 - player_1_yreal_loss: 0.0208\n",
            "Epoch 19/100\n",
            "60000/60000 [==============================] - 3s 46us/step - loss: 21.6786 - player_0_loss: 20.5783 - player_0_yfake_loss: 6.5217 - player_0_yreal_loss: 12.9891 - player_1_loss: 1.1003 - player_1_yfake_loss: 0.0126 - player_1_yreal_loss: 0.0201\n",
            "Epoch 20/100\n",
            "60000/60000 [==============================] - 3s 46us/step - loss: 21.2980 - player_0_loss: 20.1960 - player_0_yfake_loss: 6.2276 - player_0_yreal_loss: 12.9003 - player_1_loss: 1.1020 - player_1_yfake_loss: 0.0134 - player_1_yreal_loss: 0.0204\n",
            "Epoch 21/100\n",
            "60000/60000 [==============================] - 3s 45us/step - loss: 22.1103 - player_0_loss: 20.9844 - player_0_yfake_loss: 7.0312 - player_0_yreal_loss: 12.8576 - player_1_loss: 1.1259 - player_1_yfake_loss: 0.0121 - player_1_yreal_loss: 0.0182\n",
            "Epoch 22/100\n",
            "60000/60000 [==============================] - 3s 48us/step - loss: 21.5344 - player_0_loss: 20.3892 - player_0_yfake_loss: 6.5475 - player_0_yreal_loss: 12.7293 - player_1_loss: 1.1452 - player_1_yfake_loss: 0.0130 - player_1_yreal_loss: 0.0199\n",
            "Epoch 23/100\n",
            "60000/60000 [==============================] - 3s 46us/step - loss: 21.6936 - player_0_loss: 20.5365 - player_0_yfake_loss: 6.5784 - player_0_yreal_loss: 12.8337 - player_1_loss: 1.1571 - player_1_yfake_loss: 0.0125 - player_1_yreal_loss: 0.0203\n",
            "Epoch 24/100\n",
            "60000/60000 [==============================] - 3s 46us/step - loss: 21.7557 - player_0_loss: 20.6006 - player_0_yfake_loss: 6.6409 - player_0_yreal_loss: 12.8318 - player_1_loss: 1.1551 - player_1_yfake_loss: 0.0106 - player_1_yreal_loss: 0.0166\n",
            "Epoch 25/100\n",
            "60000/60000 [==============================] - 3s 45us/step - loss: 21.1172 - player_0_loss: 19.9476 - player_0_yfake_loss: 6.3155 - player_0_yreal_loss: 12.5022 - player_1_loss: 1.1696 - player_1_yfake_loss: 0.0153 - player_1_yreal_loss: 0.0244\n",
            "Epoch 26/100\n",
            "60000/60000 [==============================] - 3s 44us/step - loss: 21.3099 - player_0_loss: 20.1322 - player_0_yfake_loss: 6.4816 - player_0_yreal_loss: 12.5093 - player_1_loss: 1.1777 - player_1_yfake_loss: 0.0145 - player_1_yreal_loss: 0.0219\n",
            "Epoch 27/100\n",
            "60000/60000 [==============================] - 3s 44us/step - loss: 21.6983 - player_0_loss: 20.5096 - player_0_yfake_loss: 6.4778 - player_0_yreal_loss: 12.8829 - player_1_loss: 1.1887 - player_1_yfake_loss: 0.0154 - player_1_yreal_loss: 0.0245\n",
            "Epoch 28/100\n",
            "60000/60000 [==============================] - 3s 45us/step - loss: 20.9990 - player_0_loss: 19.7997 - player_0_yfake_loss: 6.3377 - player_0_yreal_loss: 12.3029 - player_1_loss: 1.1993 - player_1_yfake_loss: 0.0160 - player_1_yreal_loss: 0.0242\n",
            "Epoch 29/100\n",
            "60000/60000 [==============================] - 3s 44us/step - loss: 21.0593 - player_0_loss: 19.8451 - player_0_yfake_loss: 6.3380 - player_0_yreal_loss: 12.3328 - player_1_loss: 1.2143 - player_1_yfake_loss: 0.0160 - player_1_yreal_loss: 0.0240\n",
            "Epoch 30/100\n",
            "60000/60000 [==============================] - 3s 46us/step - loss: 21.8443 - player_0_loss: 20.6248 - player_0_yfake_loss: 6.4768 - player_0_yreal_loss: 12.9615 - player_1_loss: 1.2196 - player_1_yfake_loss: 0.0132 - player_1_yreal_loss: 0.0199\n",
            "Epoch 31/100\n",
            "60000/60000 [==============================] - 3s 46us/step - loss: 21.4679 - player_0_loss: 20.2408 - player_0_yfake_loss: 6.7444 - player_0_yreal_loss: 12.3063 - player_1_loss: 1.2271 - player_1_yfake_loss: 0.0146 - player_1_yreal_loss: 0.0225\n",
            "Epoch 32/100\n",
            "60000/60000 [==============================] - 3s 45us/step - loss: 21.3734 - player_0_loss: 20.1516 - player_0_yfake_loss: 6.6500 - player_0_yreal_loss: 12.3142 - player_1_loss: 1.2219 - player_1_yfake_loss: 0.0138 - player_1_yreal_loss: 0.0207\n",
            "Epoch 33/100\n",
            "60000/60000 [==============================] - 3s 44us/step - loss: 21.7100 - player_0_loss: 20.4866 - player_0_yfake_loss: 6.8816 - player_0_yreal_loss: 12.4129 - player_1_loss: 1.2235 - player_1_yfake_loss: 0.0127 - player_1_yreal_loss: 0.0187\n",
            "Epoch 34/100\n",
            "60000/60000 [==============================] - 3s 45us/step - loss: 22.7593 - player_0_loss: 21.5140 - player_0_yfake_loss: 7.3265 - player_0_yreal_loss: 12.9846 - player_1_loss: 1.2453 - player_1_yfake_loss: 0.0164 - player_1_yreal_loss: 0.0260\n",
            "Epoch 35/100\n",
            "60000/60000 [==============================] - 3s 44us/step - loss: 21.7677 - player_0_loss: 20.5342 - player_0_yfake_loss: 6.6667 - player_0_yreal_loss: 12.6648 - player_1_loss: 1.2335 - player_1_yfake_loss: 0.0128 - player_1_yreal_loss: 0.0181\n",
            "Epoch 36/100\n",
            "60000/60000 [==============================] - 3s 44us/step - loss: 22.0200 - player_0_loss: 20.7821 - player_0_yfake_loss: 6.7085 - player_0_yreal_loss: 12.8696 - player_1_loss: 1.2379 - player_1_yfake_loss: 0.0135 - player_1_yreal_loss: 0.0204\n",
            "Epoch 37/100\n",
            "60000/60000 [==============================] - 3s 45us/step - loss: 21.5386 - player_0_loss: 20.2947 - player_0_yfake_loss: 6.6618 - player_0_yreal_loss: 12.4302 - player_1_loss: 1.2438 - player_1_yfake_loss: 0.0167 - player_1_yreal_loss: 0.0244\n",
            "Epoch 38/100\n",
            "60000/60000 [==============================] - 3s 45us/step - loss: 20.8546 - player_0_loss: 19.5940 - player_0_yfake_loss: 6.3112 - player_0_yreal_loss: 12.0659 - player_1_loss: 1.2606 - player_1_yfake_loss: 0.0175 - player_1_yreal_loss: 0.0261\n",
            "Epoch 39/100\n",
            "60000/60000 [==============================] - 3s 43us/step - loss: 20.8067 - player_0_loss: 19.5411 - player_0_yfake_loss: 6.3025 - player_0_yreal_loss: 12.0142 - player_1_loss: 1.2656 - player_1_yfake_loss: 0.0160 - player_1_yreal_loss: 0.0252\n",
            "Epoch 40/100\n",
            "60000/60000 [==============================] - 3s 44us/step - loss: 20.3005 - player_0_loss: 19.0413 - player_0_yfake_loss: 5.9588 - player_0_yreal_loss: 11.8636 - player_1_loss: 1.2592 - player_1_yfake_loss: 0.0162 - player_1_yreal_loss: 0.0241\n",
            "Epoch 41/100\n",
            "60000/60000 [==============================] - 3s 45us/step - loss: 20.9763 - player_0_loss: 19.7121 - player_0_yfake_loss: 6.3301 - player_0_yreal_loss: 12.1679 - player_1_loss: 1.2642 - player_1_yfake_loss: 0.0198 - player_1_yreal_loss: 0.0304\n",
            "Epoch 42/100\n",
            "60000/60000 [==============================] - 3s 45us/step - loss: 21.2312 - player_0_loss: 19.9665 - player_0_yfake_loss: 6.5308 - player_0_yreal_loss: 12.2161 - player_1_loss: 1.2647 - player_1_yfake_loss: 0.0186 - player_1_yreal_loss: 0.0266\n",
            "Epoch 43/100\n",
            "60000/60000 [==============================] - 3s 45us/step - loss: 21.5738 - player_0_loss: 20.3123 - player_0_yfake_loss: 6.6324 - player_0_yreal_loss: 12.4556 - player_1_loss: 1.2615 - player_1_yfake_loss: 0.0151 - player_1_yreal_loss: 0.0222\n",
            "Epoch 44/100\n",
            "60000/60000 [==============================] - 3s 45us/step - loss: 20.7934 - player_0_loss: 19.5312 - player_0_yfake_loss: 6.4947 - player_0_yreal_loss: 11.8138 - player_1_loss: 1.2622 - player_1_yfake_loss: 0.0166 - player_1_yreal_loss: 0.0230\n",
            "Epoch 45/100\n",
            "60000/60000 [==============================] - 3s 47us/step - loss: 21.1431 - player_0_loss: 19.8724 - player_0_yfake_loss: 6.5853 - player_0_yreal_loss: 12.0551 - player_1_loss: 1.2707 - player_1_yfake_loss: 0.0169 - player_1_yreal_loss: 0.0218\n",
            "Epoch 46/100\n",
            "60000/60000 [==============================] - 3s 46us/step - loss: 21.3281 - player_0_loss: 20.0454 - player_0_yfake_loss: 6.6073 - player_0_yreal_loss: 12.1918 - player_1_loss: 1.2827 - player_1_yfake_loss: 0.0150 - player_1_yreal_loss: 0.0213\n",
            "Epoch 47/100\n",
            "60000/60000 [==============================] - 3s 47us/step - loss: 21.4499 - player_0_loss: 20.1609 - player_0_yfake_loss: 6.5809 - player_0_yreal_loss: 12.3265 - player_1_loss: 1.2890 - player_1_yfake_loss: 0.0145 - player_1_yreal_loss: 0.0209\n",
            "Epoch 48/100\n",
            "60000/60000 [==============================] - 3s 45us/step - loss: 20.7364 - player_0_loss: 19.4379 - player_0_yfake_loss: 6.1846 - player_0_yreal_loss: 12.0007 - player_1_loss: 1.2984 - player_1_yfake_loss: 0.0185 - player_1_yreal_loss: 0.0273\n",
            "Epoch 49/100\n",
            "60000/60000 [==============================] - 3s 46us/step - loss: 20.6341 - player_0_loss: 19.3292 - player_0_yfake_loss: 6.2210 - player_0_yreal_loss: 11.8567 - player_1_loss: 1.3050 - player_1_yfake_loss: 0.0220 - player_1_yreal_loss: 0.0316\n",
            "Epoch 50/100\n",
            "60000/60000 [==============================] - 3s 44us/step - loss: 21.1906 - player_0_loss: 19.8757 - player_0_yfake_loss: 6.6043 - player_0_yreal_loss: 12.0096 - player_1_loss: 1.3149 - player_1_yfake_loss: 0.0217 - player_1_yreal_loss: 0.0314\n",
            "Epoch 51/100\n",
            "60000/60000 [==============================] - 3s 44us/step - loss: 21.8120 - player_0_loss: 20.4878 - player_0_yfake_loss: 6.8098 - player_0_yreal_loss: 12.4112 - player_1_loss: 1.3242 - player_1_yfake_loss: 0.0239 - player_1_yreal_loss: 0.0335\n",
            "Epoch 52/100\n",
            "60000/60000 [==============================] - 3s 44us/step - loss: 20.8035 - player_0_loss: 19.4720 - player_0_yfake_loss: 6.2388 - player_0_yreal_loss: 11.9591 - player_1_loss: 1.3315 - player_1_yfake_loss: 0.0233 - player_1_yreal_loss: 0.0341\n",
            "Epoch 53/100\n",
            "60000/60000 [==============================] - 3s 44us/step - loss: 21.4908 - player_0_loss: 20.1594 - player_0_yfake_loss: 6.6517 - player_0_yreal_loss: 12.2254 - player_1_loss: 1.3313 - player_1_yfake_loss: 0.0205 - player_1_yreal_loss: 0.0285\n",
            "Epoch 54/100\n",
            "60000/60000 [==============================] - 3s 44us/step - loss: 21.6053 - player_0_loss: 20.2521 - player_0_yfake_loss: 6.7255 - player_0_yreal_loss: 12.2289 - player_1_loss: 1.3532 - player_1_yfake_loss: 0.0232 - player_1_yreal_loss: 0.0323\n",
            "Epoch 55/100\n",
            "60000/60000 [==============================] - 3s 43us/step - loss: 20.9286 - player_0_loss: 19.5659 - player_0_yfake_loss: 6.1937 - player_0_yreal_loss: 12.0695 - player_1_loss: 1.3627 - player_1_yfake_loss: 0.0245 - player_1_yreal_loss: 0.0355\n",
            "Epoch 56/100\n",
            "60000/60000 [==============================] - 3s 44us/step - loss: 20.1085 - player_0_loss: 18.7378 - player_0_yfake_loss: 5.7223 - player_0_yreal_loss: 11.7154 - player_1_loss: 1.3707 - player_1_yfake_loss: 0.0283 - player_1_yreal_loss: 0.0423\n",
            "Epoch 57/100\n",
            "60000/60000 [==============================] - 3s 45us/step - loss: 20.6482 - player_0_loss: 19.2916 - player_0_yfake_loss: 5.9357 - player_0_yreal_loss: 12.0611 - player_1_loss: 1.3566 - player_1_yfake_loss: 0.0249 - player_1_yreal_loss: 0.0370\n",
            "Epoch 58/100\n",
            "60000/60000 [==============================] - 3s 45us/step - loss: 21.3898 - player_0_loss: 20.0263 - player_0_yfake_loss: 6.3436 - player_0_yreal_loss: 12.3819 - player_1_loss: 1.3635 - player_1_yfake_loss: 0.0253 - player_1_yreal_loss: 0.0375\n",
            "Epoch 59/100\n",
            "60000/60000 [==============================] - 3s 44us/step - loss: 20.7805 - player_0_loss: 19.4139 - player_0_yfake_loss: 5.9203 - player_0_yreal_loss: 12.1921 - player_1_loss: 1.3666 - player_1_yfake_loss: 0.0265 - player_1_yreal_loss: 0.0386\n",
            "Epoch 60/100\n",
            "60000/60000 [==============================] - 3s 43us/step - loss: 20.9623 - player_0_loss: 19.6015 - player_0_yfake_loss: 6.0680 - player_0_yreal_loss: 12.2393 - player_1_loss: 1.3609 - player_1_yfake_loss: 0.0261 - player_1_yreal_loss: 0.0407\n",
            "Epoch 61/100\n",
            "60000/60000 [==============================] - 3s 43us/step - loss: 21.3852 - player_0_loss: 20.0085 - player_0_yfake_loss: 6.3946 - player_0_yreal_loss: 12.3047 - player_1_loss: 1.3766 - player_1_yfake_loss: 0.0275 - player_1_yreal_loss: 0.0398\n",
            "Epoch 62/100\n",
            "60000/60000 [==============================] - 3s 43us/step - loss: 20.8909 - player_0_loss: 19.4906 - player_0_yfake_loss: 6.2821 - player_0_yreal_loss: 11.8916 - player_1_loss: 1.4003 - player_1_yfake_loss: 0.0336 - player_1_yreal_loss: 0.0499\n",
            "Epoch 63/100\n",
            "60000/60000 [==============================] - 3s 43us/step - loss: 20.8941 - player_0_loss: 19.5034 - player_0_yfake_loss: 5.9553 - player_0_yreal_loss: 12.2275 - player_1_loss: 1.3907 - player_1_yfake_loss: 0.0286 - player_1_yreal_loss: 0.0416\n",
            "Epoch 64/100\n",
            "60000/60000 [==============================] - 3s 44us/step - loss: 20.2780 - player_0_loss: 18.8857 - player_0_yfake_loss: 5.7650 - player_0_yreal_loss: 11.7998 - player_1_loss: 1.3923 - player_1_yfake_loss: 0.0287 - player_1_yreal_loss: 0.0429\n",
            "Epoch 65/100\n",
            "60000/60000 [==============================] - 3s 43us/step - loss: 19.7286 - player_0_loss: 18.3183 - player_0_yfake_loss: 5.6048 - player_0_yreal_loss: 11.3969 - player_1_loss: 1.4103 - player_1_yfake_loss: 0.0384 - player_1_yreal_loss: 0.0553\n",
            "Epoch 66/100\n",
            "60000/60000 [==============================] - 3s 44us/step - loss: 20.1864 - player_0_loss: 18.7901 - player_0_yfake_loss: 5.6248 - player_0_yreal_loss: 11.8516 - player_1_loss: 1.3963 - player_1_yfake_loss: 0.0336 - player_1_yreal_loss: 0.0489\n",
            "Epoch 67/100\n",
            "60000/60000 [==============================] - 3s 44us/step - loss: 20.0105 - player_0_loss: 18.6002 - player_0_yfake_loss: 5.6853 - player_0_yreal_loss: 11.5975 - player_1_loss: 1.4103 - player_1_yfake_loss: 0.0368 - player_1_yreal_loss: 0.0560\n",
            "Epoch 68/100\n",
            "60000/60000 [==============================] - 3s 43us/step - loss: 20.6348 - player_0_loss: 19.2221 - player_0_yfake_loss: 5.8930 - player_0_yreal_loss: 12.0018 - player_1_loss: 1.4126 - player_1_yfake_loss: 0.0340 - player_1_yreal_loss: 0.0514\n",
            "Epoch 69/100\n",
            "60000/60000 [==============================] - 3s 44us/step - loss: 20.0186 - player_0_loss: 18.6046 - player_0_yfake_loss: 5.4684 - player_0_yreal_loss: 11.8107 - player_1_loss: 1.4139 - player_1_yfake_loss: 0.0358 - player_1_yreal_loss: 0.0527\n",
            "Epoch 70/100\n",
            "60000/60000 [==============================] - 3s 45us/step - loss: 20.2262 - player_0_loss: 18.8305 - player_0_yfake_loss: 5.6725 - player_0_yreal_loss: 11.8355 - player_1_loss: 1.3957 - player_1_yfake_loss: 0.0299 - player_1_yreal_loss: 0.0433\n",
            "Epoch 71/100\n",
            "60000/60000 [==============================] - 3s 44us/step - loss: 20.6707 - player_0_loss: 19.2590 - player_0_yfake_loss: 6.0179 - player_0_yreal_loss: 11.9111 - player_1_loss: 1.4116 - player_1_yfake_loss: 0.0325 - player_1_yreal_loss: 0.0491\n",
            "Epoch 72/100\n",
            "60000/60000 [==============================] - 3s 44us/step - loss: 19.8400 - player_0_loss: 18.4259 - player_0_yfake_loss: 5.6705 - player_0_yreal_loss: 11.4256 - player_1_loss: 1.4141 - player_1_yfake_loss: 0.0352 - player_1_yreal_loss: 0.0492\n",
            "Epoch 73/100\n",
            "60000/60000 [==============================] - 3s 45us/step - loss: 20.9544 - player_0_loss: 19.5269 - player_0_yfake_loss: 6.4106 - player_0_yreal_loss: 11.7677 - player_1_loss: 1.4275 - player_1_yfake_loss: 0.0329 - player_1_yreal_loss: 0.0459\n",
            "Epoch 74/100\n",
            "60000/60000 [==============================] - 3s 45us/step - loss: 20.1561 - player_0_loss: 18.7164 - player_0_yfake_loss: 5.8252 - player_0_yreal_loss: 11.5453 - player_1_loss: 1.4397 - player_1_yfake_loss: 0.0378 - player_1_yreal_loss: 0.0560\n",
            "Epoch 75/100\n",
            "60000/60000 [==============================] - 3s 45us/step - loss: 20.0057 - player_0_loss: 18.5713 - player_0_yfake_loss: 5.5849 - player_0_yreal_loss: 11.6445 - player_1_loss: 1.4344 - player_1_yfake_loss: 0.0374 - player_1_yreal_loss: 0.0550\n",
            "Epoch 76/100\n",
            "60000/60000 [==============================] - 3s 44us/step - loss: 20.9923 - player_0_loss: 19.5589 - player_0_yfake_loss: 6.1314 - player_0_yreal_loss: 12.0840 - player_1_loss: 1.4334 - player_1_yfake_loss: 0.0357 - player_1_yreal_loss: 0.0542\n",
            "Epoch 77/100\n",
            "60000/60000 [==============================] - 3s 44us/step - loss: 20.0765 - player_0_loss: 18.6272 - player_0_yfake_loss: 5.8079 - player_0_yreal_loss: 11.4701 - player_1_loss: 1.4493 - player_1_yfake_loss: 0.0409 - player_1_yreal_loss: 0.0593\n",
            "Epoch 78/100\n",
            "60000/60000 [==============================] - 3s 42us/step - loss: 19.8261 - player_0_loss: 18.3607 - player_0_yfake_loss: 5.6083 - player_0_yreal_loss: 11.3850 - player_1_loss: 1.4654 - player_1_yfake_loss: 0.0405 - player_1_yreal_loss: 0.0576\n",
            "Epoch 79/100\n",
            "60000/60000 [==============================] - 3s 45us/step - loss: 19.7028 - player_0_loss: 18.2367 - player_0_yfake_loss: 5.4092 - player_0_yreal_loss: 11.4593 - player_1_loss: 1.4660 - player_1_yfake_loss: 0.0406 - player_1_yreal_loss: 0.0571\n",
            "Epoch 80/100\n",
            "60000/60000 [==============================] - 3s 46us/step - loss: 19.6217 - player_0_loss: 18.1512 - player_0_yfake_loss: 5.4539 - player_0_yreal_loss: 11.3332 - player_1_loss: 1.4705 - player_1_yfake_loss: 0.0434 - player_1_yreal_loss: 0.0631\n",
            "Epoch 81/100\n",
            "60000/60000 [==============================] - 3s 45us/step - loss: 20.7068 - player_0_loss: 19.2471 - player_0_yfake_loss: 5.9513 - player_0_yreal_loss: 11.9249 - player_1_loss: 1.4597 - player_1_yfake_loss: 0.0359 - player_1_yreal_loss: 0.0528\n",
            "Epoch 82/100\n",
            "60000/60000 [==============================] - 3s 45us/step - loss: 19.6452 - player_0_loss: 18.1784 - player_0_yfake_loss: 5.4934 - player_0_yreal_loss: 11.3141 - player_1_loss: 1.4668 - player_1_yfake_loss: 0.0392 - player_1_yreal_loss: 0.0566\n",
            "Epoch 83/100\n",
            "60000/60000 [==============================] - 3s 44us/step - loss: 20.3217 - player_0_loss: 18.8475 - player_0_yfake_loss: 5.9271 - player_0_yreal_loss: 11.5328 - player_1_loss: 1.4742 - player_1_yfake_loss: 0.0364 - player_1_yreal_loss: 0.0502\n",
            "Epoch 84/100\n",
            "60000/60000 [==============================] - 3s 43us/step - loss: 19.3189 - player_0_loss: 17.8290 - player_0_yfake_loss: 5.3561 - player_0_yreal_loss: 11.0880 - player_1_loss: 1.4900 - player_1_yfake_loss: 0.0440 - player_1_yreal_loss: 0.0610\n",
            "Epoch 85/100\n",
            "60000/60000 [==============================] - 3s 43us/step - loss: 20.1753 - player_0_loss: 18.6984 - player_0_yfake_loss: 5.7249 - player_0_yreal_loss: 11.5842 - player_1_loss: 1.4769 - player_1_yfake_loss: 0.0371 - player_1_yreal_loss: 0.0506\n",
            "Epoch 86/100\n",
            "60000/60000 [==============================] - 3s 44us/step - loss: 19.8047 - player_0_loss: 18.3166 - player_0_yfake_loss: 5.6060 - player_0_yreal_loss: 11.3244 - player_1_loss: 1.4881 - player_1_yfake_loss: 0.0407 - player_1_yreal_loss: 0.0612\n",
            "Epoch 87/100\n",
            "60000/60000 [==============================] - 3s 45us/step - loss: 19.6282 - player_0_loss: 18.1315 - player_0_yfake_loss: 5.3101 - player_0_yreal_loss: 11.4303 - player_1_loss: 1.4967 - player_1_yfake_loss: 0.0431 - player_1_yreal_loss: 0.0626\n",
            "Epoch 88/100\n",
            "60000/60000 [==============================] - 3s 45us/step - loss: 19.3696 - player_0_loss: 17.8699 - player_0_yfake_loss: 5.2389 - player_0_yreal_loss: 11.2401 - player_1_loss: 1.4998 - player_1_yfake_loss: 0.0438 - player_1_yreal_loss: 0.0651\n",
            "Epoch 89/100\n",
            "60000/60000 [==============================] - 3s 45us/step - loss: 19.8607 - player_0_loss: 18.3721 - player_0_yfake_loss: 5.4885 - player_0_yreal_loss: 11.4976 - player_1_loss: 1.4885 - player_1_yfake_loss: 0.0415 - player_1_yreal_loss: 0.0610\n",
            "Epoch 90/100\n",
            "60000/60000 [==============================] - 3s 45us/step - loss: 19.9179 - player_0_loss: 18.4321 - player_0_yfake_loss: 5.4797 - player_0_yreal_loss: 11.5665 - player_1_loss: 1.4858 - player_1_yfake_loss: 0.0415 - player_1_yreal_loss: 0.0585\n",
            "Epoch 91/100\n",
            "60000/60000 [==============================] - 3s 44us/step - loss: 19.8477 - player_0_loss: 18.3512 - player_0_yfake_loss: 5.6176 - player_0_yreal_loss: 11.3433 - player_1_loss: 1.4965 - player_1_yfake_loss: 0.0430 - player_1_yreal_loss: 0.0632\n",
            "Epoch 92/100\n",
            "60000/60000 [==============================] - 3s 44us/step - loss: 20.1386 - player_0_loss: 18.6592 - player_0_yfake_loss: 5.7464 - player_0_yreal_loss: 11.5203 - player_1_loss: 1.4794 - player_1_yfake_loss: 0.0378 - player_1_yreal_loss: 0.0492\n",
            "Epoch 93/100\n",
            "60000/60000 [==============================] - 3s 45us/step - loss: 20.2374 - player_0_loss: 18.7496 - player_0_yfake_loss: 5.7570 - player_0_yreal_loss: 11.6026 - player_1_loss: 1.4878 - player_1_yfake_loss: 0.0415 - player_1_yreal_loss: 0.0563\n",
            "Epoch 94/100\n",
            "60000/60000 [==============================] - 3s 44us/step - loss: 19.7031 - player_0_loss: 18.2124 - player_0_yfake_loss: 5.3261 - player_0_yreal_loss: 11.4992 - player_1_loss: 1.4907 - player_1_yfake_loss: 0.0435 - player_1_yreal_loss: 0.0601\n",
            "Epoch 95/100\n",
            "60000/60000 [==============================] - 3s 46us/step - loss: 18.9700 - player_0_loss: 17.4708 - player_0_yfake_loss: 5.2730 - player_0_yreal_loss: 10.8117 - player_1_loss: 1.4993 - player_1_yfake_loss: 0.0463 - player_1_yreal_loss: 0.0669\n",
            "Epoch 96/100\n",
            "60000/60000 [==============================] - 3s 45us/step - loss: 19.0122 - player_0_loss: 17.5025 - player_0_yfake_loss: 5.3987 - player_0_yreal_loss: 10.7109 - player_1_loss: 1.5097 - player_1_yfake_loss: 0.0486 - player_1_yreal_loss: 0.0682\n",
            "Epoch 97/100\n",
            "60000/60000 [==============================] - 3s 45us/step - loss: 19.2693 - player_0_loss: 17.7663 - player_0_yfake_loss: 5.4946 - player_0_yreal_loss: 10.8749 - player_1_loss: 1.5029 - player_1_yfake_loss: 0.0433 - player_1_yreal_loss: 0.0628\n",
            "Epoch 98/100\n",
            "60000/60000 [==============================] - 3s 46us/step - loss: 19.2850 - player_0_loss: 17.7862 - player_0_yfake_loss: 5.5075 - player_0_yreal_loss: 10.8829 - player_1_loss: 1.4988 - player_1_yfake_loss: 0.0434 - player_1_yreal_loss: 0.0596\n",
            "Epoch 99/100\n",
            "60000/60000 [==============================] - 3s 44us/step - loss: 19.2849 - player_0_loss: 17.7652 - player_0_yfake_loss: 5.4243 - player_0_yreal_loss: 10.9361 - player_1_loss: 1.5197 - player_1_yfake_loss: 0.0477 - player_1_yreal_loss: 0.0673\n",
            "Epoch 100/100\n",
            "60000/60000 [==============================] - 3s 44us/step - loss: 19.5973 - player_0_loss: 18.0943 - player_0_yfake_loss: 5.6441 - player_0_yreal_loss: 11.0466 - player_1_loss: 1.5031 - player_1_yfake_loss: 0.0421 - player_1_yreal_loss: 0.0574\n"
          ],
          "name": "stdout"
        },
        {
          "output_type": "execute_result",
          "data": {
            "text/plain": [
              "<keras.callbacks.History at 0x7fb4b00f9278>"
            ]
          },
          "metadata": {
            "tags": []
          },
          "execution_count": 16
        }
      ]
    },
    {
      "cell_type": "code",
      "metadata": {
        "id": "6pfcK0im8855",
        "colab_type": "code",
        "colab": {}
      },
      "source": [
        "amostras = np.random.normal(size = (10, 100))#10 amostras de imagens com 100 atributos pois a entrada da rede neural e 100\n",
        "previsao = gerador.predict(amostras)#o unico valor que precisa salvar na rede neural é o gerador pois com apenas ele já é possivel criar imagens"
      ],
      "execution_count": 0,
      "outputs": []
    },
    {
      "cell_type": "code",
      "metadata": {
        "id": "1zewdPLR9ZZ_",
        "colab_type": "code",
        "colab": {
          "base_uri": "https://localhost:8080/",
          "height": 1000
        },
        "outputId": "6e873153-bdf8-48f1-8fbb-ab81b46f6e7c"
      },
      "source": [
        "for i in range(previsao.shape[0]):\n",
        "  plt.imshow(previsao[i, :], cmap = 'gray')#cmap deixa a imagem em uma unica cor\n",
        "  plt.show()"
      ],
      "execution_count": 18,
      "outputs": [
        {
          "output_type": "display_data",
          "data": {
            "image/png": "[encoded data removed]",
            "text/plain": [
              "<Figure size 432x288 with 1 Axes>"
            ]
          },
          "metadata": {
            "tags": []
          }
        },
        {
          "output_type": "display_data",
          "data": {
            "image/png": "[encoded data removed]",
            "text/plain": [
              "<Figure size 432x288 with 1 Axes>"
            ]
          },
          "metadata": {
            "tags": []
          }
        },
        {
          "output_type": "display_data",
          "data": {
            "image/png": "[encoded data removed]",
            "text/plain": [
              "<Figure size 432x288 with 1 Axes>"
            ]
          },
          "metadata": {
            "tags": []
          }
        },
        {
          "output_type": "display_data",
          "data": {
            "image/png": "[encoded data removed]",
            "text/plain": [
              "<Figure size 432x288 with 1 Axes>"
            ]
          },
          "metadata": {
            "tags": []
          }
        },
        {
          "output_type": "display_data",
          "data": {
            "image/png": "[encoded data removed]",
            "text/plain": [
              "<Figure size 432x288 with 1 Axes>"
            ]
          },
          "metadata": {
            "tags": []
          }
        },
        {
          "output_type": "display_data",
          "data": {
            "image/png": "[encoded data removed]",
            "text/plain": [
              "<Figure size 432x288 with 1 Axes>"
            ]
          },
          "metadata": {
            "tags": []
          }
        },
        {
          "output_type": "display_data",
          "data": {
            "image/png": "[encoded data removed]",
            "text/plain": [
              "<Figure size 432x288 with 1 Axes>"
            ]
          },
          "metadata": {
            "tags": []
          }
        },
        {
          "output_type": "display_data",
          "data": {
            "image/png": "[encoded data removed]",
            "text/plain": [
              "<Figure size 432x288 with 1 Axes>"
            ]
          },
          "metadata": {
            "tags": []
          }
        },
        {
          "output_type": "display_data",
          "data": {
            "image/png": "[encoded data removed]",
            "text/plain": [
              "<Figure size 432x288 with 1 Axes>"
            ]
          },
          "metadata": {
            "tags": []
          }
        },
        {
          "output_type": "display_data",
          "data": {
            "image/png": "[encoded data removed]",
            "text/plain": [
              "<Figure size 432x288 with 1 Axes>"
            ]
          },
          "metadata": {
            "tags": []
          }
        }
      ]
    }
  ]
}