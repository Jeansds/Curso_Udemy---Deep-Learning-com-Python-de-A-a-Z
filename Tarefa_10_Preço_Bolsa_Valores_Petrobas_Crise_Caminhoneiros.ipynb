{
  "nbformat": 4,
  "nbformat_minor": 0,
  "metadata": {
    "colab": {
      "name": "Tarefa_10_Preço_Bolsa_Valores_Petrobas_Crise_Caminhoneiros",
      "provenance": [],
      "include_colab_link": true
    },
    "kernelspec": {
      "name": "python3",
      "display_name": "Python 3"
    }
  },
  "cells": [
    {
      "cell_type": "markdown",
      "metadata": {
        "id": "view-in-github",
        "colab_type": "text"
      },
      "source": [
        "<a href=\"https://colab.research.google.com/github/Jeansds/Curso_Udemy---Deep-Learning-com-Python-de-A-a-Z/blob/master/Tarefa_10_Pre%C3%A7o_Bolsa_Valores_Petrobas_Crise_Caminhoneiros.ipynb\" target=\"_parent\"><img src=\"https://colab.research.google.com/assets/colab-badge.svg\" alt=\"Open In Colab\"/></a>"
      ]
    },
    {
      "cell_type": "markdown",
      "metadata": {
        "id": "BO10hjyymaVM",
        "colab_type": "text"
      },
      "source": [
        "Link Download base\n",
        "[link text](https://br.financas.yahoo.com/quote/PETR4.SA/history?period1=1356998400&period2=1517356800&interval=1d&filter=history&frequency=1d)\n",
        "\n",
        "Treino até Dezembro 2017\n",
        "\n",
        "Teste Inicio de Janeiro ao Final de Janeiro"
      ]
    },
    {
      "cell_type": "code",
      "metadata": {
        "id": "XYrxfTWqmABM",
        "colab_type": "code",
        "colab": {}
      },
      "source": [
        "from keras.models import Sequential\n",
        "from keras.layers import Dense, Dropout, LSTM\n",
        "import numpy as np\n",
        "import pandas as pd\n",
        "from sklearn.preprocessing import MinMaxScaler\n",
        "import matplotlib.pyplot as plt"
      ],
      "execution_count": 0,
      "outputs": []
    },
    {
      "cell_type": "code",
      "metadata": {
        "id": "j25fmKsznwb5",
        "colab_type": "code",
        "colab": {}
      },
      "source": [
        "base = pd.read_csv('/content/sample_data/petr4_treinamento_ex.csv')\n",
        "base = base.dropna()#dropa valores nulos\n",
        "base_treinamento = base.iloc[:, 1:2].values #pega somento o valor ontem no caso preço de abertura\n",
        "\n",
        "normalizador = MinMaxScaler(feature_range = (0, 1))\n",
        "base_treinamento_normalizada = normalizador.fit_transform(base_treinamento)# deixa a base de treinamento normalizada entre 0 e 1"
      ],
      "execution_count": 0,
      "outputs": []
    },
    {
      "cell_type": "code",
      "metadata": {
        "id": "7TDskHXnyPGU",
        "colab_type": "code",
        "colab": {}
      },
      "source": [
        "previsores = []\n",
        "preco_real = []\n",
        "for i in range(90, len(base_treinamento_normalizada)):\n",
        "  previsores.append(base_treinamento_normalizada[i - 90: i, 0])\n",
        "  preco_real.append(base_treinamento_normalizada[i, 0])\n",
        "previsores, preco = np.array(previsores), np.array(preco_real)\n",
        "previsores = np.reshape(previsores, (previsores.shape[0], previsores.shape[1], 1))"
      ],
      "execution_count": 0,
      "outputs": []
    },
    {
      "cell_type": "code",
      "metadata": {
        "id": "IlCBsQWT1ieo",
        "colab_type": "code",
        "outputId": "5a3711ee-228c-4b67-a70e-24243c16b3b1",
        "colab": {
          "base_uri": "https://localhost:8080/",
          "height": 1000
        }
      },
      "source": [
        "regressor = Sequential()\n",
        "regressor.add(LSTM(units = 100, return_sequences = True, input_shape = (previsores.shape[1], 1)))#return_sequences passa a informacao para as proxima camada LSTM\n",
        "regressor.add(Dropout(0.3))\n",
        "\n",
        "regressor.add(LSTM(units = 50, return_sequences = True))\n",
        "regressor.add(Dropout(0.3))\n",
        "\n",
        "regressor.add(LSTM(units = 50, return_sequences = True))\n",
        "regressor.add(Dropout(0.3))\n",
        "\n",
        "regressor.add(LSTM(units = 50))\n",
        "regressor.add(Dropout(0.3))\n",
        "\n",
        "regressor.add(Dense(units = 1, activation = 'linear'))\n",
        "\n",
        "regressor.compile(optimizer = 'rmsprop', loss = 'mean_squared_error',\n",
        "                  metrics = ['mean_absolute_error'])#adam tambem server porem para redes recorrentes o rmsprop pode trazer melhores resultados\n",
        "regressor.fit(previsores, preco_real, epochs = 30, batch_size = 32)"
      ],
      "execution_count": 0,
      "outputs": [
        {
          "output_type": "stream",
          "text": [
            "WARNING:tensorflow:From /usr/local/lib/python3.6/dist-packages/keras/backend/tensorflow_backend.py:66: The name tf.get_default_graph is deprecated. Please use tf.compat.v1.get_default_graph instead.\n",
            "\n",
            "WARNING:tensorflow:From /usr/local/lib/python3.6/dist-packages/keras/backend/tensorflow_backend.py:541: The name tf.placeholder is deprecated. Please use tf.compat.v1.placeholder instead.\n",
            "\n",
            "WARNING:tensorflow:From /usr/local/lib/python3.6/dist-packages/keras/backend/tensorflow_backend.py:4432: The name tf.random_uniform is deprecated. Please use tf.random.uniform instead.\n",
            "\n",
            "WARNING:tensorflow:From /usr/local/lib/python3.6/dist-packages/keras/backend/tensorflow_backend.py:148: The name tf.placeholder_with_default is deprecated. Please use tf.compat.v1.placeholder_with_default instead.\n",
            "\n",
            "WARNING:tensorflow:From /usr/local/lib/python3.6/dist-packages/keras/backend/tensorflow_backend.py:3733: calling dropout (from tensorflow.python.ops.nn_ops) with keep_prob is deprecated and will be removed in a future version.\n",
            "Instructions for updating:\n",
            "Please use `rate` instead of `keep_prob`. Rate should be set to `rate = 1 - keep_prob`.\n",
            "WARNING:tensorflow:From /usr/local/lib/python3.6/dist-packages/keras/optimizers.py:793: The name tf.train.Optimizer is deprecated. Please use tf.compat.v1.train.Optimizer instead.\n",
            "\n",
            "WARNING:tensorflow:From /usr/local/lib/python3.6/dist-packages/tensorflow_core/python/ops/math_grad.py:1424: where (from tensorflow.python.ops.array_ops) is deprecated and will be removed in a future version.\n",
            "Instructions for updating:\n",
            "Use tf.where in 2.0, which has the same broadcast rule as np.where\n",
            "WARNING:tensorflow:From /usr/local/lib/python3.6/dist-packages/keras/backend/tensorflow_backend.py:1033: The name tf.assign_add is deprecated. Please use tf.compat.v1.assign_add instead.\n",
            "\n",
            "WARNING:tensorflow:From /usr/local/lib/python3.6/dist-packages/keras/backend/tensorflow_backend.py:1020: The name tf.assign is deprecated. Please use tf.compat.v1.assign instead.\n",
            "\n",
            "WARNING:tensorflow:From /usr/local/lib/python3.6/dist-packages/keras/backend/tensorflow_backend.py:3005: The name tf.Session is deprecated. Please use tf.compat.v1.Session instead.\n",
            "\n",
            "Epoch 1/30\n",
            "WARNING:tensorflow:From /usr/local/lib/python3.6/dist-packages/keras/backend/tensorflow_backend.py:190: The name tf.get_default_session is deprecated. Please use tf.compat.v1.get_default_session instead.\n",
            "\n",
            "WARNING:tensorflow:From /usr/local/lib/python3.6/dist-packages/keras/backend/tensorflow_backend.py:197: The name tf.ConfigProto is deprecated. Please use tf.compat.v1.ConfigProto instead.\n",
            "\n",
            "WARNING:tensorflow:From /usr/local/lib/python3.6/dist-packages/keras/backend/tensorflow_backend.py:207: The name tf.global_variables is deprecated. Please use tf.compat.v1.global_variables instead.\n",
            "\n",
            "WARNING:tensorflow:From /usr/local/lib/python3.6/dist-packages/keras/backend/tensorflow_backend.py:216: The name tf.is_variable_initialized is deprecated. Please use tf.compat.v1.is_variable_initialized instead.\n",
            "\n",
            "WARNING:tensorflow:From /usr/local/lib/python3.6/dist-packages/keras/backend/tensorflow_backend.py:223: The name tf.variables_initializer is deprecated. Please use tf.compat.v1.variables_initializer instead.\n",
            "\n",
            "1252/1252 [==============================] - 15s 12ms/step - loss: 0.0290 - mean_absolute_error: 0.1265\n",
            "Epoch 2/30\n",
            "1252/1252 [==============================] - 13s 10ms/step - loss: 0.0136 - mean_absolute_error: 0.0884\n",
            "Epoch 3/30\n",
            "1252/1252 [==============================] - 13s 11ms/step - loss: 0.0116 - mean_absolute_error: 0.0821\n",
            "Epoch 4/30\n",
            "1252/1252 [==============================] - 13s 11ms/step - loss: 0.0086 - mean_absolute_error: 0.0714\n",
            "Epoch 5/30\n",
            "1252/1252 [==============================] - 13s 11ms/step - loss: 0.0099 - mean_absolute_error: 0.0760\n",
            "Epoch 6/30\n",
            "1252/1252 [==============================] - 13s 10ms/step - loss: 0.0075 - mean_absolute_error: 0.0650\n",
            "Epoch 7/30\n",
            "1252/1252 [==============================] - 13s 11ms/step - loss: 0.0075 - mean_absolute_error: 0.0660\n",
            "Epoch 8/30\n",
            "1252/1252 [==============================] - 13s 10ms/step - loss: 0.0063 - mean_absolute_error: 0.0579\n",
            "Epoch 9/30\n",
            "1252/1252 [==============================] - 13s 11ms/step - loss: 0.0060 - mean_absolute_error: 0.0590\n",
            "Epoch 10/30\n",
            "1252/1252 [==============================] - 13s 11ms/step - loss: 0.0057 - mean_absolute_error: 0.0569\n",
            "Epoch 11/30\n",
            "1252/1252 [==============================] - 13s 10ms/step - loss: 0.0052 - mean_absolute_error: 0.0540\n",
            "Epoch 12/30\n",
            "1252/1252 [==============================] - 13s 11ms/step - loss: 0.0048 - mean_absolute_error: 0.0527\n",
            "Epoch 13/30\n",
            "1252/1252 [==============================] - 13s 11ms/step - loss: 0.0047 - mean_absolute_error: 0.0529\n",
            "Epoch 14/30\n",
            "1252/1252 [==============================] - 13s 11ms/step - loss: 0.0050 - mean_absolute_error: 0.0524\n",
            "Epoch 15/30\n",
            "1252/1252 [==============================] - 13s 10ms/step - loss: 0.0043 - mean_absolute_error: 0.0493\n",
            "Epoch 16/30\n",
            "1252/1252 [==============================] - 13s 11ms/step - loss: 0.0042 - mean_absolute_error: 0.0485\n",
            "Epoch 17/30\n",
            "1252/1252 [==============================] - 13s 11ms/step - loss: 0.0037 - mean_absolute_error: 0.0460\n",
            "Epoch 18/30\n",
            "1252/1252 [==============================] - 13s 11ms/step - loss: 0.0040 - mean_absolute_error: 0.0471\n",
            "Epoch 19/30\n",
            "1252/1252 [==============================] - 13s 11ms/step - loss: 0.0033 - mean_absolute_error: 0.0435\n",
            "Epoch 20/30\n",
            "1252/1252 [==============================] - 13s 10ms/step - loss: 0.0034 - mean_absolute_error: 0.0442\n",
            "Epoch 21/30\n",
            "1252/1252 [==============================] - 13s 10ms/step - loss: 0.0033 - mean_absolute_error: 0.0435\n",
            "Epoch 22/30\n",
            "1252/1252 [==============================] - 13s 11ms/step - loss: 0.0035 - mean_absolute_error: 0.0447\n",
            "Epoch 23/30\n",
            "1252/1252 [==============================] - 13s 11ms/step - loss: 0.0031 - mean_absolute_error: 0.0416\n",
            "Epoch 24/30\n",
            "1252/1252 [==============================] - 13s 10ms/step - loss: 0.0031 - mean_absolute_error: 0.0424\n",
            "Epoch 25/30\n",
            "1252/1252 [==============================] - 13s 11ms/step - loss: 0.0034 - mean_absolute_error: 0.0434\n",
            "Epoch 26/30\n",
            "1252/1252 [==============================] - 13s 11ms/step - loss: 0.0028 - mean_absolute_error: 0.0393\n",
            "Epoch 27/30\n",
            "1252/1252 [==============================] - 13s 11ms/step - loss: 0.0031 - mean_absolute_error: 0.0420\n",
            "Epoch 28/30\n",
            "1252/1252 [==============================] - 13s 11ms/step - loss: 0.0029 - mean_absolute_error: 0.0403\n",
            "Epoch 29/30\n",
            "1252/1252 [==============================] - 13s 11ms/step - loss: 0.0029 - mean_absolute_error: 0.0418\n",
            "Epoch 30/30\n",
            "1252/1252 [==============================] - 13s 11ms/step - loss: 0.0027 - mean_absolute_error: 0.0388\n"
          ],
          "name": "stdout"
        },
        {
          "output_type": "execute_result",
          "data": {
            "text/plain": [
              "<keras.callbacks.History at 0x7fe6daea8d30>"
            ]
          },
          "metadata": {
            "tags": []
          },
          "execution_count": 7
        }
      ]
    },
    {
      "cell_type": "code",
      "metadata": {
        "id": "fSggpJzO4GCO",
        "colab_type": "code",
        "colab": {}
      },
      "source": [
        "base_teste = pd.read_csv('/content/sample_data/petr4_teste_ex.csv')\n",
        "preco_real_teste = base_teste.iloc[:, 1:2].values\n",
        "base_completa = pd.concat((base['Open'], base_teste['Open']), axis = 0)#concatena 2 arquivos, axis =0 indica que isto e feito por coluna\n",
        "entradas = base_completa[len(base_completa) - len(base_teste)- 90:].values\n",
        "entradas = entradas.reshape(-1, 1)\n",
        "entradas = normalizador.transform(entradas)"
      ],
      "execution_count": 0,
      "outputs": []
    },
    {
      "cell_type": "code",
      "metadata": {
        "id": "2PDb9dkM6DND",
        "colab_type": "code",
        "outputId": "5b441f8a-524e-4448-ab35-e5e3b685c87d",
        "colab": {
          "base_uri": "https://localhost:8080/",
          "height": 357
        }
      },
      "source": [
        "X_teste = []\n",
        "for i in range(90, len(entradas)):\n",
        "  X_teste.append(entradas[i-90: i, 0])\n",
        "X_teste = np.array(X_teste)\n",
        "X_teste = np.reshape(X_teste, (X_teste.shape[0], X_teste.shape[1], 1))\n",
        "previsores = regressor.predict(X_teste)\n",
        "previsores = normalizador.inverse_transform(previsores)# desnormaliza os dados\n",
        "for i in range(len(previsores)):\n",
        "  print(previsores[i], preco_real_teste[i])\n",
        "print(\"Diferença Media: \" , previsores.mean() - preco_real_teste.mean())"
      ],
      "execution_count": 0,
      "outputs": [
        {
          "output_type": "stream",
          "text": [
            "[19.422255] [19.200001]\n",
            "[18.310741] [18.]\n",
            "[17.432177] [18.389999]\n",
            "[16.968357] [19.559999]\n",
            "[17.10843] [17.290001]\n",
            "[17.33893] [17.360001]\n",
            "[17.322515] [16.469999]\n",
            "[16.930206] [16.]\n",
            "[16.294724] [15.81]\n",
            "[15.663562] [15.5]\n",
            "[15.201315] [15.48]\n",
            "[14.97316] [15.42]\n",
            "[14.934812] [15.33]\n",
            "[14.977413] [15.03]\n",
            "[14.971316] [14.77]\n",
            "[14.848564] [14.26]\n",
            "[14.587948] [15.84]\n",
            "[14.480237] [16.09]\n",
            "[14.666667] [15.41]\n",
            "Diferença Media:  -0.25140476026032843\n"
          ],
          "name": "stdout"
        }
      ]
    },
    {
      "cell_type": "code",
      "metadata": {
        "id": "-k1Ha65l9SN2",
        "colab_type": "code",
        "outputId": "0c86a7f3-0767-425b-d48b-bd00e9f76cd9",
        "colab": {
          "base_uri": "https://localhost:8080/",
          "height": 295
        }
      },
      "source": [
        "plt.plot(preco_real_teste, color = 'red', label = 'Preço real')\n",
        "plt.plot(previsores, color = 'blue', label = 'Previsões')\n",
        "plt.title('Previsão Preco das Ações')\n",
        "plt.xlabel('Tempo')\n",
        "plt.ylabel('Valor Yahoo')\n",
        "plt.legend()\n",
        "plt.show()"
      ],
      "execution_count": 0,
      "outputs": [
        {
          "output_type": "display_data",
          "data": {
            "image/png": "[encoded data removed]",
            "text/plain": [
              "<Figure size 432x288 with 1 Axes>"
            ]
          },
          "metadata": {
            "tags": []
          }
        }
      ]
    }
  ]
}