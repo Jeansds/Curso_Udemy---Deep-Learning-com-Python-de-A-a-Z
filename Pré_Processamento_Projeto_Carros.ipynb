{
  "nbformat": 4,
  "nbformat_minor": 0,
  "metadata": {
    "colab": {
      "name": "Pré_Processamento_Projeto_Carros",
      "provenance": [],
      "authorship_tag": "ABX9TyPYqkUchJq0ieKNA4RAQ2N9",
      "include_colab_link": true
    },
    "kernelspec": {
      "name": "python3",
      "display_name": "Python 3"
    }
  },
  "cells": [
    {
      "cell_type": "markdown",
      "metadata": {
        "id": "view-in-github",
        "colab_type": "text"
      },
      "source": [
        "<a href=\"https://colab.research.google.com/github/Jeansds/Curso_Udemy---Deep-Learning-com-Python-de-A-a-Z/blob/master/Pr%C3%A9_Processamento_Projeto_Carros.ipynb\" target=\"_parent\"><img src=\"https://colab.research.google.com/assets/colab-badge.svg\" alt=\"Open In Colab\"/></a>"
      ]
    },
    {
      "cell_type": "markdown",
      "metadata": {
        "id": "Ui0b3qw_AKlg",
        "colab_type": "text"
      },
      "source": [
        "# link download base dados\n",
        "[link text](https://storage.googleapis.com/kaggle-data-sets/402/793065/bundle/archive.zip?GoogleAccessId=web-data@kaggle-161607.iam.gserviceaccount.com&Expires=1583407591&Signature=TEsbAF4fzLr2smCA94imiqVJjTfaXC3Dn4aEBaOVzIahvI0p3FIpWKAzIArV%2FTbQRsUGCi1Uc0uWhe3hLaFVIsbiFIB%2FUeml8xexM73oEo%2BZndGOcZrz9jq81ssg%2FC0WbI3Piopg1IB6chmfFhQw352d1Sa5eyHKIa2p4sA4xI6N6k0nN1CvOMUwIm7jtveHWGoqdPlZbvH4emV0dLKbqtGQ%2FzThoPPLqC3s%2BmyoHCFf%2BL7nxkcke3j7gaaqlSRE7Q3SMZC66apPXJrwMTh5ZwM5to3g08X%2BlDv44nRn6VcqUoj6T%2BIJwyEfL4DSftGCq2xg15SeATsYu2%2FWQfX6CQ%3D%3D&response-content-disposition=attachment%3B+filename%3Dused-cars-database.zip)"
      ]
    },
    {
      "cell_type": "code",
      "metadata": {
        "id": "QwWCTuj-AC5D",
        "colab_type": "code",
        "colab": {}
      },
      "source": [
        "import pandas as pd\n",
        "from sklearn.preprocessing import LabelEncoder, OneHotEncoder\n",
        "from sklearn.compose import ColumnTransformer\n",
        "from keras.models import Sequential\n",
        "from keras.layers import Dense\n",
        "from sklearn.model_selection import cross_val_score\n",
        "from keras.wrapper.scikit-learn import KerasRegressor"
      ],
      "execution_count": 0,
      "outputs": []
    },
    {
      "cell_type": "code",
      "metadata": {
        "id": "Uwhi-C8iFl9V",
        "colab_type": "code",
        "outputId": "93971354-1ab2-48d1-a48b-77609a6e852e",
        "colab": {
          "base_uri": "https://localhost:8080/",
          "height": 289
        }
      },
      "source": [
        "base = pd.read_csv('/content/sample_data/autos.csv', encoding = 'ISO-8859-1')\n",
        "Dados = ['name', 'seller', 'offerType']\n",
        "print([base[i].value_counts() for i in Dados])"
      ],
      "execution_count": 45,
      "outputs": [
        {
          "output_type": "stream",
          "text": [
            "[Ford_Fiesta                                       657\n",
            "BMW_318i                                          627\n",
            "Opel_Corsa                                        622\n",
            "Volkswagen_Golf_1.4                               603\n",
            "BMW_316i                                          523\n",
            "                                                 ... \n",
            "Volkswagen_Fox_1.2_schwarz_Autogas                  1\n",
            "Peugeot_206_cc_Platinium_136Ps                      1\n",
            "VW_POLO_6n2_Kombi                                   1\n",
            "Renault_Twingo_mit_TÜV___NEU!!!                     1\n",
            "Opel_Astra_Cabrio_1.6i_Bertone__LEDER__el.Dach      1\n",
            "Name: name, Length: 233531, dtype: int64, privat        371525\n",
            "gewerblich         3\n",
            "Name: seller, dtype: int64, Angebot    371516\n",
            "Gesuch         12\n",
            "Name: offerType, dtype: int64]\n"
          ],
          "name": "stdout"
        }
      ]
    },
    {
      "cell_type": "code",
      "metadata": {
        "id": "KhJSQUY8DLJn",
        "colab_type": "code",
        "colab": {}
      },
      "source": [
        "Dados=['dateCrawled', 'dateCreated', 'nrOfPictures', 'postalCode', 'lastSeen', 'name', 'seller', 'offerType']\n",
        "for i in Dados:\n",
        "  base = base.drop(i, axis = 1)"
      ],
      "execution_count": 0,
      "outputs": []
    },
    {
      "cell_type": "code",
      "metadata": {
        "id": "3xjXt6E-EHDR",
        "colab_type": "code",
        "outputId": "fbab7b0f-6368-48cb-b45b-a42682e90832",
        "colab": {
          "base_uri": "https://localhost:8080/",
          "height": 493
        }
      },
      "source": [
        "print(base.loc[base.price <= 10])\n",
        "base = base[base.price > 10]\n",
        "print(base.loc[base.price > 350000])\n",
        "base = base.loc[base.price < 350000]"
      ],
      "execution_count": 47,
      "outputs": [
        {
          "output_type": "stream",
          "text": [
            "        price   abtest vehicleType  ...  fuelType           brand  notRepairedDamage\n",
            "7           0     test   limousine  ...    benzin      volkswagen               nein\n",
            "40          0     test         NaN  ...    benzin            opel                NaN\n",
            "60          1  control         suv  ...       NaN  sonstige_autos                NaN\n",
            "91          1  control   limousine  ...    diesel   mercedes_benz               nein\n",
            "115         0     test         NaN  ...    benzin      volkswagen                NaN\n",
            "...       ...      ...         ...  ...       ...             ...                ...\n",
            "371356      0  control         NaN  ...       NaN            opel                 ja\n",
            "371392      0     test  kleinwagen  ...    benzin            ford                NaN\n",
            "371402      0  control  kleinwagen  ...    benzin          suzuki                NaN\n",
            "371431      0  control  kleinwagen  ...    benzin            seat                 ja\n",
            "371522      0  control         NaN  ...    benzin      mitsubishi                 ja\n",
            "\n",
            "[12118 rows x 12 columns]\n",
            "           price   abtest  ...           brand  notRepairedDamage\n",
            "1846      579000  control  ...             bmw               nein\n",
            "10649     420000  control  ...         porsche               nein\n",
            "14663   11111111  control  ...      volkswagen                NaN\n",
            "16889    1000000  control  ...            ford                 ja\n",
            "20143    1250000     test  ...         porsche               nein\n",
            "...          ...      ...  ...             ...                ...\n",
            "364171   3890000     test  ...  sonstige_autos               nein\n",
            "365461    599000  control  ...             bmw               nein\n",
            "366653  99999999  control  ...             bmw                NaN\n",
            "366861   3895000     test  ...  sonstige_autos               nein\n",
            "367041   1600000     test  ...  sonstige_autos               nein\n",
            "\n",
            "[115 rows x 12 columns]\n"
          ],
          "name": "stdout"
        }
      ]
    },
    {
      "cell_type": "code",
      "metadata": {
        "id": "1KKbiEOeIexr",
        "colab_type": "code",
        "outputId": "16804e01-3755-4a39-d1b7-edabe93b521e",
        "colab": {
          "base_uri": "https://localhost:8080/",
          "height": 1000
        }
      },
      "source": [
        "Dados = ['vehicleType', 'gearbox', 'model', 'fuelType', 'notRepairedDamage']\n",
        "for i in Dados:\n",
        "  print(base.loc[pd.isnull(base[i])])\n",
        "  print(base[i].value_counts())"
      ],
      "execution_count": 48,
      "outputs": [
        {
          "output_type": "stream",
          "text": [
            "        price   abtest vehicleType  ...  fuelType           brand  notRepairedDamage\n",
            "0         480     test         NaN  ...    benzin      volkswagen                NaN\n",
            "16        300     test         NaN  ...    benzin      volkswagen                NaN\n",
            "22       2900     test         NaN  ...    benzin            opel               nein\n",
            "26       5555  control         NaN  ...       NaN         citroen               nein\n",
            "31        899  control         NaN  ...    benzin         renault                NaN\n",
            "...       ...      ...         ...  ...       ...             ...                ...\n",
            "371495    180  control         NaN  ...    benzin            opel                NaN\n",
            "371504   2600  control         NaN  ...       NaN   mercedes_benz                NaN\n",
            "371509   1900     test         NaN  ...       NaN      volkswagen               nein\n",
            "371519   5250  control         NaN  ...       NaN      alfa_romeo               nein\n",
            "371523   2200     test         NaN  ...       NaN  sonstige_autos                NaN\n",
            "\n",
            "[33546 rows x 12 columns]\n",
            "limousine     93614\n",
            "kleinwagen    78014\n",
            "kombi         65921\n",
            "bus           29699\n",
            "cabrio        22509\n",
            "coupe         18386\n",
            "suv           14477\n",
            "andere         3125\n",
            "Name: vehicleType, dtype: int64\n",
            "        price   abtest vehicleType  ...  fuelType           brand  notRepairedDamage\n",
            "15        450     test  kleinwagen  ...    benzin            ford                NaN\n",
            "16        300     test         NaN  ...    benzin      volkswagen                NaN\n",
            "32        245     test   limousine  ...    benzin      volkswagen               nein\n",
            "37       1500     test         NaN  ...    diesel         renault               nein\n",
            "70       1200     test       coupe  ...       NaN            opel                NaN\n",
            "...       ...      ...         ...  ...       ...             ...                ...\n",
            "371443   3300  control       kombi  ...    diesel      volkswagen                NaN\n",
            "371460   3500  control         NaN  ...       NaN      volkswagen                NaN\n",
            "371486    350  control  kleinwagen  ...       NaN            fiat                NaN\n",
            "371495    180  control         NaN  ...    benzin            opel                NaN\n",
            "371523   2200     test         NaN  ...       NaN  sonstige_autos                NaN\n",
            "\n",
            "[17236 rows x 12 columns]\n",
            "manuell      266547\n",
            "automatik     75508\n",
            "Name: gearbox, dtype: int64\n",
            "        price   abtest vehicleType  ...  fuelType           brand  notRepairedDamage\n",
            "1       18300     test       coupe  ...    diesel            audi                 ja\n",
            "83        350  control  kleinwagen  ...       NaN            fiat                 ja\n",
            "139      1450  control   limousine  ...       NaN            audi               nein\n",
            "156      6799  control  kleinwagen  ...    benzin      volkswagen               nein\n",
            "165       500  control  kleinwagen  ...    benzin         renault               nein\n",
            "...       ...      ...         ...  ...       ...             ...                ...\n",
            "371399    560  control  kleinwagen  ...    benzin            fiat                 ja\n",
            "371476   9400  control       kombi  ...    diesel  sonstige_autos                 ja\n",
            "371495    180  control         NaN  ...    benzin            opel                NaN\n",
            "371509   1900     test         NaN  ...       NaN      volkswagen               nein\n",
            "371523   2200     test         NaN  ...       NaN  sonstige_autos                NaN\n",
            "\n",
            "[17967 rows x 12 columns]\n",
            "golf               28989\n",
            "andere             25560\n",
            "3er                19905\n",
            "polo               12604\n",
            "corsa              12149\n",
            "                   ...  \n",
            "serie_2                8\n",
            "rangerover             6\n",
            "serie_3                3\n",
            "serie_1                1\n",
            "discovery_sport        1\n",
            "Name: model, Length: 251, dtype: int64\n",
            "        price   abtest vehicleType  ...  fuelType           brand  notRepairedDamage\n",
            "9         999     test  kleinwagen  ...       NaN      volkswagen                NaN\n",
            "13       2500  control       kombi  ...       NaN      volkswagen               nein\n",
            "26       5555  control         NaN  ...       NaN         citroen               nein\n",
            "36       1600  control      andere  ...       NaN            opel                NaN\n",
            "41       7500  control   limousine  ...       NaN   mercedes_benz                NaN\n",
            "...       ...      ...         ...  ...       ...             ...                ...\n",
            "371496   3850     test      cabrio  ...       NaN         peugeot               nein\n",
            "371504   2600  control         NaN  ...       NaN   mercedes_benz                NaN\n",
            "371509   1900     test         NaN  ...       NaN      volkswagen               nein\n",
            "371519   5250  control         NaN  ...       NaN      alfa_romeo               nein\n",
            "371523   2200     test         NaN  ...       NaN  sonstige_autos                NaN\n",
            "\n",
            "[29391 rows x 12 columns]\n",
            "benzin     217582\n",
            "diesel     106002\n",
            "lpg          5222\n",
            "cng           557\n",
            "hybrid        271\n",
            "andere        165\n",
            "elektro       101\n",
            "Name: fuelType, dtype: int64\n",
            "        price   abtest vehicleType  ...  fuelType           brand  notRepairedDamage\n",
            "0         480     test         NaN  ...    benzin      volkswagen                NaN\n",
            "2        9800     test         suv  ...    diesel            jeep                NaN\n",
            "8       14500  control         bus  ...    benzin            ford                NaN\n",
            "9         999     test  kleinwagen  ...       NaN      volkswagen                NaN\n",
            "12        999  control       kombi  ...    benzin      volkswagen                NaN\n",
            "...       ...      ...         ...  ...       ...             ...                ...\n",
            "371507   5999     test       kombi  ...    diesel            audi                NaN\n",
            "371514    999  control      cabrio  ...    benzin         renault                NaN\n",
            "371515   1690     test       kombi  ...    benzin           skoda                NaN\n",
            "371523   2200     test         NaN  ...       NaN  sonstige_autos                NaN\n",
            "371526   3400     test       kombi  ...    diesel      volkswagen                NaN\n",
            "\n",
            "[65986 rows x 12 columns]\n",
            "nein    259301\n",
            "ja       34004\n",
            "Name: notRepairedDamage, dtype: int64\n"
          ],
          "name": "stdout"
        }
      ]
    },
    {
      "cell_type": "code",
      "metadata": {
        "id": "WQCQGM_PKveB",
        "colab_type": "code",
        "colab": {}
      },
      "source": [
        "valores = {'vehicleType': 'limousine', 'gearbox': 'manuell',\n",
        "           'model': 'golf', 'fuelType': 'benzin',\n",
        "           'notRepairedDamage': 'nein'}\n",
        "base = base.fillna(value = valores)"
      ],
      "execution_count": 0,
      "outputs": []
    },
    {
      "cell_type": "code",
      "metadata": {
        "id": "LWlTmEtDOm1y",
        "colab_type": "code",
        "colab": {
          "base_uri": "https://localhost:8080/",
          "height": 34
        },
        "outputId": "7b442986-0767-4602-a528-94033180692e"
      },
      "source": [
        "previsores = base.iloc[:, 1:13].values\n",
        "preco_real = base.iloc[:, 0].values\n",
        "Transformadores = [0, 1, 3, 5, 8, 9, 10]\n",
        "labelenconder_previsores = LabelEncoder()\n",
        "for i in Transformadores:\n",
        "  previsores[:, i] = labelenconder_previsores.fit_transform(previsores[:, i])\n",
        "print(previsores[0])"
      ],
      "execution_count": 50,
      "outputs": [
        {
          "output_type": "stream",
          "text": [
            "[1 6 1993 1 0 118 150000 0 1 38 1]\n"
          ],
          "name": "stdout"
        }
      ]
    },
    {
      "cell_type": "code",
      "metadata": {
        "id": "iFHovHF6RlcA",
        "colab_type": "code",
        "colab": {
          "base_uri": "https://localhost:8080/",
          "height": 136
        },
        "outputId": "8a82077d-ac70-491b-8884-115e5da58f53"
      },
      "source": [
        "onehotencorder = ColumnTransformer(transformers=[(\"OneHot\", OneHotEncoder(), Transformadores)],remainder='passthrough')\n",
        "previsores = onehotencorder.fit_transform(previsores).toarray()\n",
        "print(previsores)"
      ],
      "execution_count": 51,
      "outputs": [
        {
          "output_type": "stream",
          "text": [
            "[[0.00e+00 1.00e+00 0.00e+00 ... 0.00e+00 1.50e+05 0.00e+00]\n",
            " [0.00e+00 1.00e+00 0.00e+00 ... 1.90e+02 1.25e+05 5.00e+00]\n",
            " [0.00e+00 1.00e+00 0.00e+00 ... 1.63e+02 1.25e+05 8.00e+00]\n",
            " ...\n",
            " [0.00e+00 1.00e+00 0.00e+00 ... 1.02e+02 1.50e+05 3.00e+00]\n",
            " [0.00e+00 1.00e+00 0.00e+00 ... 1.00e+02 1.50e+05 6.00e+00]\n",
            " [1.00e+00 0.00e+00 0.00e+00 ... 3.20e+02 5.00e+04 8.00e+00]]\n"
          ],
          "name": "stdout"
        }
      ]
    },
    {
      "cell_type": "code",
      "metadata": {
        "id": "6QgODYyOXpYU",
        "colab_type": "code",
        "colab": {
          "base_uri": "https://localhost:8080/",
          "height": 1000
        },
        "outputId": "658f84b5-7cc9-415e-d248-b1b6f445c47a"
      },
      "source": [
        "#Inicio da Construção Rede Neural\n",
        "regressor = Sequential()\n",
        "regressor.add(Dense(units = 158, activation = 'relu', input_dim = 316))\n",
        "regressor.add(Dense(units = 158, activation = 'relu'))\n",
        "regressor.add(Dense(units = 1, activation = 'linear'))\n",
        "regressor.compile(loss = 'mean_absolute_error', optimizer = 'adam',\n",
        "                  metrics = ['mean_absolute_error'])\n",
        "regressor.fit(previsores, preco_real, batch_size = 300, epochs = 100)"
      ],
      "execution_count": 53,
      "outputs": [
        {
          "output_type": "stream",
          "text": [
            "Epoch 1/100\n",
            "WARNING:tensorflow:From /usr/local/lib/python3.6/dist-packages/keras/backend/tensorflow_backend.py:190: The name tf.get_default_session is deprecated. Please use tf.compat.v1.get_default_session instead.\n",
            "\n",
            "WARNING:tensorflow:From /usr/local/lib/python3.6/dist-packages/keras/backend/tensorflow_backend.py:197: The name tf.ConfigProto is deprecated. Please use tf.compat.v1.ConfigProto instead.\n",
            "\n",
            "WARNING:tensorflow:From /usr/local/lib/python3.6/dist-packages/keras/backend/tensorflow_backend.py:207: The name tf.global_variables is deprecated. Please use tf.compat.v1.global_variables instead.\n",
            "\n",
            "WARNING:tensorflow:From /usr/local/lib/python3.6/dist-packages/keras/backend/tensorflow_backend.py:216: The name tf.is_variable_initialized is deprecated. Please use tf.compat.v1.is_variable_initialized instead.\n",
            "\n",
            "WARNING:tensorflow:From /usr/local/lib/python3.6/dist-packages/keras/backend/tensorflow_backend.py:223: The name tf.variables_initializer is deprecated. Please use tf.compat.v1.variables_initializer instead.\n",
            "\n",
            "359291/359291 [==============================] - 10s 28us/step - loss: 3951.4921 - mean_absolute_error: 3951.4921\n",
            "Epoch 2/100\n",
            "359291/359291 [==============================] - 9s 26us/step - loss: 3451.4364 - mean_absolute_error: 3451.4364\n",
            "Epoch 3/100\n",
            "359291/359291 [==============================] - 9s 26us/step - loss: 3347.2336 - mean_absolute_error: 3347.2336\n",
            "Epoch 4/100\n",
            "359291/359291 [==============================] - 9s 26us/step - loss: 3169.5397 - mean_absolute_error: 3169.5397\n",
            "Epoch 5/100\n",
            "359291/359291 [==============================] - 9s 26us/step - loss: 2991.0964 - mean_absolute_error: 2991.0964\n",
            "Epoch 6/100\n",
            "359291/359291 [==============================] - 9s 26us/step - loss: 2892.5311 - mean_absolute_error: 2892.5311\n",
            "Epoch 7/100\n",
            "359291/359291 [==============================] - 10s 27us/step - loss: 2809.7109 - mean_absolute_error: 2809.7109\n",
            "Epoch 8/100\n",
            "359291/359291 [==============================] - 9s 26us/step - loss: 2752.1980 - mean_absolute_error: 2752.1980\n",
            "Epoch 9/100\n",
            "359291/359291 [==============================] - 9s 26us/step - loss: 2687.5062 - mean_absolute_error: 2687.5062\n",
            "Epoch 10/100\n",
            "359291/359291 [==============================] - 9s 25us/step - loss: 2644.5767 - mean_absolute_error: 2644.5767\n",
            "Epoch 11/100\n",
            "359291/359291 [==============================] - 9s 26us/step - loss: 2596.5385 - mean_absolute_error: 2596.5385\n",
            "Epoch 12/100\n",
            "359291/359291 [==============================] - 9s 26us/step - loss: 2561.1418 - mean_absolute_error: 2561.1418\n",
            "Epoch 13/100\n",
            "359291/359291 [==============================] - 10s 29us/step - loss: 2523.6767 - mean_absolute_error: 2523.6767\n",
            "Epoch 14/100\n",
            "359291/359291 [==============================] - 10s 27us/step - loss: 2498.0650 - mean_absolute_error: 2498.0650\n",
            "Epoch 15/100\n",
            "359291/359291 [==============================] - 10s 27us/step - loss: 2475.6780 - mean_absolute_error: 2475.6780\n",
            "Epoch 16/100\n",
            "359291/359291 [==============================] - 10s 27us/step - loss: 2477.6606 - mean_absolute_error: 2477.6606\n",
            "Epoch 17/100\n",
            "359291/359291 [==============================] - 10s 28us/step - loss: 2436.8072 - mean_absolute_error: 2436.8072\n",
            "Epoch 18/100\n",
            "359291/359291 [==============================] - 9s 26us/step - loss: 2445.0745 - mean_absolute_error: 2445.0745\n",
            "Epoch 19/100\n",
            "359291/359291 [==============================] - 9s 26us/step - loss: 2434.7723 - mean_absolute_error: 2434.7723\n",
            "Epoch 20/100\n",
            "359291/359291 [==============================] - 10s 27us/step - loss: 2437.6202 - mean_absolute_error: 2437.6202\n",
            "Epoch 21/100\n",
            "359291/359291 [==============================] - 10s 26us/step - loss: 2427.0876 - mean_absolute_error: 2427.0876\n",
            "Epoch 22/100\n",
            "359291/359291 [==============================] - 9s 26us/step - loss: 2417.2925 - mean_absolute_error: 2417.2925\n",
            "Epoch 23/100\n",
            "359291/359291 [==============================] - 9s 26us/step - loss: 2419.2644 - mean_absolute_error: 2419.2644\n",
            "Epoch 24/100\n",
            "359291/359291 [==============================] - 10s 27us/step - loss: 2411.5369 - mean_absolute_error: 2411.5369\n",
            "Epoch 25/100\n",
            "359291/359291 [==============================] - 9s 26us/step - loss: 2390.0227 - mean_absolute_error: 2390.0227\n",
            "Epoch 26/100\n",
            "359291/359291 [==============================] - 9s 26us/step - loss: 2399.3075 - mean_absolute_error: 2399.3075\n",
            "Epoch 27/100\n",
            "359291/359291 [==============================] - 10s 27us/step - loss: 2393.2641 - mean_absolute_error: 2393.2641\n",
            "Epoch 28/100\n",
            "359291/359291 [==============================] - 10s 27us/step - loss: 2385.7230 - mean_absolute_error: 2385.7230\n",
            "Epoch 29/100\n",
            "359291/359291 [==============================] - 10s 27us/step - loss: 2372.5739 - mean_absolute_error: 2372.5739\n",
            "Epoch 30/100\n",
            "359291/359291 [==============================] - 9s 26us/step - loss: 2379.7969 - mean_absolute_error: 2379.7969\n",
            "Epoch 31/100\n",
            "359291/359291 [==============================] - 10s 27us/step - loss: 2363.7693 - mean_absolute_error: 2363.7693\n",
            "Epoch 32/100\n",
            "359291/359291 [==============================] - 9s 26us/step - loss: 2375.7878 - mean_absolute_error: 2375.7878\n",
            "Epoch 33/100\n",
            "359291/359291 [==============================] - 10s 27us/step - loss: 2371.0470 - mean_absolute_error: 2371.0470\n",
            "Epoch 34/100\n",
            "359291/359291 [==============================] - 9s 26us/step - loss: 2360.7374 - mean_absolute_error: 2360.7374\n",
            "Epoch 35/100\n",
            "359291/359291 [==============================] - 9s 26us/step - loss: 2352.8871 - mean_absolute_error: 2352.8871\n",
            "Epoch 36/100\n",
            "359291/359291 [==============================] - 9s 26us/step - loss: 2357.8047 - mean_absolute_error: 2357.8047\n",
            "Epoch 37/100\n",
            "359291/359291 [==============================] - 9s 26us/step - loss: 2359.1403 - mean_absolute_error: 2359.1403\n",
            "Epoch 38/100\n",
            "359291/359291 [==============================] - 9s 26us/step - loss: 2358.6994 - mean_absolute_error: 2358.6994\n",
            "Epoch 39/100\n",
            "359291/359291 [==============================] - 9s 26us/step - loss: 2338.8146 - mean_absolute_error: 2338.8146\n",
            "Epoch 40/100\n",
            "359291/359291 [==============================] - 10s 27us/step - loss: 2350.8122 - mean_absolute_error: 2350.8122\n",
            "Epoch 41/100\n",
            "359291/359291 [==============================] - 10s 27us/step - loss: 2343.6252 - mean_absolute_error: 2343.6252\n",
            "Epoch 42/100\n",
            "359291/359291 [==============================] - 9s 26us/step - loss: 2344.3658 - mean_absolute_error: 2344.3658\n",
            "Epoch 43/100\n",
            "359291/359291 [==============================] - 9s 26us/step - loss: 2340.3112 - mean_absolute_error: 2340.3112\n",
            "Epoch 44/100\n",
            "359291/359291 [==============================] - 9s 25us/step - loss: 2336.1195 - mean_absolute_error: 2336.1195\n",
            "Epoch 45/100\n",
            "359291/359291 [==============================] - 11s 30us/step - loss: 2336.0596 - mean_absolute_error: 2336.0596\n",
            "Epoch 46/100\n",
            "359291/359291 [==============================] - 10s 28us/step - loss: 2332.1733 - mean_absolute_error: 2332.1733\n",
            "Epoch 47/100\n",
            "359291/359291 [==============================] - 10s 28us/step - loss: 2324.1746 - mean_absolute_error: 2324.1746\n",
            "Epoch 48/100\n",
            "359291/359291 [==============================] - 10s 28us/step - loss: 2318.0726 - mean_absolute_error: 2318.0726\n",
            "Epoch 49/100\n",
            "359291/359291 [==============================] - 10s 28us/step - loss: 2324.6739 - mean_absolute_error: 2324.6739\n",
            "Epoch 50/100\n",
            "359291/359291 [==============================] - 9s 26us/step - loss: 2317.7977 - mean_absolute_error: 2317.7977\n",
            "Epoch 51/100\n",
            "359291/359291 [==============================] - 10s 27us/step - loss: 2315.3170 - mean_absolute_error: 2315.3170\n",
            "Epoch 52/100\n",
            "359291/359291 [==============================] - 10s 27us/step - loss: 2327.2675 - mean_absolute_error: 2327.2675\n",
            "Epoch 53/100\n",
            "359291/359291 [==============================] - 10s 28us/step - loss: 2303.2210 - mean_absolute_error: 2303.2210\n",
            "Epoch 54/100\n",
            "359291/359291 [==============================] - 10s 27us/step - loss: 2309.2860 - mean_absolute_error: 2309.2860\n",
            "Epoch 55/100\n",
            "359291/359291 [==============================] - 10s 27us/step - loss: 2306.1816 - mean_absolute_error: 2306.1816\n",
            "Epoch 56/100\n",
            "359291/359291 [==============================] - 10s 27us/step - loss: 2303.5564 - mean_absolute_error: 2303.5564\n",
            "Epoch 57/100\n",
            "359291/359291 [==============================] - 10s 28us/step - loss: 2309.1528 - mean_absolute_error: 2309.1528\n",
            "Epoch 58/100\n",
            "359291/359291 [==============================] - 10s 28us/step - loss: 2314.8546 - mean_absolute_error: 2314.8546\n",
            "Epoch 59/100\n",
            "359291/359291 [==============================] - 10s 27us/step - loss: 2297.4607 - mean_absolute_error: 2297.4607\n",
            "Epoch 60/100\n",
            "359291/359291 [==============================] - 10s 27us/step - loss: 2308.7070 - mean_absolute_error: 2308.7070\n",
            "Epoch 61/100\n",
            "359291/359291 [==============================] - 10s 27us/step - loss: 2290.0817 - mean_absolute_error: 2290.0817\n",
            "Epoch 62/100\n",
            "359291/359291 [==============================] - 10s 27us/step - loss: 2292.6604 - mean_absolute_error: 2292.6604\n",
            "Epoch 63/100\n",
            "359291/359291 [==============================] - 10s 28us/step - loss: 2285.0108 - mean_absolute_error: 2285.0108\n",
            "Epoch 64/100\n",
            "359291/359291 [==============================] - 10s 28us/step - loss: 2289.3198 - mean_absolute_error: 2289.3198\n",
            "Epoch 65/100\n",
            "359291/359291 [==============================] - 10s 28us/step - loss: 2307.8229 - mean_absolute_error: 2307.8229\n",
            "Epoch 66/100\n",
            "359291/359291 [==============================] - 10s 28us/step - loss: 2294.9932 - mean_absolute_error: 2294.9932\n",
            "Epoch 67/100\n",
            "359291/359291 [==============================] - 10s 28us/step - loss: 2279.5262 - mean_absolute_error: 2279.5262\n",
            "Epoch 68/100\n",
            "359291/359291 [==============================] - 12s 34us/step - loss: 2287.8902 - mean_absolute_error: 2287.8902\n",
            "Epoch 69/100\n",
            "359291/359291 [==============================] - 12s 33us/step - loss: 2290.0285 - mean_absolute_error: 2290.0285\n",
            "Epoch 70/100\n",
            "359291/359291 [==============================] - 11s 32us/step - loss: 2276.4154 - mean_absolute_error: 2276.4154\n",
            "Epoch 71/100\n",
            "359291/359291 [==============================] - 11s 31us/step - loss: 2274.0726 - mean_absolute_error: 2274.0726\n",
            "Epoch 72/100\n",
            "359291/359291 [==============================] - 11s 29us/step - loss: 2278.8164 - mean_absolute_error: 2278.8164\n",
            "Epoch 73/100\n",
            "359291/359291 [==============================] - 11s 29us/step - loss: 2274.9099 - mean_absolute_error: 2274.9099\n",
            "Epoch 74/100\n",
            "359291/359291 [==============================] - 11s 29us/step - loss: 2266.1512 - mean_absolute_error: 2266.1512\n",
            "Epoch 75/100\n",
            "359291/359291 [==============================] - 10s 28us/step - loss: 2288.8636 - mean_absolute_error: 2288.8636\n",
            "Epoch 76/100\n",
            "359291/359291 [==============================] - 13s 35us/step - loss: 2274.1132 - mean_absolute_error: 2274.1132\n",
            "Epoch 77/100\n",
            "359291/359291 [==============================] - 11s 31us/step - loss: 2271.2550 - mean_absolute_error: 2271.2550\n",
            "Epoch 78/100\n",
            "359291/359291 [==============================] - 11s 31us/step - loss: 2276.0255 - mean_absolute_error: 2276.0255\n",
            "Epoch 79/100\n",
            "359291/359291 [==============================] - 11s 30us/step - loss: 2273.0871 - mean_absolute_error: 2273.0871\n",
            "Epoch 80/100\n",
            "359291/359291 [==============================] - 11s 29us/step - loss: 2268.4375 - mean_absolute_error: 2268.4375\n",
            "Epoch 81/100\n",
            "359291/359291 [==============================] - 11s 32us/step - loss: 2275.9401 - mean_absolute_error: 2275.9401\n",
            "Epoch 82/100\n",
            "359291/359291 [==============================] - 13s 37us/step - loss: 2261.7212 - mean_absolute_error: 2261.7212\n",
            "Epoch 83/100\n",
            "359291/359291 [==============================] - 14s 39us/step - loss: 2270.8753 - mean_absolute_error: 2270.8753\n",
            "Epoch 84/100\n",
            "359291/359291 [==============================] - 14s 40us/step - loss: 2258.4986 - mean_absolute_error: 2258.4986\n",
            "Epoch 85/100\n",
            "359291/359291 [==============================] - 14s 39us/step - loss: 2255.2620 - mean_absolute_error: 2255.2620\n",
            "Epoch 86/100\n",
            "359291/359291 [==============================] - 15s 40us/step - loss: 2262.4359 - mean_absolute_error: 2262.4359\n",
            "Epoch 87/100\n",
            "359291/359291 [==============================] - 14s 40us/step - loss: 2260.1388 - mean_absolute_error: 2260.1388\n",
            "Epoch 88/100\n",
            "359291/359291 [==============================] - 14s 39us/step - loss: 2261.1270 - mean_absolute_error: 2261.1270\n",
            "Epoch 89/100\n",
            "359291/359291 [==============================] - 14s 39us/step - loss: 2256.2995 - mean_absolute_error: 2256.2995\n",
            "Epoch 90/100\n",
            "359291/359291 [==============================] - 15s 41us/step - loss: 2252.7772 - mean_absolute_error: 2252.7772\n",
            "Epoch 91/100\n",
            "359291/359291 [==============================] - 15s 41us/step - loss: 2258.6954 - mean_absolute_error: 2258.6954\n",
            "Epoch 92/100\n",
            "359291/359291 [==============================] - 13s 36us/step - loss: 2251.1276 - mean_absolute_error: 2251.1276\n",
            "Epoch 93/100\n",
            "359291/359291 [==============================] - 14s 38us/step - loss: 2252.8309 - mean_absolute_error: 2252.8309\n",
            "Epoch 94/100\n",
            "359291/359291 [==============================] - 11s 30us/step - loss: 2250.1674 - mean_absolute_error: 2250.1674\n",
            "Epoch 95/100\n",
            "359291/359291 [==============================] - 9s 26us/step - loss: 2248.5336 - mean_absolute_error: 2248.5336\n",
            "Epoch 96/100\n",
            "359291/359291 [==============================] - 9s 26us/step - loss: 2243.7444 - mean_absolute_error: 2243.7444\n",
            "Epoch 97/100\n",
            "359291/359291 [==============================] - 9s 25us/step - loss: 2243.3441 - mean_absolute_error: 2243.3441\n",
            "Epoch 98/100\n",
            "359291/359291 [==============================] - 9s 25us/step - loss: 2249.5842 - mean_absolute_error: 2249.5842\n",
            "Epoch 99/100\n",
            "359291/359291 [==============================] - 9s 26us/step - loss: 2247.2589 - mean_absolute_error: 2247.2589\n",
            "Epoch 100/100\n",
            "359291/359291 [==============================] - 9s 25us/step - loss: 2253.3796 - mean_absolute_error: 2253.3796\n"
          ],
          "name": "stdout"
        },
        {
          "output_type": "execute_result",
          "data": {
            "text/plain": [
              "<keras.callbacks.History at 0x7f47c375c470>"
            ]
          },
          "metadata": {
            "tags": []
          },
          "execution_count": 53
        }
      ]
    },
    {
      "cell_type": "code",
      "metadata": {
        "id": "BCNa5NVgaSPz",
        "colab_type": "code",
        "colab": {}
      },
      "source": [
        "def criar_rede():\n",
        "  regressor = Sequential()\n",
        "  regressor.add(Dense(units = 158, activation = 'relu', input_dim = 316))\n",
        "  regressor.add(Dense(units = 158, activation = 'relu'))\n",
        "  regressor.add(Dense(units = 1, activation = 'linear'))\n",
        "  regressor.compile(loss = 'mean_absolute_error', optimizer = 'adam',\n",
        "                    metrics = ['mean_absolute_error'])\n",
        "  return regressor"
      ],
      "execution_count": 0,
      "outputs": []
    },
    {
      "cell_type": "code",
      "metadata": {
        "id": "rew0264ob2SP",
        "colab_type": "code",
        "colab": {}
      },
      "source": [
        "#validação cruzada\n",
        "regressor = KerasRegressor(build_fn = criar_rede,\n",
        "                           epochs = 100,\n",
        "                           batch_size = 300)\n",
        "resultados = cross_val_score(estimator = regressor,\n",
        "                             X = previsores, y = preco_real,\n",
        "                             cv = 10, scoring = 'mean_absolute_error')\n",
        "print(media = resultados.mean())\n",
        "print(desvio = resultados.std())"
      ],
      "execution_count": 0,
      "outputs": []
    }
  ]
}