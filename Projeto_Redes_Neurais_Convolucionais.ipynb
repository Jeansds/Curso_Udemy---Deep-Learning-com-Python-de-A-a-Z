{
  "nbformat": 4,
  "nbformat_minor": 0,
  "metadata": {
    "colab": {
      "name": "Projeto_Redes_Neurais_Convolucionais",
      "provenance": [],
      "authorship_tag": "ABX9TyOFW1ZsdERboIhcUp0Yd6dz",
      "include_colab_link": true
    },
    "kernelspec": {
      "name": "python3",
      "display_name": "Python 3"
    }
  },
  "cells": [
    {
      "cell_type": "markdown",
      "metadata": {
        "id": "view-in-github",
        "colab_type": "text"
      },
      "source": [
        "<a href=\"https://colab.research.google.com/github/Jeansds/Curso_Udemy---Deep-Learning-com-Python-de-A-a-Z/blob/master/Projeto_Redes_Neurais_Convolucionais.ipynb\" target=\"_parent\"><img src=\"https://colab.research.google.com/assets/colab-badge.svg\" alt=\"Open In Colab\"/></a>"
      ]
    },
    {
      "cell_type": "code",
      "metadata": {
        "id": "yl8xsWqv2VDF",
        "colab_type": "code",
        "colab": {
          "base_uri": "https://localhost:8080/",
          "height": 80
        },
        "outputId": "4d7b5cad-52a0-49db-d5f0-bc82a810138b"
      },
      "source": [
        "import numpy as np\n",
        "from keras.datasets import mnist\n",
        "from keras.models import Model, Sequential\n",
        "from keras.layers import Input, Dense, Conv2D, MaxPooling2D, UpSampling2D, Flatten, Reshape\n",
        "import matplotlib.pyplot as plt"
      ],
      "execution_count": 1,
      "outputs": [
        {
          "output_type": "stream",
          "text": [
            "Using TensorFlow backend.\n"
          ],
          "name": "stderr"
        },
        {
          "output_type": "display_data",
          "data": {
            "text/html": [
              "<p style=\"color: red;\">\n",
              "The default version of TensorFlow in Colab will soon switch to TensorFlow 2.x.<br>\n",
              "We recommend you <a href=\"https://www.tensorflow.org/guide/migrate\" target=\"_blank\">upgrade</a> now \n",
              "or ensure your notebook will continue to use TensorFlow 1.x via the <code>%tensorflow_version 1.x</code> magic:\n",
              "<a href=\"https://colab.research.google.com/notebooks/tensorflow_version.ipynb\" target=\"_blank\">more info</a>.</p>\n"
            ],
            "text/plain": [
              "<IPython.core.display.HTML object>"
            ]
          },
          "metadata": {
            "tags": []
          }
        }
      ]
    },
    {
      "cell_type": "code",
      "metadata": {
        "id": "q6AMs7dR2iYW",
        "colab_type": "code",
        "colab": {}
      },
      "source": [
        "(previsores_treinamento, _), (previsores_teste, _) = mnist.load_data()\n",
        "previsores_treinamento = previsores_treinamento.reshape((len(previsores_treinamento), 28, 28, 1))#linhas, colunas e canais\n",
        "previsores_teste = previsores_teste.reshape((len(previsores_teste), 28, 28, 1))#linhas, colunas e canais"
      ],
      "execution_count": 0,
      "outputs": []
    },
    {
      "cell_type": "code",
      "metadata": {
        "id": "wX6hRHGW2sdw",
        "colab_type": "code",
        "colab": {}
      },
      "source": [
        "previsores_treinamento = previsores_treinamento.astype('float32') / 255\n",
        "previsores_teste = previsores_teste.astype('float32') / 255"
      ],
      "execution_count": 0,
      "outputs": []
    },
    {
      "cell_type": "code",
      "metadata": {
        "id": "CaYYHRy73F4T",
        "colab_type": "code",
        "colab": {
          "base_uri": "https://localhost:8080/",
          "height": 71
        },
        "outputId": "7c3cd695-edd1-4fd9-863f-3a1fb2d92835"
      },
      "source": [
        "autoencoder = Sequential()"
      ],
      "execution_count": 4,
      "outputs": [
        {
          "output_type": "stream",
          "text": [
            "WARNING:tensorflow:From /usr/local/lib/python3.6/dist-packages/keras/backend/tensorflow_backend.py:66: The name tf.get_default_graph is deprecated. Please use tf.compat.v1.get_default_graph instead.\n",
            "\n"
          ],
          "name": "stdout"
        }
      ]
    },
    {
      "cell_type": "code",
      "metadata": {
        "id": "sa2rAeyo3IR5",
        "colab_type": "code",
        "colab": {
          "base_uri": "https://localhost:8080/",
          "height": 139
        },
        "outputId": "a2d43743-921a-4e4c-a417-6e906608946c"
      },
      "source": [
        "#encoder\n",
        "autoencoder.add(Conv2D(filters = 16, kernel_size = (3, 3), activation = 'relu',\n",
        "                       input_shape = (28, 28, 1)))\n",
        "autoencoder.add(MaxPooling2D(pool_size = (2, 2)))\n",
        "\n",
        "autoencoder.add(Conv2D(filters = 8, kernel_size = (3, 3), activation = 'relu', padding = 'same'))# se nao colocar o parametro same quando executar ira dar erro\n",
        "autoencoder.add(MaxPooling2D(pool_size = (2, 2), padding = 'same'))#pois este parametro indica como que a imagem sera passado, o seu formato no caso, que é linhas, colunas e canais\n",
        "#4, 4, 8\n",
        "autoencoder.add(Conv2D(filters = 8, kernel_size = (3, 3), activation = 'relu', padding = 'same',\n",
        "                       strides = (2, 2)))#strides idicas de quantos em quantos pixels a imagem anda, 2, 2 nesse caso\n",
        "#aqui não vai maxpooling porque é o final da rede neural\n",
        "autoencoder.add(Flatten())#transforma de formato matriz para uma lista com 128 posiçoes pois 4 * 4 * 8 == 128\n",
        "\n",
        "autoencoder.add(Reshape((4, 4, 8)))#volta a lista para uma matriz 4, 4, 8"
      ],
      "execution_count": 5,
      "outputs": [
        {
          "output_type": "stream",
          "text": [
            "WARNING:tensorflow:From /usr/local/lib/python3.6/dist-packages/keras/backend/tensorflow_backend.py:541: The name tf.placeholder is deprecated. Please use tf.compat.v1.placeholder instead.\n",
            "\n",
            "WARNING:tensorflow:From /usr/local/lib/python3.6/dist-packages/keras/backend/tensorflow_backend.py:4432: The name tf.random_uniform is deprecated. Please use tf.random.uniform instead.\n",
            "\n",
            "WARNING:tensorflow:From /usr/local/lib/python3.6/dist-packages/keras/backend/tensorflow_backend.py:4267: The name tf.nn.max_pool is deprecated. Please use tf.nn.max_pool2d instead.\n",
            "\n"
          ],
          "name": "stdout"
        }
      ]
    },
    {
      "cell_type": "code",
      "metadata": {
        "id": "KwgmbBx_50K0",
        "colab_type": "code",
        "colab": {
          "base_uri": "https://localhost:8080/",
          "height": 71
        },
        "outputId": "aeadc66a-6791-4fba-b012-8dc9f32939db"
      },
      "source": [
        "#decoder\n",
        "autoencoder.add(Conv2D(filters = 8, kernel_size = (3, 3), activation = 'relu', padding = 'same'))\n",
        "autoencoder.add(UpSampling2D(size = (2, 2)))\n",
        "\n",
        "autoencoder.add(Conv2D(filters = 8, kernel_size = (3, 3), activation = 'relu', padding = 'same'))\n",
        "autoencoder.add(UpSampling2D(size = (2, 2)))\n",
        "\n",
        "autoencoder.add(Conv2D(filters = 16, kernel_size = (3, 3), activation = 'relu'))#para o ultimo não podemos preencher o padding same pois a dimensão de saida sera diferente da dimensão de entrada graças a ele\n",
        "autoencoder.add(UpSampling2D(size = (2, 2)))\n",
        "\n",
        "autoencoder.add(Conv2D(filters = 1, kernel_size = (3, 3), activation = 'sigmoid', padding = 'same'))#retorna a imagem decodificada já"
      ],
      "execution_count": 6,
      "outputs": [
        {
          "output_type": "stream",
          "text": [
            "WARNING:tensorflow:From /usr/local/lib/python3.6/dist-packages/keras/backend/tensorflow_backend.py:2239: The name tf.image.resize_nearest_neighbor is deprecated. Please use tf.compat.v1.image.resize_nearest_neighbor instead.\n",
            "\n"
          ],
          "name": "stdout"
        }
      ]
    },
    {
      "cell_type": "code",
      "metadata": {
        "id": "drWfkgen6kwH",
        "colab_type": "code",
        "colab": {
          "base_uri": "https://localhost:8080/",
          "height": 629
        },
        "outputId": "6865aba9-c5e3-4129-ee0d-6097415bb883"
      },
      "source": [
        "autoencoder.summary()"
      ],
      "execution_count": 7,
      "outputs": [
        {
          "output_type": "stream",
          "text": [
            "Model: \"sequential_1\"\n",
            "_________________________________________________________________\n",
            "Layer (type)                 Output Shape              Param #   \n",
            "=================================================================\n",
            "conv2d_1 (Conv2D)            (None, 26, 26, 16)        160       \n",
            "_________________________________________________________________\n",
            "max_pooling2d_1 (MaxPooling2 (None, 13, 13, 16)        0         \n",
            "_________________________________________________________________\n",
            "conv2d_2 (Conv2D)            (None, 13, 13, 8)         1160      \n",
            "_________________________________________________________________\n",
            "max_pooling2d_2 (MaxPooling2 (None, 7, 7, 8)           0         \n",
            "_________________________________________________________________\n",
            "conv2d_3 (Conv2D)            (None, 4, 4, 8)           584       \n",
            "_________________________________________________________________\n",
            "flatten_1 (Flatten)          (None, 128)               0         \n",
            "_________________________________________________________________\n",
            "reshape_1 (Reshape)          (None, 4, 4, 8)           0         \n",
            "_________________________________________________________________\n",
            "conv2d_4 (Conv2D)            (None, 4, 4, 8)           584       \n",
            "_________________________________________________________________\n",
            "up_sampling2d_1 (UpSampling2 (None, 8, 8, 8)           0         \n",
            "_________________________________________________________________\n",
            "conv2d_5 (Conv2D)            (None, 8, 8, 8)           584       \n",
            "_________________________________________________________________\n",
            "up_sampling2d_2 (UpSampling2 (None, 16, 16, 8)         0         \n",
            "_________________________________________________________________\n",
            "conv2d_6 (Conv2D)            (None, 14, 14, 16)        1168      \n",
            "_________________________________________________________________\n",
            "up_sampling2d_3 (UpSampling2 (None, 28, 28, 16)        0         \n",
            "_________________________________________________________________\n",
            "conv2d_7 (Conv2D)            (None, 28, 28, 1)         145       \n",
            "=================================================================\n",
            "Total params: 4,385\n",
            "Trainable params: 4,385\n",
            "Non-trainable params: 0\n",
            "_________________________________________________________________\n"
          ],
          "name": "stdout"
        }
      ]
    },
    {
      "cell_type": "code",
      "metadata": {
        "id": "TLpkZBEx601s",
        "colab_type": "code",
        "colab": {
          "base_uri": "https://localhost:8080/",
          "height": 1000
        },
        "outputId": "4dd601ae-5e54-4aa1-f530-77f90b1a36ba"
      },
      "source": [
        "autoencoder.compile(optimizer = 'adam', loss = 'binary_crossentropy',\n",
        "                    metrics = ['accuracy'])\n",
        "autoencoder.fit(previsores_treinamento, previsores_treinamento,\n",
        "                epochs = 20, batch_size = 256,\n",
        "                validation_data = (previsores_teste, previsores_teste))"
      ],
      "execution_count": 8,
      "outputs": [
        {
          "output_type": "stream",
          "text": [
            "WARNING:tensorflow:From /usr/local/lib/python3.6/dist-packages/keras/optimizers.py:793: The name tf.train.Optimizer is deprecated. Please use tf.compat.v1.train.Optimizer instead.\n",
            "\n",
            "WARNING:tensorflow:From /usr/local/lib/python3.6/dist-packages/keras/backend/tensorflow_backend.py:3657: The name tf.log is deprecated. Please use tf.math.log instead.\n",
            "\n",
            "WARNING:tensorflow:From /usr/local/lib/python3.6/dist-packages/tensorflow_core/python/ops/nn_impl.py:183: where (from tensorflow.python.ops.array_ops) is deprecated and will be removed in a future version.\n",
            "Instructions for updating:\n",
            "Use tf.where in 2.0, which has the same broadcast rule as np.where\n",
            "WARNING:tensorflow:From /usr/local/lib/python3.6/dist-packages/keras/backend/tensorflow_backend.py:1033: The name tf.assign_add is deprecated. Please use tf.compat.v1.assign_add instead.\n",
            "\n",
            "WARNING:tensorflow:From /usr/local/lib/python3.6/dist-packages/keras/backend/tensorflow_backend.py:1020: The name tf.assign is deprecated. Please use tf.compat.v1.assign instead.\n",
            "\n",
            "WARNING:tensorflow:From /usr/local/lib/python3.6/dist-packages/keras/backend/tensorflow_backend.py:3005: The name tf.Session is deprecated. Please use tf.compat.v1.Session instead.\n",
            "\n",
            "Train on 60000 samples, validate on 10000 samples\n",
            "Epoch 1/20\n",
            "WARNING:tensorflow:From /usr/local/lib/python3.6/dist-packages/keras/backend/tensorflow_backend.py:190: The name tf.get_default_session is deprecated. Please use tf.compat.v1.get_default_session instead.\n",
            "\n",
            "WARNING:tensorflow:From /usr/local/lib/python3.6/dist-packages/keras/backend/tensorflow_backend.py:197: The name tf.ConfigProto is deprecated. Please use tf.compat.v1.ConfigProto instead.\n",
            "\n",
            "WARNING:tensorflow:From /usr/local/lib/python3.6/dist-packages/keras/backend/tensorflow_backend.py:207: The name tf.global_variables is deprecated. Please use tf.compat.v1.global_variables instead.\n",
            "\n",
            "WARNING:tensorflow:From /usr/local/lib/python3.6/dist-packages/keras/backend/tensorflow_backend.py:216: The name tf.is_variable_initialized is deprecated. Please use tf.compat.v1.is_variable_initialized instead.\n",
            "\n",
            "WARNING:tensorflow:From /usr/local/lib/python3.6/dist-packages/keras/backend/tensorflow_backend.py:223: The name tf.variables_initializer is deprecated. Please use tf.compat.v1.variables_initializer instead.\n",
            "\n",
            "60000/60000 [==============================] - 76s 1ms/step - loss: 0.2586 - acc: 0.7966 - val_loss: 0.1647 - val_acc: 0.7952\n",
            "Epoch 2/20\n",
            "60000/60000 [==============================] - 77s 1ms/step - loss: 0.1490 - acc: 0.7996 - val_loss: 0.1364 - val_acc: 0.8039\n",
            "Epoch 3/20\n",
            "60000/60000 [==============================] - 77s 1ms/step - loss: 0.1301 - acc: 0.8052 - val_loss: 0.1233 - val_acc: 0.8066\n",
            "Epoch 4/20\n",
            "60000/60000 [==============================] - 77s 1ms/step - loss: 0.1208 - acc: 0.8078 - val_loss: 0.1165 - val_acc: 0.8072\n",
            "Epoch 5/20\n",
            "60000/60000 [==============================] - 77s 1ms/step - loss: 0.1150 - acc: 0.8091 - val_loss: 0.1116 - val_acc: 0.8089\n",
            "Epoch 6/20\n",
            "60000/60000 [==============================] - 77s 1ms/step - loss: 0.1111 - acc: 0.8100 - val_loss: 0.1091 - val_acc: 0.8102\n",
            "Epoch 7/20\n",
            "60000/60000 [==============================] - 77s 1ms/step - loss: 0.1083 - acc: 0.8105 - val_loss: 0.1060 - val_acc: 0.8100\n",
            "Epoch 8/20\n",
            "60000/60000 [==============================] - 77s 1ms/step - loss: 0.1061 - acc: 0.8110 - val_loss: 0.1040 - val_acc: 0.8105\n",
            "Epoch 9/20\n",
            "60000/60000 [==============================] - 76s 1ms/step - loss: 0.1043 - acc: 0.8113 - val_loss: 0.1023 - val_acc: 0.8108\n",
            "Epoch 10/20\n",
            "60000/60000 [==============================] - 77s 1ms/step - loss: 0.1029 - acc: 0.8115 - val_loss: 0.1010 - val_acc: 0.8110\n",
            "Epoch 11/20\n",
            "60000/60000 [==============================] - 77s 1ms/step - loss: 0.1016 - acc: 0.8118 - val_loss: 0.0998 - val_acc: 0.8111\n",
            "Epoch 12/20\n",
            "60000/60000 [==============================] - 77s 1ms/step - loss: 0.1006 - acc: 0.8119 - val_loss: 0.0989 - val_acc: 0.8110\n",
            "Epoch 13/20\n",
            "60000/60000 [==============================] - 77s 1ms/step - loss: 0.0997 - acc: 0.8121 - val_loss: 0.0984 - val_acc: 0.8108\n",
            "Epoch 14/20\n",
            "60000/60000 [==============================] - 77s 1ms/step - loss: 0.0988 - acc: 0.8122 - val_loss: 0.0972 - val_acc: 0.8113\n",
            "Epoch 15/20\n",
            "60000/60000 [==============================] - 76s 1ms/step - loss: 0.0981 - acc: 0.8124 - val_loss: 0.0965 - val_acc: 0.8115\n",
            "Epoch 16/20\n",
            "60000/60000 [==============================] - 77s 1ms/step - loss: 0.0973 - acc: 0.8125 - val_loss: 0.0958 - val_acc: 0.8115\n",
            "Epoch 17/20\n",
            "60000/60000 [==============================] - 77s 1ms/step - loss: 0.0967 - acc: 0.8126 - val_loss: 0.0962 - val_acc: 0.8111\n",
            "Epoch 18/20\n",
            "60000/60000 [==============================] - 76s 1ms/step - loss: 0.0961 - acc: 0.8127 - val_loss: 0.0946 - val_acc: 0.8119\n",
            "Epoch 19/20\n",
            "60000/60000 [==============================] - 76s 1ms/step - loss: 0.0955 - acc: 0.8128 - val_loss: 0.0942 - val_acc: 0.8117\n",
            "Epoch 20/20\n",
            "60000/60000 [==============================] - 76s 1ms/step - loss: 0.0950 - acc: 0.8129 - val_loss: 0.0940 - val_acc: 0.8122\n"
          ],
          "name": "stdout"
        },
        {
          "output_type": "execute_result",
          "data": {
            "text/plain": [
              "<keras.callbacks.History at 0x7fca3cab03c8>"
            ]
          },
          "metadata": {
            "tags": []
          },
          "execution_count": 8
        }
      ]
    },
    {
      "cell_type": "code",
      "metadata": {
        "id": "fOyZ_f6L76cL",
        "colab_type": "code",
        "colab": {
          "base_uri": "https://localhost:8080/",
          "height": 391
        },
        "outputId": "b5f80ac5-7f3d-476e-d6c0-74068532c5b6"
      },
      "source": [
        "encoder = Model(inputs = autoencoder.input, outputs = autoencoder.get_layer('flatten_1').output)#pega a cada que voce deseja, no caso flatten_1 é a camada que faz o encoder final do programa\n",
        "encoder.summary()"
      ],
      "execution_count": 13,
      "outputs": [
        {
          "output_type": "stream",
          "text": [
            "Model: \"model_1\"\n",
            "_________________________________________________________________\n",
            "Layer (type)                 Output Shape              Param #   \n",
            "=================================================================\n",
            "conv2d_1_input (InputLayer)  (None, 28, 28, 1)         0         \n",
            "_________________________________________________________________\n",
            "conv2d_1 (Conv2D)            (None, 26, 26, 16)        160       \n",
            "_________________________________________________________________\n",
            "max_pooling2d_1 (MaxPooling2 (None, 13, 13, 16)        0         \n",
            "_________________________________________________________________\n",
            "conv2d_2 (Conv2D)            (None, 13, 13, 8)         1160      \n",
            "_________________________________________________________________\n",
            "max_pooling2d_2 (MaxPooling2 (None, 7, 7, 8)           0         \n",
            "_________________________________________________________________\n",
            "conv2d_3 (Conv2D)            (None, 4, 4, 8)           584       \n",
            "_________________________________________________________________\n",
            "flatten_1 (Flatten)          (None, 128)               0         \n",
            "=================================================================\n",
            "Total params: 1,904\n",
            "Trainable params: 1,904\n",
            "Non-trainable params: 0\n",
            "_________________________________________________________________\n"
          ],
          "name": "stdout"
        }
      ]
    },
    {
      "cell_type": "code",
      "metadata": {
        "id": "ftppZNvE8YT2",
        "colab_type": "code",
        "colab": {}
      },
      "source": [
        "imagens_codificadas = encoder.predict(previsores_teste)\n",
        "imagens_decodificadas = autoencoder.predict(previsores_teste)"
      ],
      "execution_count": 0,
      "outputs": []
    },
    {
      "cell_type": "code",
      "metadata": {
        "id": "y7490Rp58kJX",
        "colab_type": "code",
        "colab": {
          "base_uri": "https://localhost:8080/",
          "height": 336
        },
        "outputId": "31dc2d6c-6299-41c1-ef9d-572681e3ee85"
      },
      "source": [
        "numero_imagens = 10\n",
        "imagens_teste = np.random.randint(previsores_teste.shape[0], size = numero_imagens)# seleciona 10 imagens e um intervalo de 0 a 10000\n",
        "plt.figure(figsize=(18, 18))\n",
        "for i, indice_imagem in enumerate(imagens_teste):\n",
        "  # imagem original\n",
        "  eixo = plt.subplot(10, 10, i + 1)\n",
        "  plt.imshow(previsores_teste[indice_imagem].reshape(28, 28))\n",
        "  plt.xticks(())\n",
        "  plt.yticks(())\n",
        "    \n",
        "  # imagem codificada\n",
        "  eixo = plt.subplot(10, 10, i + 1 + numero_imagens)\n",
        "  plt.imshow(imagens_codificadas[indice_imagem].reshape(16, 8))\n",
        "  plt.xticks(())\n",
        "  plt.yticks(())\n",
        "    \n",
        "  # imagem reconstruÃ­da\n",
        "  eixo = plt.subplot(10, 10, i + 1 + numero_imagens * 2)\n",
        "  plt.imshow(imagens_decodificadas[indice_imagem].reshape(28, 28))\n",
        "  plt.xticks(())\n",
        "  plt.yticks(())"
      ],
      "execution_count": 15,
      "outputs": [
        {
          "output_type": "display_data",
          "data": {
            "image/png": "[encoded data removed]",
            "text/plain": [
              "<Figure size 1296x1296 with 30 Axes>"
            ]
          },
          "metadata": {
            "tags": []
          }
        }
      ]
    }
  ]
}