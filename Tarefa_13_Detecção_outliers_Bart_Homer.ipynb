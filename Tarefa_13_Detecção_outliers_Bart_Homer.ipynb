{
  "nbformat": 4,
  "nbformat_minor": 0,
  "metadata": {
    "colab": {
      "name": "Tarefa_13_Detecção_outliers_Bart_Homer",
      "provenance": [],
      "authorship_tag": "ABX9TyN7uu4+YSUnUmUKgvnuqsYP",
      "include_colab_link": true
    },
    "kernelspec": {
      "name": "python3",
      "display_name": "Python 3"
    }
  },
  "cells": [
    {
      "cell_type": "markdown",
      "metadata": {
        "id": "view-in-github",
        "colab_type": "text"
      },
      "source": [
        "<a href=\"https://colab.research.google.com/github/Jeansds/Curso_Udemy---Deep-Learning-com-Python-de-A-a-Z/blob/master/Tarefa_13_Detec%C3%A7%C3%A3o_outliers_Bart_Homer.ipynb\" target=\"_parent\"><img src=\"https://colab.research.google.com/assets/colab-badge.svg\" alt=\"Open In Colab\"/></a>"
      ]
    },
    {
      "cell_type": "code",
      "metadata": {
        "id": "4KKacAWQBrXh",
        "colab_type": "code",
        "colab": {
          "base_uri": "https://localhost:8080/",
          "height": 97
        },
        "outputId": "bfe46106-73bd-4441-bcd5-343017304ab7"
      },
      "source": [
        "!pip install minisom\n",
        "from minisom import MiniSom\n",
        "import pandas as pd\n",
        "import numpy as np\n",
        "from sklearn.preprocessing import MinMaxScaler\n",
        "from pylab import pcolor, colorbar, plot\n",
        "from sklearn.preprocessing import LabelEncoder\n",
        "from keras.utils import np_utils"
      ],
      "execution_count": 1,
      "outputs": [
        {
          "output_type": "stream",
          "text": [
            "Requirement already satisfied: minisom in /usr/local/lib/python3.6/dist-packages (2.2.3)\n"
          ],
          "name": "stdout"
        },
        {
          "output_type": "stream",
          "text": [
            "Using TensorFlow backend.\n"
          ],
          "name": "stderr"
        },
        {
          "output_type": "display_data",
          "data": {
            "text/html": [
              "<p style=\"color: red;\">\n",
              "The default version of TensorFlow in Colab will soon switch to TensorFlow 2.x.<br>\n",
              "We recommend you <a href=\"https://www.tensorflow.org/guide/migrate\" target=\"_blank\">upgrade</a> now \n",
              "or ensure your notebook will continue to use TensorFlow 1.x via the <code>%tensorflow_version 1.x</code> magic:\n",
              "<a href=\"https://colab.research.google.com/notebooks/tensorflow_version.ipynb\" target=\"_blank\">more info</a>.</p>\n"
            ],
            "text/plain": [
              "<IPython.core.display.HTML object>"
            ]
          },
          "metadata": {
            "tags": []
          }
        }
      ]
    },
    {
      "cell_type": "code",
      "metadata": {
        "id": "szBA9iXJB49b",
        "colab_type": "code",
        "colab": {}
      },
      "source": [
        "base = pd.read_csv('/content/sample_data/original.csv')\n",
        "X = base.iloc[:, 0: 6].values\n",
        "y = base.iloc[:, 6].values\n",
        "labelenconder = LabelEncoder()\n",
        "y = labelenconder.fit_transform(y)#transforma os nomes em numeros na ordem crescente iniciando de 0\n",
        "normalizador = MinMaxScaler(feature_range = (0, 1))\n",
        "X = normalizador.fit_transform(X)"
      ],
      "execution_count": 0,
      "outputs": []
    },
    {
      "cell_type": "code",
      "metadata": {
        "id": "w74qA-bRDZdD",
        "colab_type": "code",
        "colab": {
          "base_uri": "https://localhost:8080/",
          "height": 289
        },
        "outputId": "16c081d9-3d5b-4f19-eec5-bda2ef978207"
      },
      "source": [
        "print(y)\n",
        "print('*'*100)\n",
        "print(X)"
      ],
      "execution_count": 3,
      "outputs": [
        {
          "output_type": "stream",
          "text": [
            "[0 0 0 0 0 0 0 0 0 0 0 0 0 0 0 0 0 0 0 0 0 0 0 0 0 0 0 0 0 0 0 0 0 0 0 0 0\n",
            " 0 0 0 0 0 0 0 0 0 0 0 0 0 0 0 0 0 0 0 0 0 0 0 0 0 0 0 0 0 0 0 0 0 0 0 0 0\n",
            " 0 0 0 0 0 0 0 0 0 0 0 0 0 0 0 0 0 0 0 0 0 0 0 0 0 0 0 0 0 0 0 0 0 0 0 0 0\n",
            " 0 0 0 0 0 0 0 0 0 0 0 0 0 0 0 0 0 0 0 0 0 0 0 0 0 0 0 0 0 0 0 0 0 0 0 0 0\n",
            " 0 0 0 0 0 0 0 0 0 0 0 0 0 0 0 0 0 0 0 0 0 1 1 1 1 1 1 1 1 1 1 1 1 1 1 1 1\n",
            " 1 1 1 1 1 1 1 1 1 1 1 1 1 1 1 1 1 1 1 1 1 1 1 1 1 1 1 1 1 1 1 1 1 1 1 1 1\n",
            " 1 1 1 1 1 1 1 1 1 1 1 1 1 1 1 1 1 1 1 1 1 1 1 1 1 1 1 1 1 1 1 1 1 1 1 1 1\n",
            " 1 1 1 1 1 1 1 1 1 1 1 1 1 1 1 1 1 1 1 1 1 1 1 1 1 1 1 1 1 1 1 1 1 1]\n",
            "****************************************************************************************************\n",
            "[[0.35231348 0.19711995 0.32096694 0.         0.         0.01280093]\n",
            " [0.25606564 0.1795626  0.21617233 0.         0.         0.00671489]\n",
            " [0.26935365 0.28366032 0.06129067 0.         0.         0.03082025]\n",
            " ...\n",
            " [0.         0.         0.         0.         0.48359639 0.01560842]\n",
            " [0.         0.         0.         0.         0.16209756 0.00345947]\n",
            " [0.         0.         0.         0.42540111 0.0968527  0.01292127]]\n"
          ],
          "name": "stdout"
        }
      ]
    },
    {
      "cell_type": "code",
      "metadata": {
        "id": "cSmoC2btCnDi",
        "colab_type": "code",
        "colab": {}
      },
      "source": [
        "som = MiniSom(x = 9, y = 9, input_len = 6, random_seed = 0)#pegando sigma e learning rate default\n",
        "som.random_weights_init(X)\n",
        "som.train_random(data = X, num_iteration = 100)"
      ],
      "execution_count": 0,
      "outputs": []
    },
    {
      "cell_type": "code",
      "metadata": {
        "id": "EXqUCR_tCoim",
        "colab_type": "code",
        "colab": {
          "base_uri": "https://localhost:8080/",
          "height": 269
        },
        "outputId": "966b350d-87d7-4b57-f54e-56de8d4db295"
      },
      "source": [
        "pcolor(som.distance_map().T)\n",
        "colorbar()\n",
        "markers = ['o', 's']\n",
        "color = ['r', 'g']\n",
        "for i, x in enumerate(X):\n",
        "  w = som.winner(x)\n",
        "  plot(w[0] + 0.5, w[1] + 0.5, markers[y[i]],\n",
        "        markerfacecolor = 'None', markersize = 10,\n",
        "        markeredgecolor = color[y[i]], markeredgewidth = 2)#posiciona o simbolo no meio do quadrado"
      ],
      "execution_count": 5,
      "outputs": [
        {
          "output_type": "display_data",
          "data": {
            "image/png": "[encoded data removed]",
            "text/plain": [
              "<Figure size 432x288 with 2 Axes>"
            ]
          },
          "metadata": {
            "tags": []
          }
        }
      ]
    },
    {
      "cell_type": "code",
      "metadata": {
        "id": "tLZd1mt5GeZK",
        "colab_type": "code",
        "colab": {}
      },
      "source": [
        "mapeamento = som.win_map(X)\n",
        "suspeitos = np.concatenate((mapeamento[(4, 3)], mapeamento[(7, 7)]), axis = 0)\n",
        "suspeitos = normalizador.inverse_transform(suspeitos)\n",
        "\n",
        "classe = []\n",
        "index = []\n",
        "for i in range(len(base)):\n",
        "  for j in range(len(suspeitos)):\n",
        "    Cont = 0\n",
        "    for k in range(len(suspeitos[j])):\n",
        "      if round(suspeitos[j, k],2) == round(base.iloc[i, k],2):\n",
        "        Cont += 1\n",
        "    if Cont == 6:\n",
        "      classe.append(base.iloc[i, 6])\n",
        "      index.append(i)\n",
        "      break\n",
        "#for i, values in enumerate(classe):\n",
        "#  if values == ''\n",
        "classe = labelenconder.fit_transform(classe)\n",
        "classe = np.asarray(classe)"
      ],
      "execution_count": 0,
      "outputs": []
    },
    {
      "cell_type": "code",
      "metadata": {
        "id": "nzvlDUswHkg0",
        "colab_type": "code",
        "colab": {
          "base_uri": "https://localhost:8080/",
          "height": 34
        },
        "outputId": "df782e2c-3dc5-4dd7-f2d1-b99833fe31d1"
      },
      "source": [
        "print(len(suspeitos), len(classe))"
      ],
      "execution_count": 9,
      "outputs": [
        {
          "output_type": "stream",
          "text": [
            "17 17\n"
          ],
          "name": "stdout"
        }
      ]
    },
    {
      "cell_type": "code",
      "metadata": {
        "id": "Ue8AyzlKGzwK",
        "colab_type": "code",
        "colab": {
          "base_uri": "https://localhost:8080/",
          "height": 595
        },
        "outputId": "482c7744-defa-4e7a-c459-5e936d30763a"
      },
      "source": [
        "suspeitos_final = np.column_stack((suspeitos, classe))\n",
        "suspeitos_final = suspeitos_final[suspeitos_final[:, 6].argsort()]\n",
        "print(suspeitos_final, index)"
      ],
      "execution_count": 10,
      "outputs": [
        {
          "output_type": "stream",
          "text": [
            "[[2.4876933e+00 0.0000000e+00 0.0000000e+00 1.6958948e+01 9.7940105e-01\n",
            "  2.3499765e+00 0.0000000e+00]\n",
            " [0.0000000e+00 0.0000000e+00 0.0000000e+00 1.4074794e+01 1.8290632e+00\n",
            "  2.1350932e+00 0.0000000e+00]\n",
            " [2.4510260e+00 8.5598725e-01 0.0000000e+00 1.0303880e+01 1.3769895e+00\n",
            "  2.1121814e+00 0.0000000e+00]\n",
            " [1.8744326e+00 1.8095732e+00 1.4282935e+00 1.1283195e+01 1.0321888e+00\n",
            "  7.7321500e-01 0.0000000e+00]\n",
            " [0.0000000e+00 0.0000000e+00 0.0000000e+00 2.1512486e+01 3.0598493e+00\n",
            "  4.9179544e+00 0.0000000e+00]\n",
            " [4.3221135e+00 5.9376430e+00 4.6265936e+00 0.0000000e+00 0.0000000e+00\n",
            "  3.8478266e-02 1.0000000e+00]\n",
            " [1.1887306e+01 6.8667300e+00 3.0174108e+00 0.0000000e+00 0.0000000e+00\n",
            "  1.5068060e-01 1.0000000e+00]\n",
            " [1.1095816e+01 4.5251110e+00 4.4286838e+00 0.0000000e+00 0.0000000e+00\n",
            "  1.6770024e-02 1.0000000e+00]\n",
            " [0.0000000e+00 0.0000000e+00 0.0000000e+00 1.3390434e+01 1.2085830e+00\n",
            "  1.5497772e+00 1.0000000e+00]\n",
            " [0.0000000e+00 0.0000000e+00 0.0000000e+00 1.3434466e+01 2.5802839e+00\n",
            "  1.6467514e+00 1.0000000e+00]\n",
            " [2.5075366e+00 1.0292852e+00 9.5553400e-01 9.9940790e+00 1.0206718e+00\n",
            "  6.6645133e-01 1.0000000e+00]\n",
            " [1.1305242e+01 7.7239430e+00 3.1083980e+00 0.0000000e+00 0.0000000e+00\n",
            "  4.4669446e-02 1.0000000e+00]\n",
            " [0.0000000e+00 0.0000000e+00 0.0000000e+00 1.3843547e+01 1.6235538e+00\n",
            "  1.4083135e+00 1.0000000e+00]\n",
            " [0.0000000e+00 0.0000000e+00 0.0000000e+00 1.4950413e+01 1.3752067e+00\n",
            "  1.5272727e+00 1.0000000e+00]\n",
            " [0.0000000e+00 0.0000000e+00 0.0000000e+00 1.9164520e+01 1.8701721e+00\n",
            "  1.3965306e+00 1.0000000e+00]\n",
            " [0.0000000e+00 0.0000000e+00 0.0000000e+00 1.2872924e+01 1.3654190e+00\n",
            "  1.4752685e+00 1.0000000e+00]\n",
            " [8.3479805e+00 8.2404420e+00 4.3556940e+00 0.0000000e+00 0.0000000e+00\n",
            "  6.3781664e-02 1.0000000e+00]] [17, 23, 27, 30, 89, 169, 171, 190, 192, 194, 195, 198, 203, 204, 206, 208, 209]\n"
          ],
          "name": "stdout"
        }
      ]
    }
  ]
}