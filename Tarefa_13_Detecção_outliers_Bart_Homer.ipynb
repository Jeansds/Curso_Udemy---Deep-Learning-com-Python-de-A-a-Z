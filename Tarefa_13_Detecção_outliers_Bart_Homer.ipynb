{
  "nbformat": 4,
  "nbformat_minor": 0,
  "metadata": {
    "colab": {
      "name": "Tarefa_13_Detecção_outliers_Bart_Homer",
      "provenance": [],
      "authorship_tag": "ABX9TyNkBkaiSv4BgPNyF6Q1fJf2",
      "include_colab_link": true
    },
    "kernelspec": {
      "name": "python3",
      "display_name": "Python 3"
    }
  },
  "cells": [
    {
      "cell_type": "markdown",
      "metadata": {
        "id": "view-in-github",
        "colab_type": "text"
      },
      "source": [
        "<a href=\"https://colab.research.google.com/github/Jeansds/Curso_Udemy---Deep-Learning-com-Python-de-A-a-Z/blob/master/Tarefa_13_Detec%C3%A7%C3%A3o_outliers_Bart_Homer.ipynb\" target=\"_parent\"><img src=\"https://colab.research.google.com/assets/colab-badge.svg\" alt=\"Open In Colab\"/></a>"
      ]
    },
    {
      "cell_type": "code",
      "metadata": {
        "id": "4KKacAWQBrXh",
        "colab_type": "code",
        "outputId": "7b0ea031-60d5-4e5d-d7e4-565891bbab69",
        "colab": {
          "base_uri": "https://localhost:8080/",
          "height": 97
        }
      },
      "source": [
        "!pip install minisom\n",
        "from minisom import MiniSom\n",
        "import pandas as pd\n",
        "import numpy as np\n",
        "from sklearn.preprocessing import MinMaxScaler\n",
        "from pylab import pcolor, colorbar, plot\n",
        "from sklearn.preprocessing import LabelEncoder\n",
        "from keras.utils import np_utils"
      ],
      "execution_count": 1,
      "outputs": [
        {
          "output_type": "stream",
          "text": [
            "Requirement already satisfied: minisom in /usr/local/lib/python3.6/dist-packages (2.2.3)\n"
          ],
          "name": "stdout"
        },
        {
          "output_type": "stream",
          "text": [
            "Using TensorFlow backend.\n"
          ],
          "name": "stderr"
        },
        {
          "output_type": "display_data",
          "data": {
            "text/html": [
              "<p style=\"color: red;\">\n",
              "The default version of TensorFlow in Colab will soon switch to TensorFlow 2.x.<br>\n",
              "We recommend you <a href=\"https://www.tensorflow.org/guide/migrate\" target=\"_blank\">upgrade</a> now \n",
              "or ensure your notebook will continue to use TensorFlow 1.x via the <code>%tensorflow_version 1.x</code> magic:\n",
              "<a href=\"https://colab.research.google.com/notebooks/tensorflow_version.ipynb\" target=\"_blank\">more info</a>.</p>\n"
            ],
            "text/plain": [
              "<IPython.core.display.HTML object>"
            ]
          },
          "metadata": {
            "tags": []
          }
        }
      ]
    },
    {
      "cell_type": "code",
      "metadata": {
        "id": "szBA9iXJB49b",
        "colab_type": "code",
        "colab": {}
      },
      "source": [
        "base = pd.read_csv('/content/sample_data/original.csv')\n",
        "X = base.iloc[:, 0: 6].values\n",
        "y = base.iloc[:, 6].values\n",
        "labelenconder = LabelEncoder()\n",
        "y = labelenconder.fit_transform(y)#transforma os nomes em numeros na ordem crescente iniciando de 0\n",
        "normalizador = MinMaxScaler(feature_range = (0, 1))\n",
        "X = normalizador.fit_transform(X)"
      ],
      "execution_count": 0,
      "outputs": []
    },
    {
      "cell_type": "code",
      "metadata": {
        "id": "w74qA-bRDZdD",
        "colab_type": "code",
        "outputId": "bb42268f-8c9d-422b-8a9d-cc6b62d58d91",
        "colab": {
          "base_uri": "https://localhost:8080/",
          "height": 289
        }
      },
      "source": [
        "print(y)\n",
        "print('*'*100)\n",
        "print(X)"
      ],
      "execution_count": 3,
      "outputs": [
        {
          "output_type": "stream",
          "text": [
            "[0 0 0 0 0 0 0 0 0 0 0 0 0 0 0 0 0 0 0 0 0 0 0 0 0 0 0 0 0 0 0 0 0 0 0 0 0\n",
            " 0 0 0 0 0 0 0 0 0 0 0 0 0 0 0 0 0 0 0 0 0 0 0 0 0 0 0 0 0 0 0 0 0 0 0 0 0\n",
            " 0 0 0 0 0 0 0 0 0 0 0 0 0 0 0 0 0 0 0 0 0 0 0 0 0 0 0 0 0 0 0 0 0 0 0 0 0\n",
            " 0 0 0 0 0 0 0 0 0 0 0 0 0 0 0 0 0 0 0 0 0 0 0 0 0 0 0 0 0 0 0 0 0 0 0 0 0\n",
            " 0 0 0 0 0 0 0 0 0 0 0 0 0 0 0 0 0 0 0 0 0 1 1 1 1 1 1 1 1 1 1 1 1 1 1 1 1\n",
            " 1 1 1 1 1 1 1 1 1 1 1 1 1 1 1 1 1 1 1 1 1 1 1 1 1 1 1 1 1 1 1 1 1 1 1 1 1\n",
            " 1 1 1 1 1 1 1 1 1 1 1 1 1 1 1 1 1 1 1 1 1 1 1 1 1 1 1 1 1 1 1 1 1 1 1 1 1\n",
            " 1 1 1 1 1 1 1 1 1 1 1 1 1 1 1 1 1 1 1 1 1 1 1 1 1 1 1 1 1 1 1 1 1 1]\n",
            "****************************************************************************************************\n",
            "[[0.35231348 0.19711995 0.32096694 0.         0.         0.01280093]\n",
            " [0.25606564 0.1795626  0.21617233 0.         0.         0.00671489]\n",
            " [0.26935365 0.28366032 0.06129067 0.         0.         0.03082025]\n",
            " ...\n",
            " [0.         0.         0.         0.         0.48359639 0.01560842]\n",
            " [0.         0.         0.         0.         0.16209756 0.00345947]\n",
            " [0.         0.         0.         0.42540111 0.0968527  0.01292127]]\n"
          ],
          "name": "stdout"
        }
      ]
    },
    {
      "cell_type": "code",
      "metadata": {
        "id": "cSmoC2btCnDi",
        "colab_type": "code",
        "colab": {}
      },
      "source": [
        "som = MiniSom(x = 9, y = 9, input_len = 6, random_seed = 0)#pegando sigma e learning rate default\n",
        "som.random_weights_init(X)\n",
        "som.train_random(data = X, num_iteration = 100000)"
      ],
      "execution_count": 0,
      "outputs": []
    },
    {
      "cell_type": "code",
      "metadata": {
        "id": "EXqUCR_tCoim",
        "colab_type": "code",
        "outputId": "d432f294-fe64-4566-ebf8-53ce31c6d5f3",
        "colab": {
          "base_uri": "https://localhost:8080/",
          "height": 269
        }
      },
      "source": [
        "pcolor(som.distance_map().T)\n",
        "colorbar()\n",
        "markers = ['o', 's']\n",
        "color = ['r', 'g']\n",
        "for i, x in enumerate(X):\n",
        "  w = som.winner(x)\n",
        "  plot(w[0] + 0.5, w[1] + 0.5, markers[y[i]],\n",
        "        markerfacecolor = 'None', markersize = 10,\n",
        "        markeredgecolor = color[y[i]], markeredgewidth = 2)#posiciona o simbolo no meio do quadrado"
      ],
      "execution_count": 5,
      "outputs": [
        {
          "output_type": "display_data",
          "data": {
            "image/png": "[encoded data removed]",
            "text/plain": [
              "<Figure size 432x288 with 2 Axes>"
            ]
          },
          "metadata": {
            "tags": []
          }
        }
      ]
    },
    {
      "cell_type": "code",
      "metadata": {
        "id": "tLZd1mt5GeZK",
        "colab_type": "code",
        "colab": {}
      },
      "source": [
        "mapeamento = som.win_map(X)\n",
        "suspeitos = np.concatenate((mapeamento[(6, 3)], mapeamento[(7, 3)], mapeamento[(7, 2)], mapeamento[(6, 2)]), axis = 0)\n",
        "suspeitos = normalizador.inverse_transform(suspeitos)\n",
        "\n",
        "classe = []\n",
        "index = []\n",
        "for i in range(len(base)):\n",
        "  for j in range(len(suspeitos)):\n",
        "    Cont = 0\n",
        "    for k in range(len(suspeitos[j])):\n",
        "      if round(suspeitos[j, k],2) == round(base.iloc[i, k],2):\n",
        "        Cont += 1\n",
        "    if Cont == 6:\n",
        "      classe.append(base.iloc[i, 6])\n",
        "      index.append(i)\n",
        "      break\n",
        "#for i, values in enumerate(classe):\n",
        "#  if values == ''\n",
        "classe = labelenconder.fit_transform(classe)\n",
        "classe = np.asarray(classe)"
      ],
      "execution_count": 0,
      "outputs": []
    },
    {
      "cell_type": "code",
      "metadata": {
        "id": "nzvlDUswHkg0",
        "colab_type": "code",
        "outputId": "767620fb-4d09-4e13-bb85-db6ed0a20d41",
        "colab": {
          "base_uri": "https://localhost:8080/",
          "height": 34
        }
      },
      "source": [
        "print(len(suspeitos), len(classe))"
      ],
      "execution_count": 8,
      "outputs": [
        {
          "output_type": "stream",
          "text": [
            "4 4\n"
          ],
          "name": "stdout"
        }
      ]
    },
    {
      "cell_type": "code",
      "metadata": {
        "id": "Ue8AyzlKGzwK",
        "colab_type": "code",
        "outputId": "93d83035-51b7-4d20-8709-885b1e9fde0f",
        "colab": {
          "base_uri": "https://localhost:8080/",
          "height": 153
        }
      },
      "source": [
        "suspeitos_final = np.column_stack((suspeitos, classe))\n",
        "suspeitos_final = suspeitos_final[suspeitos_final[:, 6].argsort()]\n",
        "print(suspeitos_final, index)"
      ],
      "execution_count": 9,
      "outputs": [
        {
          "output_type": "stream",
          "text": [
            "[[ 0.         17.731358    1.9687593   0.          0.          0.03831418\n",
            "   0.        ]\n",
            " [ 4.8137627   5.1552854   2.7606797   0.          0.          0.02498948\n",
            "   0.        ]\n",
            " [ 2.5075366   1.0292852   0.955534    9.994079    1.0206718   0.66645133\n",
            "   1.        ]\n",
            " [ 3.1132257   1.8953109   0.8705699   7.2280116   1.5685711   0.05703226\n",
            "   1.        ]] [42, 47, 183, 204]\n"
          ],
          "name": "stdout"
        }
      ]
    }
  ]
}