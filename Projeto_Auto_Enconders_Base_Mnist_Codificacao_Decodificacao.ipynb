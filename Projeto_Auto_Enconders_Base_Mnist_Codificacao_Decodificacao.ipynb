{
  "nbformat": 4,
  "nbformat_minor": 0,
  "metadata": {
    "colab": {
      "name": "Projeto_Auto_Enconders_Base_Mnist_Codificacao_Decodificacao",
      "provenance": [],
      "authorship_tag": "ABX9TyOrYKd/LNZpPg/OUEJcGiGA",
      "include_colab_link": true
    },
    "kernelspec": {
      "name": "python3",
      "display_name": "Python 3"
    }
  },
  "cells": [
    {
      "cell_type": "markdown",
      "metadata": {
        "id": "view-in-github",
        "colab_type": "text"
      },
      "source": [
        "<a href=\"https://colab.research.google.com/github/Jeansds/Curso_Udemy---Deep-Learning-com-Python-de-A-a-Z/blob/master/Projeto_Auto_Enconders_Base_Mnist_Codificacao_Decodificacao.ipynb\" target=\"_parent\"><img src=\"https://colab.research.google.com/assets/colab-badge.svg\" alt=\"Open In Colab\"/></a>"
      ]
    },
    {
      "cell_type": "code",
      "metadata": {
        "id": "7PvO3SgWlad-",
        "colab_type": "code",
        "colab": {
          "base_uri": "https://localhost:8080/",
          "height": 80
        },
        "outputId": "dfb6d7db-fe1e-4d19-f64f-196b94a25501"
      },
      "source": [
        "import matplotlib.pyplot as plt\n",
        "import numpy as np\n",
        "from keras.datasets import mnist\n",
        "from keras.models import Model, Sequential\n",
        "from keras.layers import Input, Dense"
      ],
      "execution_count": 1,
      "outputs": [
        {
          "output_type": "stream",
          "text": [
            "Using TensorFlow backend.\n"
          ],
          "name": "stderr"
        },
        {
          "output_type": "display_data",
          "data": {
            "text/html": [
              "<p style=\"color: red;\">\n",
              "The default version of TensorFlow in Colab will soon switch to TensorFlow 2.x.<br>\n",
              "We recommend you <a href=\"https://www.tensorflow.org/guide/migrate\" target=\"_blank\">upgrade</a> now \n",
              "or ensure your notebook will continue to use TensorFlow 1.x via the <code>%tensorflow_version 1.x</code> magic:\n",
              "<a href=\"https://colab.research.google.com/notebooks/tensorflow_version.ipynb\" target=\"_blank\">more info</a>.</p>\n"
            ],
            "text/plain": [
              "<IPython.core.display.HTML object>"
            ]
          },
          "metadata": {
            "tags": []
          }
        }
      ]
    },
    {
      "cell_type": "code",
      "metadata": {
        "id": "nCDLOiQ0loxY",
        "colab_type": "code",
        "colab": {
          "base_uri": "https://localhost:8080/",
          "height": 51
        },
        "outputId": "d053d5d0-c3a6-4078-af38-aff30b2e5715"
      },
      "source": [
        "(previsores_treinamento, _), (previsores_teste, _) = mnist.load_data()"
      ],
      "execution_count": 2,
      "outputs": [
        {
          "output_type": "stream",
          "text": [
            "Downloading data from https://s3.amazonaws.com/img-datasets/mnist.npz\n",
            "11493376/11490434 [==============================] - 0s 0us/step\n"
          ],
          "name": "stdout"
        }
      ]
    },
    {
      "cell_type": "code",
      "metadata": {
        "id": "eRBqYFm2l4e7",
        "colab_type": "code",
        "colab": {}
      },
      "source": [
        "previsores_treinamento = previsores_treinamento.astype('float32') / 255\n",
        "previsores_teste = previsores_teste.astype('float32') / 255"
      ],
      "execution_count": 0,
      "outputs": []
    },
    {
      "cell_type": "code",
      "metadata": {
        "id": "DstqsmXWmQXd",
        "colab_type": "code",
        "colab": {}
      },
      "source": [
        "previsores_treinamento = previsores_treinamento.reshape((len(previsores_treinamento), np.prod(previsores_treinamento.shape[1: ])))"
      ],
      "execution_count": 0,
      "outputs": []
    },
    {
      "cell_type": "code",
      "metadata": {
        "id": "ARt8mT6Emy9o",
        "colab_type": "code",
        "colab": {}
      },
      "source": [
        "previsores_teste = previsores_teste.reshape((len(previsores_teste), np.prod(previsores_teste.shape[1: ])))"
      ],
      "execution_count": 0,
      "outputs": []
    },
    {
      "cell_type": "code",
      "metadata": {
        "id": "fWkR1uCKnCQh",
        "colab_type": "code",
        "colab": {
          "base_uri": "https://localhost:8080/",
          "height": 343
        },
        "outputId": "d1ae04ab-3778-4763-c60d-1bddec74d2e3"
      },
      "source": [
        "fator_compactacao = 784 / 32 #784 e a quantidade de entradas\n",
        "autoencoder = Sequential()\n",
        "autoencoder.add(Dense(units = 32, activation = 'relu', input_dim = 784))\n",
        "autoencoder.add(Dense(units = 784, activation = 'sigmoid'))\n",
        "autoencoder.summary()"
      ],
      "execution_count": 7,
      "outputs": [
        {
          "output_type": "stream",
          "text": [
            "WARNING:tensorflow:From /usr/local/lib/python3.6/dist-packages/keras/backend/tensorflow_backend.py:66: The name tf.get_default_graph is deprecated. Please use tf.compat.v1.get_default_graph instead.\n",
            "\n",
            "WARNING:tensorflow:From /usr/local/lib/python3.6/dist-packages/keras/backend/tensorflow_backend.py:541: The name tf.placeholder is deprecated. Please use tf.compat.v1.placeholder instead.\n",
            "\n",
            "WARNING:tensorflow:From /usr/local/lib/python3.6/dist-packages/keras/backend/tensorflow_backend.py:4432: The name tf.random_uniform is deprecated. Please use tf.random.uniform instead.\n",
            "\n",
            "Model: \"sequential_1\"\n",
            "_________________________________________________________________\n",
            "Layer (type)                 Output Shape              Param #   \n",
            "=================================================================\n",
            "dense_1 (Dense)              (None, 32)                25120     \n",
            "_________________________________________________________________\n",
            "dense_2 (Dense)              (None, 784)               25872     \n",
            "=================================================================\n",
            "Total params: 50,992\n",
            "Trainable params: 50,992\n",
            "Non-trainable params: 0\n",
            "_________________________________________________________________\n"
          ],
          "name": "stdout"
        }
      ]
    },
    {
      "cell_type": "code",
      "metadata": {
        "id": "rAgdOAvRnulw",
        "colab_type": "code",
        "colab": {
          "base_uri": "https://localhost:8080/",
          "height": 1000
        },
        "outputId": "3e04be56-badc-4e34-ba72-e4e71041a062"
      },
      "source": [
        "autoencoder.compile(optimizer = 'adam', loss = 'binary_crossentropy',\n",
        "                    metrics = ['accuracy'])\n",
        "autoencoder.fit(previsores_treinamento, previsores_treinamento,\n",
        "                epochs = 50, batch_size = 256,\n",
        "                validation_data = (previsores_teste, previsores_teste))"
      ],
      "execution_count": 10,
      "outputs": [
        {
          "output_type": "stream",
          "text": [
            "Train on 60000 samples, validate on 10000 samples\n",
            "Epoch 1/50\n",
            "WARNING:tensorflow:From /usr/local/lib/python3.6/dist-packages/keras/backend/tensorflow_backend.py:190: The name tf.get_default_session is deprecated. Please use tf.compat.v1.get_default_session instead.\n",
            "\n",
            "WARNING:tensorflow:From /usr/local/lib/python3.6/dist-packages/keras/backend/tensorflow_backend.py:197: The name tf.ConfigProto is deprecated. Please use tf.compat.v1.ConfigProto instead.\n",
            "\n",
            "WARNING:tensorflow:From /usr/local/lib/python3.6/dist-packages/keras/backend/tensorflow_backend.py:207: The name tf.global_variables is deprecated. Please use tf.compat.v1.global_variables instead.\n",
            "\n",
            "WARNING:tensorflow:From /usr/local/lib/python3.6/dist-packages/keras/backend/tensorflow_backend.py:216: The name tf.is_variable_initialized is deprecated. Please use tf.compat.v1.is_variable_initialized instead.\n",
            "\n",
            "WARNING:tensorflow:From /usr/local/lib/python3.6/dist-packages/keras/backend/tensorflow_backend.py:223: The name tf.variables_initializer is deprecated. Please use tf.compat.v1.variables_initializer instead.\n",
            "\n",
            "60000/60000 [==============================] - 4s 72us/step - loss: 0.2766 - acc: 0.7842 - val_loss: 0.1921 - val_acc: 0.7992\n",
            "Epoch 2/50\n",
            "60000/60000 [==============================] - 4s 62us/step - loss: 0.1711 - acc: 0.8029 - val_loss: 0.1529 - val_acc: 0.8051\n",
            "Epoch 3/50\n",
            "60000/60000 [==============================] - 4s 61us/step - loss: 0.1436 - acc: 0.8073 - val_loss: 0.1332 - val_acc: 0.8080\n",
            "Epoch 4/50\n",
            "60000/60000 [==============================] - 4s 61us/step - loss: 0.1280 - acc: 0.8098 - val_loss: 0.1208 - val_acc: 0.8098\n",
            "Epoch 5/50\n",
            "60000/60000 [==============================] - 4s 64us/step - loss: 0.1177 - acc: 0.8113 - val_loss: 0.1123 - val_acc: 0.8110\n",
            "Epoch 6/50\n",
            "60000/60000 [==============================] - 4s 65us/step - loss: 0.1105 - acc: 0.8123 - val_loss: 0.1063 - val_acc: 0.8118\n",
            "Epoch 7/50\n",
            "60000/60000 [==============================] - 4s 65us/step - loss: 0.1054 - acc: 0.8130 - val_loss: 0.1020 - val_acc: 0.8124\n",
            "Epoch 8/50\n",
            "60000/60000 [==============================] - 4s 63us/step - loss: 0.1017 - acc: 0.8134 - val_loss: 0.0989 - val_acc: 0.8127\n",
            "Epoch 9/50\n",
            "60000/60000 [==============================] - 4s 61us/step - loss: 0.0991 - acc: 0.8137 - val_loss: 0.0969 - val_acc: 0.8129\n",
            "Epoch 10/50\n",
            "60000/60000 [==============================] - 4s 60us/step - loss: 0.0973 - acc: 0.8138 - val_loss: 0.0954 - val_acc: 0.8130\n",
            "Epoch 11/50\n",
            "60000/60000 [==============================] - 4s 62us/step - loss: 0.0962 - acc: 0.8139 - val_loss: 0.0945 - val_acc: 0.8131\n",
            "Epoch 12/50\n",
            "60000/60000 [==============================] - 4s 61us/step - loss: 0.0955 - acc: 0.8140 - val_loss: 0.0939 - val_acc: 0.8132\n",
            "Epoch 13/50\n",
            "60000/60000 [==============================] - 4s 62us/step - loss: 0.0950 - acc: 0.8140 - val_loss: 0.0935 - val_acc: 0.8132\n",
            "Epoch 14/50\n",
            "60000/60000 [==============================] - 4s 62us/step - loss: 0.0946 - acc: 0.8141 - val_loss: 0.0932 - val_acc: 0.8132\n",
            "Epoch 15/50\n",
            "60000/60000 [==============================] - 4s 62us/step - loss: 0.0943 - acc: 0.8141 - val_loss: 0.0930 - val_acc: 0.8132\n",
            "Epoch 16/50\n",
            "60000/60000 [==============================] - 4s 61us/step - loss: 0.0941 - acc: 0.8141 - val_loss: 0.0928 - val_acc: 0.8132\n",
            "Epoch 17/50\n",
            "60000/60000 [==============================] - 4s 61us/step - loss: 0.0940 - acc: 0.8141 - val_loss: 0.0927 - val_acc: 0.8133\n",
            "Epoch 18/50\n",
            "60000/60000 [==============================] - 4s 62us/step - loss: 0.0938 - acc: 0.8141 - val_loss: 0.0926 - val_acc: 0.8132\n",
            "Epoch 19/50\n",
            "60000/60000 [==============================] - 4s 62us/step - loss: 0.0937 - acc: 0.8142 - val_loss: 0.0925 - val_acc: 0.8132\n",
            "Epoch 20/50\n",
            "60000/60000 [==============================] - 4s 61us/step - loss: 0.0936 - acc: 0.8142 - val_loss: 0.0923 - val_acc: 0.8132\n",
            "Epoch 21/50\n",
            "60000/60000 [==============================] - 4s 61us/step - loss: 0.0935 - acc: 0.8142 - val_loss: 0.0923 - val_acc: 0.8132\n",
            "Epoch 22/50\n",
            "60000/60000 [==============================] - 4s 62us/step - loss: 0.0935 - acc: 0.8142 - val_loss: 0.0922 - val_acc: 0.8133\n",
            "Epoch 23/50\n",
            "60000/60000 [==============================] - 4s 62us/step - loss: 0.0934 - acc: 0.8142 - val_loss: 0.0922 - val_acc: 0.8133\n",
            "Epoch 24/50\n",
            "60000/60000 [==============================] - 4s 62us/step - loss: 0.0934 - acc: 0.8142 - val_loss: 0.0921 - val_acc: 0.8133\n",
            "Epoch 25/50\n",
            "60000/60000 [==============================] - 4s 61us/step - loss: 0.0933 - acc: 0.8142 - val_loss: 0.0921 - val_acc: 0.8133\n",
            "Epoch 26/50\n",
            "60000/60000 [==============================] - 4s 61us/step - loss: 0.0933 - acc: 0.8142 - val_loss: 0.0921 - val_acc: 0.8133\n",
            "Epoch 27/50\n",
            "60000/60000 [==============================] - 4s 62us/step - loss: 0.0932 - acc: 0.8142 - val_loss: 0.0920 - val_acc: 0.8133\n",
            "Epoch 28/50\n",
            "60000/60000 [==============================] - 4s 61us/step - loss: 0.0932 - acc: 0.8142 - val_loss: 0.0920 - val_acc: 0.8134\n",
            "Epoch 29/50\n",
            "60000/60000 [==============================] - 4s 61us/step - loss: 0.0932 - acc: 0.8142 - val_loss: 0.0919 - val_acc: 0.8133\n",
            "Epoch 30/50\n",
            "60000/60000 [==============================] - 4s 62us/step - loss: 0.0931 - acc: 0.8142 - val_loss: 0.0919 - val_acc: 0.8133\n",
            "Epoch 31/50\n",
            "60000/60000 [==============================] - 4s 62us/step - loss: 0.0931 - acc: 0.8142 - val_loss: 0.0918 - val_acc: 0.8133\n",
            "Epoch 32/50\n",
            "60000/60000 [==============================] - 4s 61us/step - loss: 0.0931 - acc: 0.8142 - val_loss: 0.0919 - val_acc: 0.8133\n",
            "Epoch 33/50\n",
            "60000/60000 [==============================] - 4s 62us/step - loss: 0.0930 - acc: 0.8142 - val_loss: 0.0919 - val_acc: 0.8133\n",
            "Epoch 34/50\n",
            "60000/60000 [==============================] - 4s 62us/step - loss: 0.0930 - acc: 0.8142 - val_loss: 0.0918 - val_acc: 0.8132\n",
            "Epoch 35/50\n",
            "60000/60000 [==============================] - 4s 63us/step - loss: 0.0930 - acc: 0.8142 - val_loss: 0.0918 - val_acc: 0.8133\n",
            "Epoch 36/50\n",
            "60000/60000 [==============================] - 4s 64us/step - loss: 0.0930 - acc: 0.8142 - val_loss: 0.0918 - val_acc: 0.8133\n",
            "Epoch 37/50\n",
            "60000/60000 [==============================] - 4s 62us/step - loss: 0.0930 - acc: 0.8142 - val_loss: 0.0918 - val_acc: 0.8132\n",
            "Epoch 38/50\n",
            "60000/60000 [==============================] - 4s 63us/step - loss: 0.0929 - acc: 0.8142 - val_loss: 0.0917 - val_acc: 0.8133\n",
            "Epoch 39/50\n",
            "60000/60000 [==============================] - 4s 63us/step - loss: 0.0929 - acc: 0.8142 - val_loss: 0.0918 - val_acc: 0.8133\n",
            "Epoch 40/50\n",
            "60000/60000 [==============================] - 4s 62us/step - loss: 0.0929 - acc: 0.8142 - val_loss: 0.0917 - val_acc: 0.8133\n",
            "Epoch 41/50\n",
            "60000/60000 [==============================] - 4s 63us/step - loss: 0.0929 - acc: 0.8142 - val_loss: 0.0917 - val_acc: 0.8133\n",
            "Epoch 42/50\n",
            "60000/60000 [==============================] - 4s 65us/step - loss: 0.0929 - acc: 0.8142 - val_loss: 0.0917 - val_acc: 0.8133\n",
            "Epoch 43/50\n",
            "60000/60000 [==============================] - 4s 63us/step - loss: 0.0929 - acc: 0.8142 - val_loss: 0.0917 - val_acc: 0.8133\n",
            "Epoch 44/50\n",
            "60000/60000 [==============================] - 4s 64us/step - loss: 0.0929 - acc: 0.8142 - val_loss: 0.0917 - val_acc: 0.8133\n",
            "Epoch 45/50\n",
            "60000/60000 [==============================] - 4s 64us/step - loss: 0.0928 - acc: 0.8142 - val_loss: 0.0916 - val_acc: 0.8133\n",
            "Epoch 46/50\n",
            "60000/60000 [==============================] - 4s 64us/step - loss: 0.0928 - acc: 0.8142 - val_loss: 0.0917 - val_acc: 0.8133\n",
            "Epoch 47/50\n",
            "60000/60000 [==============================] - 4s 64us/step - loss: 0.0928 - acc: 0.8142 - val_loss: 0.0916 - val_acc: 0.8133\n",
            "Epoch 48/50\n",
            "60000/60000 [==============================] - 4s 62us/step - loss: 0.0928 - acc: 0.8142 - val_loss: 0.0917 - val_acc: 0.8133\n",
            "Epoch 49/50\n",
            "60000/60000 [==============================] - 4s 64us/step - loss: 0.0928 - acc: 0.8142 - val_loss: 0.0916 - val_acc: 0.8133\n",
            "Epoch 50/50\n",
            "60000/60000 [==============================] - 4s 64us/step - loss: 0.0928 - acc: 0.8142 - val_loss: 0.0916 - val_acc: 0.8134\n"
          ],
          "name": "stdout"
        },
        {
          "output_type": "execute_result",
          "data": {
            "text/plain": [
              "<keras.callbacks.History at 0x7f475307c0b8>"
            ]
          },
          "metadata": {
            "tags": []
          },
          "execution_count": 10
        }
      ]
    },
    {
      "cell_type": "code",
      "metadata": {
        "id": "80aXse4zsEJS",
        "colab_type": "code",
        "colab": {
          "base_uri": "https://localhost:8080/",
          "height": 221
        },
        "outputId": "3a3e85e1-4e0e-470f-afb3-cdf6af0ab916"
      },
      "source": [
        "dimensao_original = Input(shape = (784, ))\n",
        "camada_encoder = autoencoder.layers[0]\n",
        "encoder = Model(dimensao_original, camada_encoder(dimensao_original))\n",
        "encoder.summary()"
      ],
      "execution_count": 11,
      "outputs": [
        {
          "output_type": "stream",
          "text": [
            "Model: \"model_1\"\n",
            "_________________________________________________________________\n",
            "Layer (type)                 Output Shape              Param #   \n",
            "=================================================================\n",
            "input_1 (InputLayer)         (None, 784)               0         \n",
            "_________________________________________________________________\n",
            "dense_1 (Dense)              (None, 32)                25120     \n",
            "=================================================================\n",
            "Total params: 25,120\n",
            "Trainable params: 25,120\n",
            "Non-trainable params: 0\n",
            "_________________________________________________________________\n"
          ],
          "name": "stdout"
        }
      ]
    },
    {
      "cell_type": "code",
      "metadata": {
        "id": "SNTOB_f6tC7K",
        "colab_type": "code",
        "colab": {}
      },
      "source": [
        "imagens_codificadas = encoder.predict(previsores_teste)#codificando as imagens\n",
        "imagens_decodificadas = autoencoder.predict(previsores_teste)#faz o encode e logo apos faz o decode"
      ],
      "execution_count": 0,
      "outputs": []
    },
    {
      "cell_type": "code",
      "metadata": {
        "id": "hTpSZHXYt0Mj",
        "colab_type": "code",
        "colab": {
          "base_uri": "https://localhost:8080/",
          "height": 336
        },
        "outputId": "19c2f74f-9593-4d11-a7fd-ab0a9470d9c4"
      },
      "source": [
        "numero_imagens = 10\n",
        "imagens_teste = np.random.randint(previsores_teste.shape[0], size = numero_imagens)# seleciona 10 imagens e um intervalo de 0 a 10000\n",
        "plt.figure(figsize=(18, 18))\n",
        "for i, indice_imagem in enumerate(imagens_teste):\n",
        "  # imagem original\n",
        "  eixo = plt.subplot(10, 10, i + 1)\n",
        "  plt.imshow(previsores_teste[indice_imagem].reshape(28, 28))\n",
        "  plt.xticks(())\n",
        "  plt.yticks(())\n",
        "    \n",
        "  # imagem codificada\n",
        "  eixo = plt.subplot(10, 10, i + 1 + numero_imagens)\n",
        "  plt.imshow(imagens_codificadas[indice_imagem].reshape(8, 4))\n",
        "  plt.xticks(())\n",
        "  plt.yticks(())\n",
        "    \n",
        "  # imagem reconstruÃ­da\n",
        "  eixo = plt.subplot(10, 10, i + 1 + numero_imagens * 2)\n",
        "  plt.imshow(imagens_decodificadas[indice_imagem].reshape(28, 28))\n",
        "  plt.xticks(())\n",
        "  plt.yticks(())\n",
        "    "
      ],
      "execution_count": 21,
      "outputs": [
        {
          "output_type": "display_data",
          "data": {
            "image/png": "[encoded data removed]",
            "text/plain": [
              "<Figure size 1296x1296 with 30 Axes>"
            ]
          },
          "metadata": {
            "tags": []
          }
        }
      ]
    }
  ]
}