{
  "nbformat": 4,
  "nbformat_minor": 0,
  "metadata": {
    "colab": {
      "name": "Classificação_Img_Digitos_Melhorado",
      "provenance": [],
      "authorship_tag": "ABX9TyOYcyalula8nSDBuJuJ+dx0",
      "include_colab_link": true
    },
    "kernelspec": {
      "name": "python3",
      "display_name": "Python 3"
    }
  },
  "cells": [
    {
      "cell_type": "markdown",
      "metadata": {
        "id": "view-in-github",
        "colab_type": "text"
      },
      "source": [
        "<a href=\"https://colab.research.google.com/github/Jeansds/Curso_Udemy---Deep-Learning-com-Python-de-A-a-Z/blob/master/Classifica%C3%A7%C3%A3o_Img_Digitos_Melhorado.ipynb\" target=\"_parent\"><img src=\"https://colab.research.google.com/assets/colab-badge.svg\" alt=\"Open In Colab\"/></a>"
      ]
    },
    {
      "cell_type": "code",
      "metadata": {
        "id": "TIYvcUxMsuFS",
        "colab_type": "code",
        "colab": {}
      },
      "source": [
        "import matplotlib.pyplot as plt\n",
        "from keras.datasets import mnist\n",
        "from keras.models import Sequential\n",
        "from keras.layers import Dense, Flatten, Dropout\n",
        "from keras.utils import np_utils\n",
        "from keras.layers import Conv2D, MaxPooling2D\n",
        "from keras.leayes.normalization import BatchNormalization"
      ],
      "execution_count": 0,
      "outputs": []
    },
    {
      "cell_type": "code",
      "metadata": {
        "id": "WEBMbeZVRCOH",
        "colab_type": "code",
        "colab": {}
      },
      "source": [
        "(X_treinamento, y_treinamento), (X_teste, y_teste) = mnist.load_data()"
      ],
      "execution_count": 0,
      "outputs": []
    },
    {
      "cell_type": "code",
      "metadata": {
        "id": "VfJLbFsmRjRL",
        "colab_type": "code",
        "colab": {
          "base_uri": "https://localhost:8080/",
          "height": 298
        },
        "outputId": "57ccebce-babd-4d07-82c3-b9beda7f2c64"
      },
      "source": [
        "plt.imshow(X_treinamento[2], cmap = 'gray') # somente altera a visualização desta img, porem esse é o objetivo final para todas\n",
        "plt.title('classe' + str(y_treinamento[2]))"
      ],
      "execution_count": 11,
      "outputs": [
        {
          "output_type": "execute_result",
          "data": {
            "text/plain": [
              "Text(0.5, 1.0, 'classe4')"
            ]
          },
          "metadata": {
            "tags": []
          },
          "execution_count": 11
        },
        {
          "output_type": "display_data",
          "data": {
            "image/png": "[encoded data removed]",
            "text/plain": [
              "<Figure size 432x288 with 1 Axes>"
            ]
          },
          "metadata": {
            "tags": []
          }
        }
      ]
    },
    {
      "cell_type": "code",
      "metadata": {
        "id": "4-QwkC5cRuRM",
        "colab_type": "code",
        "colab": {}
      },
      "source": [
        "previsores_treinamento = X_treinamento.reshape(X_treinamento.shape[0], 28, 28, 1)\n",
        "previsores_teste = X_teste.reshape(X_teste.shape[0], 28, 28, 1)\n",
        "previsores_treinamento = previsores_treinamento.astype('float32')\n",
        "previsores_teste = previsores_teste.astype('float32')\n",
        "previsores_treinamento /= 255 #deixa os valores em escala de 0 a 1\n",
        "previsores_teste /= 255 # 255 pois cada valor ocupa 1 bit e cada bit vai de 0 a 255 na faixa RGB"
      ],
      "execution_count": 0,
      "outputs": []
    },
    {
      "cell_type": "code",
      "metadata": {
        "id": "Ez5fm7bkT_AT",
        "colab_type": "code",
        "colab": {}
      },
      "source": [
        "classe_treinamento = np_utils.to_categorical(y_treinamento, 10) # variavel dummy\n",
        "classe_teste = np_utils.to_categorical(y_teste, 10) # variavel dummy"
      ],
      "execution_count": 0,
      "outputs": []
    },
    {
      "cell_type": "code",
      "metadata": {
        "id": "hPjBUg4QUuDK",
        "colab_type": "code",
        "colab": {}
      },
      "source": [
        "#rede neural\n",
        "classificador = Sequential()\n",
        "classificador.add(Conv2D(32, (3, 3), input_shape = (28, 28, 1), activation = 'relu'))\n",
        "classificador.add(BatchNormalizaton())#Melhoria\n",
        "classificador.add(MaxPooling2D(pool_size = (2, 2)))\n",
        "\n",
        "classificador.add(Conv2D(32, (3, 3), activation = 'relu'))#Melhoria\n",
        "classificador.add(BatchNormalizaton())#Melhoria\n",
        "classificador.add(MaxPooling2D(pool_size = (2, 2)))#Melhoria\n",
        "classificador.add(Flatten())#flatten só é utilizado apos a finalização da utilização da normalização e o maxpooling\n",
        "\n",
        "classificador.add(Dense(units = 128, activation = 'relu'))\n",
        "classificador.add(Dropout(0.2))#Melhoria\n",
        "classificador.add(Dense(units = 128, activation = 'relu'))#Melhoria\n",
        "classificador.add(Dropout(0.2))#Melhoria\n",
        "classificador.add(Dense(units = 10, activation = 'softmax'))\n",
        "classificador.compile(loss = 'categorical_crossentropy',\n",
        "                      optimizer = 'adam', metrics = ['accuracy'])\n",
        "classificador.fit(previsores_treinamento, classe_treinamento,\n",
        "                  batch_size = 128, epochs = 5,\n",
        "                  validation_data = (previsores_teste, classe_teste))"
      ],
      "execution_count": 0,
      "outputs": []
    }
  ]
}