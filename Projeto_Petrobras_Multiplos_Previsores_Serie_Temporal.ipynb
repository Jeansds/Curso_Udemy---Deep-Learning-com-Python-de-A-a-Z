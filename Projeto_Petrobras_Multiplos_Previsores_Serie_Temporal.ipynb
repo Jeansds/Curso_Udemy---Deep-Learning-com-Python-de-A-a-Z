{
  "nbformat": 4,
  "nbformat_minor": 0,
  "metadata": {
    "colab": {
      "name": "Projeto_Petrobras_Multiplos_Previsores_Serie_Temporal",
      "provenance": [],
      "authorship_tag": "ABX9TyP4GVLz1vIa+eC7VEGzxrHz",
      "include_colab_link": true
    },
    "kernelspec": {
      "name": "python3",
      "display_name": "Python 3"
    }
  },
  "cells": [
    {
      "cell_type": "markdown",
      "metadata": {
        "id": "view-in-github",
        "colab_type": "text"
      },
      "source": [
        "<a href=\"https://colab.research.google.com/github/Jeansds/Curso_Udemy---Deep-Learning-com-Python-de-A-a-Z/blob/master/Projeto_Petrobras_Multiplos_Previsores_Serie_Temporal.ipynb\" target=\"_parent\"><img src=\"https://colab.research.google.com/assets/colab-badge.svg\" alt=\"Open In Colab\"/></a>"
      ]
    },
    {
      "cell_type": "code",
      "metadata": {
        "id": "oZWUaGQLb2Od",
        "colab_type": "code",
        "colab": {}
      },
      "source": [
        "from keras.models import Sequential\n",
        "from keras.layers import Dense, Dropout, LSTM\n",
        "import numpy as np\n",
        "import pandas as pd\n",
        "from sklearn.preprocessing import MinMaxScaler\n",
        "import matplotlib.pyplot as plt\n",
        "from keras.callbacks import EarlyStopping, ReduceLROnPlateau, ModelCheckpoint"
      ],
      "execution_count": 0,
      "outputs": []
    },
    {
      "cell_type": "code",
      "metadata": {
        "id": "Tp5aDi5Yb-e5",
        "colab_type": "code",
        "colab": {}
      },
      "source": [
        "base = pd.read_csv('/content/sample_data/petr4_treinamento.csv')\n",
        "base = base.dropna()\n",
        "base_treinamento = base.iloc[:, 1:7].values\n",
        "normalizador = MinMaxScaler(feature_range = (0, 1))\n",
        "base_treinamento_normalizada = normalizador.fit_transform(base_treinamento)"
      ],
      "execution_count": 0,
      "outputs": []
    },
    {
      "cell_type": "code",
      "metadata": {
        "id": "xZ07OjuSc7kH",
        "colab_type": "code",
        "colab": {}
      },
      "source": [
        "\n",
        "previsores = []\n",
        "preco_real = []\n",
        "for i in range(90, len(base_treinamento_normalizada)):\n",
        "  previsores.append(base_treinamento_normalizada[i - 90: i, 0: 6])\n",
        "  preco_real.append(base_treinamento_normalizada[i, 0])\n",
        "previsores, preco = np.array(previsores), np.array(preco_real)"
      ],
      "execution_count": 0,
      "outputs": []
    },
    {
      "cell_type": "code",
      "metadata": {
        "id": "sV1GcUBPebz4",
        "colab_type": "code",
        "colab": {
          "base_uri": "https://localhost:8080/",
          "height": 258
        },
        "outputId": "c29ca619-23db-4569-d063-01a9953e50c9"
      },
      "source": [
        "regressor = Sequential()\n",
        "regressor.add(LSTM(units = 100, return_sequences = True, input_shape = (previsores.shape[1], previsores.shape[2])))#return_sequences passa a informacao para as proxima camada LSTM\n",
        "regressor.add(Dropout(0.3))\n",
        "\n",
        "regressor.add(LSTM(units = 50, return_sequences = True))\n",
        "regressor.add(Dropout(0.3))\n",
        "\n",
        "regressor.add(LSTM(units = 50, return_sequences = True))\n",
        "regressor.add(Dropout(0.3))\n",
        "\n",
        "regressor.add(LSTM(units = 50))\n",
        "regressor.add(Dropout(0.3))\n",
        "\n",
        "regressor.add(Dense(units = 1, activation = 'sigmoid'))\n",
        "\n",
        "regressor.compile(optimizer = 'adam', loss = 'mean_squared_error',\n",
        "                  metrics = ['mean_absolute_error'])#testando com adam porem é possivel usar o rmsprop"
      ],
      "execution_count": 5,
      "outputs": [
        {
          "output_type": "stream",
          "text": [
            "WARNING:tensorflow:From /usr/local/lib/python3.6/dist-packages/keras/backend/tensorflow_backend.py:66: The name tf.get_default_graph is deprecated. Please use tf.compat.v1.get_default_graph instead.\n",
            "\n",
            "WARNING:tensorflow:From /usr/local/lib/python3.6/dist-packages/keras/backend/tensorflow_backend.py:541: The name tf.placeholder is deprecated. Please use tf.compat.v1.placeholder instead.\n",
            "\n",
            "WARNING:tensorflow:From /usr/local/lib/python3.6/dist-packages/keras/backend/tensorflow_backend.py:4432: The name tf.random_uniform is deprecated. Please use tf.random.uniform instead.\n",
            "\n",
            "WARNING:tensorflow:From /usr/local/lib/python3.6/dist-packages/keras/backend/tensorflow_backend.py:148: The name tf.placeholder_with_default is deprecated. Please use tf.compat.v1.placeholder_with_default instead.\n",
            "\n",
            "WARNING:tensorflow:From /usr/local/lib/python3.6/dist-packages/keras/backend/tensorflow_backend.py:3733: calling dropout (from tensorflow.python.ops.nn_ops) with keep_prob is deprecated and will be removed in a future version.\n",
            "Instructions for updating:\n",
            "Please use `rate` instead of `keep_prob`. Rate should be set to `rate = 1 - keep_prob`.\n",
            "WARNING:tensorflow:From /usr/local/lib/python3.6/dist-packages/keras/optimizers.py:793: The name tf.train.Optimizer is deprecated. Please use tf.compat.v1.train.Optimizer instead.\n",
            "\n"
          ],
          "name": "stdout"
        }
      ]
    },
    {
      "cell_type": "code",
      "metadata": {
        "id": "9Jg8vL_afENm",
        "colab_type": "code",
        "colab": {}
      },
      "source": [
        "es = EarlyStopping(monitor = 'loss', min_delta = 1e-10, \n",
        "                   patience = 10, verbose = 1) #ele percebe quando o resultado para de melhorar e para o treinamento 10/10 Função\n",
        "rlr = ReduceLROnPlateau(monitor = 'loss', factor = 0.2,\n",
        "                        patience = 5, verbose = 1)#reduz a taxa de aprendizagem para melhorar o valor da metrica se não perceber melhora\n",
        "mcp = ModelCheckpoint(filepath = 'pesos.h5', monitor = 'loss',\n",
        "                      save_best_only = True, verbose = 1)#salva os pesos do modelo a cada epoch assim voce pode pegar o melhor modelo"
      ],
      "execution_count": 0,
      "outputs": []
    },
    {
      "cell_type": "code",
      "metadata": {
        "id": "gEStB_FJkyIM",
        "colab_type": "code",
        "colab": {
          "base_uri": "https://localhost:8080/",
          "height": 1000
        },
        "outputId": "bb6744bc-aee7-4101-9c8f-7d9d3155638f"
      },
      "source": [
        "regressor.fit(previsores, preco_real, epochs = 100, batch_size = 32,\n",
        "              callbacks = [es, rlr, mcp])"
      ],
      "execution_count": 7,
      "outputs": [
        {
          "output_type": "stream",
          "text": [
            "WARNING:tensorflow:From /usr/local/lib/python3.6/dist-packages/tensorflow_core/python/ops/math_grad.py:1424: where (from tensorflow.python.ops.array_ops) is deprecated and will be removed in a future version.\n",
            "Instructions for updating:\n",
            "Use tf.where in 2.0, which has the same broadcast rule as np.where\n",
            "WARNING:tensorflow:From /usr/local/lib/python3.6/dist-packages/keras/backend/tensorflow_backend.py:1033: The name tf.assign_add is deprecated. Please use tf.compat.v1.assign_add instead.\n",
            "\n",
            "WARNING:tensorflow:From /usr/local/lib/python3.6/dist-packages/keras/backend/tensorflow_backend.py:1020: The name tf.assign is deprecated. Please use tf.compat.v1.assign instead.\n",
            "\n",
            "WARNING:tensorflow:From /usr/local/lib/python3.6/dist-packages/keras/backend/tensorflow_backend.py:3005: The name tf.Session is deprecated. Please use tf.compat.v1.Session instead.\n",
            "\n",
            "Epoch 1/100\n",
            "WARNING:tensorflow:From /usr/local/lib/python3.6/dist-packages/keras/backend/tensorflow_backend.py:190: The name tf.get_default_session is deprecated. Please use tf.compat.v1.get_default_session instead.\n",
            "\n",
            "WARNING:tensorflow:From /usr/local/lib/python3.6/dist-packages/keras/backend/tensorflow_backend.py:197: The name tf.ConfigProto is deprecated. Please use tf.compat.v1.ConfigProto instead.\n",
            "\n",
            "WARNING:tensorflow:From /usr/local/lib/python3.6/dist-packages/keras/backend/tensorflow_backend.py:207: The name tf.global_variables is deprecated. Please use tf.compat.v1.global_variables instead.\n",
            "\n",
            "WARNING:tensorflow:From /usr/local/lib/python3.6/dist-packages/keras/backend/tensorflow_backend.py:216: The name tf.is_variable_initialized is deprecated. Please use tf.compat.v1.is_variable_initialized instead.\n",
            "\n",
            "WARNING:tensorflow:From /usr/local/lib/python3.6/dist-packages/keras/backend/tensorflow_backend.py:223: The name tf.variables_initializer is deprecated. Please use tf.compat.v1.variables_initializer instead.\n",
            "\n",
            "1152/1152 [==============================] - 14s 12ms/step - loss: 0.0215 - mean_absolute_error: 0.1115\n",
            "\n",
            "Epoch 00001: loss improved from inf to 0.02155, saving model to pesos.h5\n",
            "Epoch 2/100\n",
            "1152/1152 [==============================] - 11s 10ms/step - loss: 0.0053 - mean_absolute_error: 0.0566\n",
            "\n",
            "Epoch 00002: loss improved from 0.02155 to 0.00531, saving model to pesos.h5\n",
            "Epoch 3/100\n",
            "1152/1152 [==============================] - 11s 10ms/step - loss: 0.0042 - mean_absolute_error: 0.0504\n",
            "\n",
            "Epoch 00003: loss improved from 0.00531 to 0.00417, saving model to pesos.h5\n",
            "Epoch 4/100\n",
            "1152/1152 [==============================] - 11s 10ms/step - loss: 0.0039 - mean_absolute_error: 0.0489\n",
            "\n",
            "Epoch 00004: loss improved from 0.00417 to 0.00390, saving model to pesos.h5\n",
            "Epoch 5/100\n",
            "1152/1152 [==============================] - 11s 10ms/step - loss: 0.0032 - mean_absolute_error: 0.0438\n",
            "\n",
            "Epoch 00005: loss improved from 0.00390 to 0.00321, saving model to pesos.h5\n",
            "Epoch 6/100\n",
            "1152/1152 [==============================] - 11s 10ms/step - loss: 0.0032 - mean_absolute_error: 0.0429\n",
            "\n",
            "Epoch 00006: loss improved from 0.00321 to 0.00316, saving model to pesos.h5\n",
            "Epoch 7/100\n",
            "1152/1152 [==============================] - 11s 10ms/step - loss: 0.0031 - mean_absolute_error: 0.0423\n",
            "\n",
            "Epoch 00007: loss improved from 0.00316 to 0.00311, saving model to pesos.h5\n",
            "Epoch 8/100\n",
            "1152/1152 [==============================] - 11s 10ms/step - loss: 0.0028 - mean_absolute_error: 0.0410\n",
            "\n",
            "Epoch 00008: loss improved from 0.00311 to 0.00283, saving model to pesos.h5\n",
            "Epoch 9/100\n",
            "1152/1152 [==============================] - 11s 10ms/step - loss: 0.0028 - mean_absolute_error: 0.0406\n",
            "\n",
            "Epoch 00009: loss improved from 0.00283 to 0.00281, saving model to pesos.h5\n",
            "Epoch 10/100\n",
            "1152/1152 [==============================] - 11s 10ms/step - loss: 0.0027 - mean_absolute_error: 0.0403\n",
            "\n",
            "Epoch 00010: loss improved from 0.00281 to 0.00274, saving model to pesos.h5\n",
            "Epoch 11/100\n",
            "1152/1152 [==============================] - 11s 10ms/step - loss: 0.0028 - mean_absolute_error: 0.0405\n",
            "\n",
            "Epoch 00011: loss did not improve from 0.00274\n",
            "Epoch 12/100\n",
            "1152/1152 [==============================] - 11s 10ms/step - loss: 0.0025 - mean_absolute_error: 0.0390\n",
            "\n",
            "Epoch 00012: loss improved from 0.00274 to 0.00252, saving model to pesos.h5\n",
            "Epoch 13/100\n",
            "1152/1152 [==============================] - 11s 10ms/step - loss: 0.0023 - mean_absolute_error: 0.0363\n",
            "\n",
            "Epoch 00013: loss improved from 0.00252 to 0.00233, saving model to pesos.h5\n",
            "Epoch 14/100\n",
            "1152/1152 [==============================] - 11s 10ms/step - loss: 0.0022 - mean_absolute_error: 0.0365\n",
            "\n",
            "Epoch 00014: loss improved from 0.00233 to 0.00224, saving model to pesos.h5\n",
            "Epoch 15/100\n",
            "1152/1152 [==============================] - 11s 10ms/step - loss: 0.0021 - mean_absolute_error: 0.0345\n",
            "\n",
            "Epoch 00015: loss improved from 0.00224 to 0.00206, saving model to pesos.h5\n",
            "Epoch 16/100\n",
            "1152/1152 [==============================] - 11s 10ms/step - loss: 0.0020 - mean_absolute_error: 0.0348\n",
            "\n",
            "Epoch 00016: loss improved from 0.00206 to 0.00199, saving model to pesos.h5\n",
            "Epoch 17/100\n",
            "1152/1152 [==============================] - 11s 10ms/step - loss: 0.0018 - mean_absolute_error: 0.0318\n",
            "\n",
            "Epoch 00017: loss improved from 0.00199 to 0.00178, saving model to pesos.h5\n",
            "Epoch 18/100\n",
            "1152/1152 [==============================] - 11s 10ms/step - loss: 0.0020 - mean_absolute_error: 0.0340\n",
            "\n",
            "Epoch 00018: loss did not improve from 0.00178\n",
            "Epoch 19/100\n",
            "1152/1152 [==============================] - 11s 10ms/step - loss: 0.0016 - mean_absolute_error: 0.0304\n",
            "\n",
            "Epoch 00019: loss improved from 0.00178 to 0.00158, saving model to pesos.h5\n",
            "Epoch 20/100\n",
            "1152/1152 [==============================] - 11s 10ms/step - loss: 0.0016 - mean_absolute_error: 0.0300\n",
            "\n",
            "Epoch 00020: loss did not improve from 0.00158\n",
            "Epoch 21/100\n",
            "1152/1152 [==============================] - 11s 10ms/step - loss: 0.0017 - mean_absolute_error: 0.0306\n",
            "\n",
            "Epoch 00021: loss did not improve from 0.00158\n",
            "Epoch 22/100\n",
            "1152/1152 [==============================] - 11s 10ms/step - loss: 0.0017 - mean_absolute_error: 0.0308\n",
            "\n",
            "Epoch 00022: loss did not improve from 0.00158\n",
            "Epoch 23/100\n",
            "1152/1152 [==============================] - 11s 10ms/step - loss: 0.0016 - mean_absolute_error: 0.0306\n",
            "\n",
            "Epoch 00023: loss did not improve from 0.00158\n",
            "Epoch 24/100\n",
            "1152/1152 [==============================] - 11s 10ms/step - loss: 0.0017 - mean_absolute_error: 0.0314\n",
            "\n",
            "Epoch 00024: ReduceLROnPlateau reducing learning rate to 0.00020000000949949026.\n",
            "\n",
            "Epoch 00024: loss did not improve from 0.00158\n",
            "Epoch 25/100\n",
            "1152/1152 [==============================] - 11s 10ms/step - loss: 0.0014 - mean_absolute_error: 0.0290\n",
            "\n",
            "Epoch 00025: loss improved from 0.00158 to 0.00144, saving model to pesos.h5\n",
            "Epoch 26/100\n",
            "1152/1152 [==============================] - 11s 10ms/step - loss: 0.0013 - mean_absolute_error: 0.0273\n",
            "\n",
            "Epoch 00026: loss improved from 0.00144 to 0.00133, saving model to pesos.h5\n",
            "Epoch 27/100\n",
            "1152/1152 [==============================] - 11s 10ms/step - loss: 0.0012 - mean_absolute_error: 0.0269\n",
            "\n",
            "Epoch 00027: loss improved from 0.00133 to 0.00124, saving model to pesos.h5\n",
            "Epoch 28/100\n",
            "1152/1152 [==============================] - 11s 10ms/step - loss: 0.0012 - mean_absolute_error: 0.0266\n",
            "\n",
            "Epoch 00028: loss did not improve from 0.00124\n",
            "Epoch 29/100\n",
            "1152/1152 [==============================] - 11s 10ms/step - loss: 0.0013 - mean_absolute_error: 0.0271\n",
            "\n",
            "Epoch 00029: loss did not improve from 0.00124\n",
            "Epoch 30/100\n",
            "1152/1152 [==============================] - 11s 10ms/step - loss: 0.0013 - mean_absolute_error: 0.0271\n",
            "\n",
            "Epoch 00030: loss did not improve from 0.00124\n",
            "Epoch 31/100\n",
            "1152/1152 [==============================] - 11s 10ms/step - loss: 0.0013 - mean_absolute_error: 0.0273\n",
            "\n",
            "Epoch 00031: ReduceLROnPlateau reducing learning rate to 4.0000001899898055e-05.\n",
            "\n",
            "Epoch 00031: loss did not improve from 0.00124\n",
            "Epoch 32/100\n",
            "1152/1152 [==============================] - 11s 10ms/step - loss: 0.0013 - mean_absolute_error: 0.0265\n",
            "\n",
            "Epoch 00032: loss did not improve from 0.00124\n",
            "Epoch 33/100\n",
            "1152/1152 [==============================] - 11s 10ms/step - loss: 0.0013 - mean_absolute_error: 0.0266\n",
            "\n",
            "Epoch 00033: loss did not improve from 0.00124\n",
            "Epoch 34/100\n",
            "1152/1152 [==============================] - 11s 10ms/step - loss: 0.0012 - mean_absolute_error: 0.0259\n",
            "\n",
            "Epoch 00034: loss improved from 0.00124 to 0.00123, saving model to pesos.h5\n",
            "Epoch 35/100\n",
            "1152/1152 [==============================] - 11s 10ms/step - loss: 0.0012 - mean_absolute_error: 0.0262\n",
            "\n",
            "Epoch 00035: loss did not improve from 0.00123\n",
            "Epoch 36/100\n",
            "1152/1152 [==============================] - 11s 10ms/step - loss: 0.0014 - mean_absolute_error: 0.0274\n",
            "\n",
            "Epoch 00036: loss did not improve from 0.00123\n",
            "Epoch 37/100\n",
            "1152/1152 [==============================] - 11s 10ms/step - loss: 0.0013 - mean_absolute_error: 0.0266\n",
            "\n",
            "Epoch 00037: loss did not improve from 0.00123\n",
            "Epoch 38/100\n",
            "1152/1152 [==============================] - 11s 10ms/step - loss: 0.0013 - mean_absolute_error: 0.0270\n",
            "\n",
            "Epoch 00038: loss did not improve from 0.00123\n",
            "Epoch 39/100\n",
            "1152/1152 [==============================] - 11s 10ms/step - loss: 0.0013 - mean_absolute_error: 0.0263\n",
            "\n",
            "Epoch 00039: ReduceLROnPlateau reducing learning rate to 8.000000525498762e-06.\n",
            "\n",
            "Epoch 00039: loss did not improve from 0.00123\n",
            "Epoch 40/100\n",
            "1152/1152 [==============================] - 11s 10ms/step - loss: 0.0012 - mean_absolute_error: 0.0264\n",
            "\n",
            "Epoch 00040: loss did not improve from 0.00123\n",
            "Epoch 41/100\n",
            "1152/1152 [==============================] - 11s 10ms/step - loss: 0.0013 - mean_absolute_error: 0.0263\n",
            "\n",
            "Epoch 00041: loss did not improve from 0.00123\n",
            "Epoch 42/100\n",
            "1152/1152 [==============================] - 11s 10ms/step - loss: 0.0013 - mean_absolute_error: 0.0263\n",
            "\n",
            "Epoch 00042: loss did not improve from 0.00123\n",
            "Epoch 43/100\n",
            "1152/1152 [==============================] - 11s 10ms/step - loss: 0.0012 - mean_absolute_error: 0.0258\n",
            "\n",
            "Epoch 00043: loss improved from 0.00123 to 0.00120, saving model to pesos.h5\n",
            "Epoch 44/100\n",
            "1152/1152 [==============================] - 11s 10ms/step - loss: 0.0013 - mean_absolute_error: 0.0267\n",
            "\n",
            "Epoch 00044: ReduceLROnPlateau reducing learning rate to 1.6000001778593287e-06.\n",
            "\n",
            "Epoch 00044: loss did not improve from 0.00120\n",
            "Epoch 45/100\n",
            "1152/1152 [==============================] - 11s 10ms/step - loss: 0.0012 - mean_absolute_error: 0.0261\n",
            "\n",
            "Epoch 00045: loss did not improve from 0.00120\n",
            "Epoch 46/100\n",
            "1152/1152 [==============================] - 11s 10ms/step - loss: 0.0013 - mean_absolute_error: 0.0264\n",
            "\n",
            "Epoch 00046: loss did not improve from 0.00120\n",
            "Epoch 47/100\n",
            "1152/1152 [==============================] - 11s 10ms/step - loss: 0.0012 - mean_absolute_error: 0.0255\n",
            "\n",
            "Epoch 00047: loss improved from 0.00120 to 0.00120, saving model to pesos.h5\n",
            "Epoch 48/100\n",
            "1152/1152 [==============================] - 11s 10ms/step - loss: 0.0012 - mean_absolute_error: 0.0264\n",
            "\n",
            "Epoch 00048: loss did not improve from 0.00120\n",
            "Epoch 49/100\n",
            "1152/1152 [==============================] - 11s 10ms/step - loss: 0.0012 - mean_absolute_error: 0.0266\n",
            "\n",
            "Epoch 00049: ReduceLROnPlateau reducing learning rate to 3.200000264769187e-07.\n",
            "\n",
            "Epoch 00049: loss did not improve from 0.00120\n",
            "Epoch 50/100\n",
            "1152/1152 [==============================] - 12s 10ms/step - loss: 0.0013 - mean_absolute_error: 0.0269\n",
            "\n",
            "Epoch 00050: loss did not improve from 0.00120\n",
            "Epoch 51/100\n",
            "1152/1152 [==============================] - 11s 10ms/step - loss: 0.0012 - mean_absolute_error: 0.0264\n",
            "\n",
            "Epoch 00051: loss did not improve from 0.00120\n",
            "Epoch 52/100\n",
            "1152/1152 [==============================] - 11s 10ms/step - loss: 0.0013 - mean_absolute_error: 0.0273\n",
            "\n",
            "Epoch 00052: loss did not improve from 0.00120\n",
            "Epoch 53/100\n",
            "1152/1152 [==============================] - 11s 10ms/step - loss: 0.0012 - mean_absolute_error: 0.0258\n",
            "\n",
            "Epoch 00053: loss did not improve from 0.00120\n",
            "Epoch 54/100\n",
            "1152/1152 [==============================] - 12s 10ms/step - loss: 0.0013 - mean_absolute_error: 0.0270\n",
            "\n",
            "Epoch 00054: ReduceLROnPlateau reducing learning rate to 6.400000529538374e-08.\n",
            "\n",
            "Epoch 00054: loss did not improve from 0.00120\n",
            "Epoch 55/100\n",
            "1152/1152 [==============================] - 11s 10ms/step - loss: 0.0013 - mean_absolute_error: 0.0260\n",
            "\n",
            "Epoch 00055: loss did not improve from 0.00120\n",
            "Epoch 56/100\n",
            "1152/1152 [==============================] - 11s 10ms/step - loss: 0.0013 - mean_absolute_error: 0.0264\n",
            "\n",
            "Epoch 00056: loss did not improve from 0.00120\n",
            "Epoch 57/100\n",
            "1152/1152 [==============================] - 11s 10ms/step - loss: 0.0013 - mean_absolute_error: 0.0267\n",
            "\n",
            "Epoch 00057: loss did not improve from 0.00120\n",
            "Epoch 00057: early stopping\n"
          ],
          "name": "stdout"
        },
        {
          "output_type": "execute_result",
          "data": {
            "text/plain": [
              "<keras.callbacks.History at 0x7f70cbf63b70>"
            ]
          },
          "metadata": {
            "tags": []
          },
          "execution_count": 7
        }
      ]
    },
    {
      "cell_type": "code",
      "metadata": {
        "id": "IOPxN9wWlpN8",
        "colab_type": "code",
        "colab": {}
      },
      "source": [
        "base_teste = pd.read_csv('/content/sample_data/petr4_teste.csv')\n",
        "preco_real_teste = base_teste.iloc[:, 1:2].values\n",
        "\n",
        "frames = [base, base_teste]\n",
        "base_completa = pd.concat(frames)\n",
        "base_completa = base_completa.drop('Date', axis = 1)\n",
        "entradas = base_completa[len(base_completa) - len(base_teste)- 90:].values\n",
        "entradas = normalizador.transform(entradas)# normalização das entradas valores entre 0 e 1"
      ],
      "execution_count": 0,
      "outputs": []
    },
    {
      "cell_type": "code",
      "metadata": {
        "id": "CYgWKyvwmeOC",
        "colab_type": "code",
        "colab": {}
      },
      "source": [
        "X_teste = []\n",
        "for i in range(90, len(entradas)):\n",
        "  X_teste.append(entradas[i-90: i, 0:6])\n",
        "X_teste = np.array(X_teste)\n",
        "previsores = regressor.predict(X_teste)\n",
        "normalizador_previsor = MinMaxScaler(feature_range = (0, 1))\n",
        "normalizador_previsor.fit_transform(base_treinamento[:,0: 1])\n",
        "previsores = normalizador_previsor.inverse_transform(previsores)# desnormaliza os dados\n"
      ],
      "execution_count": 0,
      "outputs": []
    },
    {
      "cell_type": "code",
      "metadata": {
        "id": "WB1knbyunefq",
        "colab_type": "code",
        "colab": {
          "base_uri": "https://localhost:8080/",
          "height": 408
        },
        "outputId": "35cf1bc8-592a-413b-f0e8-013f2bb7ec2e"
      },
      "source": [
        "for i in range(len(previsores)):\n",
        "  print(previsores[i], preco_real_teste[i])\n",
        "print(\"Diferença Media em centavos: \" , ((previsores.mean() - preco_real_teste.mean())**2)**1/2)"
      ],
      "execution_count": 16,
      "outputs": [
        {
          "output_type": "stream",
          "text": [
            "[16.173498] [16.190001]\n",
            "[16.251049] [16.49]\n",
            "[16.378012] [16.780001]\n",
            "[16.558084] [16.700001]\n",
            "[16.743559] [16.74]\n",
            "[16.90356] [17.030001]\n",
            "[17.029766] [16.92]\n",
            "[17.089094] [16.879999]\n",
            "[17.116302] [17.040001]\n",
            "[17.154934] [17.32]\n",
            "[17.219614] [17.35]\n",
            "[17.342539] [17.92]\n",
            "[17.589972] [18.35]\n",
            "[17.920555] [18.309999]\n",
            "[18.2189] [18.26]\n",
            "[18.41269] [18.4]\n",
            "[18.467964] [18.42]\n",
            "[18.558918] [19.34]\n",
            "[18.735928] [19.620001]\n",
            "[19.047068] [19.67]\n",
            "[19.407402] [19.77]\n",
            "[19.644646] [19.74]\n",
            "Diferença Media em centavos:  0.02875591711888865\n"
          ],
          "name": "stdout"
        }
      ]
    },
    {
      "cell_type": "code",
      "metadata": {
        "id": "EhtaHgtmodN2",
        "colab_type": "code",
        "colab": {
          "base_uri": "https://localhost:8080/",
          "height": 295
        },
        "outputId": "de98cd99-6bcc-44fe-95fe-9892931d0af6"
      },
      "source": [
        "\n",
        "plt.plot(preco_real_teste, color = 'red', label = 'Preço real')\n",
        "plt.plot(previsores, color = 'blue', label = 'Previsões')\n",
        "plt.title('Previsão Preco das Ações')\n",
        "plt.xlabel('Tempo')\n",
        "plt.ylabel('Valor Yahoo')\n",
        "plt.legend()\n",
        "plt.show()"
      ],
      "execution_count": 15,
      "outputs": [
        {
          "output_type": "display_data",
          "data": {
            "image/png": "[encoded data removed]",
            "text/plain": [
              "<Figure size 432x288 with 1 Axes>"
            ]
          },
          "metadata": {
            "tags": []
          }
        }
      ]
    }
  ]
}