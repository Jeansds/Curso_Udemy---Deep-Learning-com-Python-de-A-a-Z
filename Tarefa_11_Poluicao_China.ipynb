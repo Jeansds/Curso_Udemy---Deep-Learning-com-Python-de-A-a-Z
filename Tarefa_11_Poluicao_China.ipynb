{
  "nbformat": 4,
  "nbformat_minor": 0,
  "metadata": {
    "colab": {
      "name": "Tarefa_11_Poluicao_China",
      "provenance": [],
      "authorship_tag": "ABX9TyPxIOZKtu3VW3UGVbJgYRnK",
      "include_colab_link": true
    },
    "kernelspec": {
      "name": "python3",
      "display_name": "Python 3"
    }
  },
  "cells": [
    {
      "cell_type": "markdown",
      "metadata": {
        "id": "view-in-github",
        "colab_type": "text"
      },
      "source": [
        "<a href=\"https://colab.research.google.com/github/Jeansds/Curso_Udemy---Deep-Learning-com-Python-de-A-a-Z/blob/master/Tarefa_11_Poluicao_China.ipynb\" target=\"_parent\"><img src=\"https://colab.research.google.com/assets/colab-badge.svg\" alt=\"Open In Colab\"/></a>"
      ]
    },
    {
      "cell_type": "code",
      "metadata": {
        "id": "eV_GF8UfssR0",
        "colab_type": "code",
        "colab": {
          "base_uri": "https://localhost:8080/",
          "height": 80
        },
        "outputId": "c64aa5a4-4b0f-49a6-fd1f-4711e656c7df"
      },
      "source": [
        "from keras.models import Sequential\n",
        "from keras.layers import Dense, Dropout, LSTM\n",
        "import numpy as np\n",
        "import pandas as pd\n",
        "from sklearn.preprocessing import MinMaxScaler\n",
        "import matplotlib.pyplot as plt\n",
        "from keras.callbacks import EarlyStopping, ReduceLROnPlateau, ModelCheckpoint"
      ],
      "execution_count": 1,
      "outputs": [
        {
          "output_type": "stream",
          "text": [
            "Using TensorFlow backend.\n"
          ],
          "name": "stderr"
        },
        {
          "output_type": "display_data",
          "data": {
            "text/html": [
              "<p style=\"color: red;\">\n",
              "The default version of TensorFlow in Colab will soon switch to TensorFlow 2.x.<br>\n",
              "We recommend you <a href=\"https://www.tensorflow.org/guide/migrate\" target=\"_blank\">upgrade</a> now \n",
              "or ensure your notebook will continue to use TensorFlow 1.x via the <code>%tensorflow_version 1.x</code> magic:\n",
              "<a href=\"https://colab.research.google.com/notebooks/tensorflow_version.ipynb\" target=\"_blank\">more info</a>.</p>\n"
            ],
            "text/plain": [
              "<IPython.core.display.HTML object>"
            ]
          },
          "metadata": {
            "tags": []
          }
        }
      ]
    },
    {
      "cell_type": "code",
      "metadata": {
        "id": "UDpPaPudstgM",
        "colab_type": "code",
        "colab": {}
      },
      "source": [
        "base = pd.read_csv('/content/sample_data/Poluicao.csv')\n",
        "base = base.dropna()\n",
        "base = base.drop('No', axis = 1)\n",
        "base = base.drop('year', axis = 1)\n",
        "base = base.drop('month', axis = 1)\n",
        "base = base.drop('day', axis = 1)\n",
        "base = base.drop('hour', axis = 1)\n",
        "base = base.drop('cbwd', axis = 1)\n",
        "base_treinamento = base.iloc[:, 0:7].values\n",
        "normalizador = MinMaxScaler(feature_range = (0, 1))\n",
        "base_treinamento_normalizada = normalizador.fit_transform(base_treinamento)"
      ],
      "execution_count": 0,
      "outputs": []
    },
    {
      "cell_type": "code",
      "metadata": {
        "id": "EczPzKJ1tXic",
        "colab_type": "code",
        "colab": {}
      },
      "source": [
        "previsores = []\n",
        "valor_poluicao = []\n",
        "X_teste = []\n",
        "for i in range(90, len(base_treinamento_normalizada)):\n",
        "  previsores.append(base_treinamento_normalizada[i - 90: i, 0: 7])\n",
        "  valor_poluicao.append(base_treinamento_normalizada[i, 0])\n",
        "previsores, valor_poluicao = np.array(previsores), np.array(valor_poluicao)"
      ],
      "execution_count": 0,
      "outputs": []
    },
    {
      "cell_type": "code",
      "metadata": {
        "id": "h1DH0McVtvqu",
        "colab_type": "code",
        "colab": {
          "base_uri": "https://localhost:8080/",
          "height": 258
        },
        "outputId": "c39ad63e-8bbc-418a-a860-dad073c9fd5d"
      },
      "source": [
        "regressor = Sequential()\n",
        "regressor.add(LSTM(units = 100, return_sequences = True, input_shape = (previsores.shape[1], previsores.shape[2])))#return_sequences passa a informacao para as proxima camada LSTM\n",
        "regressor.add(Dropout(0.3))\n",
        "\n",
        "regressor.add(LSTM(units = 50, return_sequences = True))\n",
        "regressor.add(Dropout(0.3))\n",
        "\n",
        "regressor.add(LSTM(units = 50, return_sequences = True))\n",
        "regressor.add(Dropout(0.3))\n",
        "\n",
        "regressor.add(LSTM(units = 50))\n",
        "regressor.add(Dropout(0.3))\n",
        "\n",
        "regressor.add(Dense(units = 1, activation = 'linear'))\n",
        "\n",
        "regressor.compile(optimizer = 'rmsprop', loss = 'mean_squared_error',\n",
        "                  metrics = ['mean_absolute_error'])#testando com adam porem é possivel usar o rmsprop"
      ],
      "execution_count": 4,
      "outputs": [
        {
          "output_type": "stream",
          "text": [
            "WARNING:tensorflow:From /usr/local/lib/python3.6/dist-packages/keras/backend/tensorflow_backend.py:66: The name tf.get_default_graph is deprecated. Please use tf.compat.v1.get_default_graph instead.\n",
            "\n",
            "WARNING:tensorflow:From /usr/local/lib/python3.6/dist-packages/keras/backend/tensorflow_backend.py:541: The name tf.placeholder is deprecated. Please use tf.compat.v1.placeholder instead.\n",
            "\n",
            "WARNING:tensorflow:From /usr/local/lib/python3.6/dist-packages/keras/backend/tensorflow_backend.py:4432: The name tf.random_uniform is deprecated. Please use tf.random.uniform instead.\n",
            "\n",
            "WARNING:tensorflow:From /usr/local/lib/python3.6/dist-packages/keras/backend/tensorflow_backend.py:148: The name tf.placeholder_with_default is deprecated. Please use tf.compat.v1.placeholder_with_default instead.\n",
            "\n",
            "WARNING:tensorflow:From /usr/local/lib/python3.6/dist-packages/keras/backend/tensorflow_backend.py:3733: calling dropout (from tensorflow.python.ops.nn_ops) with keep_prob is deprecated and will be removed in a future version.\n",
            "Instructions for updating:\n",
            "Please use `rate` instead of `keep_prob`. Rate should be set to `rate = 1 - keep_prob`.\n",
            "WARNING:tensorflow:From /usr/local/lib/python3.6/dist-packages/keras/optimizers.py:793: The name tf.train.Optimizer is deprecated. Please use tf.compat.v1.train.Optimizer instead.\n",
            "\n"
          ],
          "name": "stdout"
        }
      ]
    },
    {
      "cell_type": "code",
      "metadata": {
        "id": "MqmVkD5mt2-T",
        "colab_type": "code",
        "colab": {
          "base_uri": "https://localhost:8080/",
          "height": 445
        },
        "outputId": "1c0054bf-e953-4bfb-dd0a-2e145b86ab9a"
      },
      "source": [
        "regressor.fit(previsores, valor_poluicao, epochs = 2, batch_size = 32)"
      ],
      "execution_count": 5,
      "outputs": [
        {
          "output_type": "stream",
          "text": [
            "WARNING:tensorflow:From /usr/local/lib/python3.6/dist-packages/tensorflow_core/python/ops/math_grad.py:1424: where (from tensorflow.python.ops.array_ops) is deprecated and will be removed in a future version.\n",
            "Instructions for updating:\n",
            "Use tf.where in 2.0, which has the same broadcast rule as np.where\n",
            "WARNING:tensorflow:From /usr/local/lib/python3.6/dist-packages/keras/backend/tensorflow_backend.py:1033: The name tf.assign_add is deprecated. Please use tf.compat.v1.assign_add instead.\n",
            "\n",
            "WARNING:tensorflow:From /usr/local/lib/python3.6/dist-packages/keras/backend/tensorflow_backend.py:1020: The name tf.assign is deprecated. Please use tf.compat.v1.assign instead.\n",
            "\n",
            "WARNING:tensorflow:From /usr/local/lib/python3.6/dist-packages/keras/backend/tensorflow_backend.py:3005: The name tf.Session is deprecated. Please use tf.compat.v1.Session instead.\n",
            "\n",
            "Epoch 1/2\n",
            "WARNING:tensorflow:From /usr/local/lib/python3.6/dist-packages/keras/backend/tensorflow_backend.py:190: The name tf.get_default_session is deprecated. Please use tf.compat.v1.get_default_session instead.\n",
            "\n",
            "WARNING:tensorflow:From /usr/local/lib/python3.6/dist-packages/keras/backend/tensorflow_backend.py:197: The name tf.ConfigProto is deprecated. Please use tf.compat.v1.ConfigProto instead.\n",
            "\n",
            "WARNING:tensorflow:From /usr/local/lib/python3.6/dist-packages/keras/backend/tensorflow_backend.py:207: The name tf.global_variables is deprecated. Please use tf.compat.v1.global_variables instead.\n",
            "\n",
            "WARNING:tensorflow:From /usr/local/lib/python3.6/dist-packages/keras/backend/tensorflow_backend.py:216: The name tf.is_variable_initialized is deprecated. Please use tf.compat.v1.is_variable_initialized instead.\n",
            "\n",
            "WARNING:tensorflow:From /usr/local/lib/python3.6/dist-packages/keras/backend/tensorflow_backend.py:223: The name tf.variables_initializer is deprecated. Please use tf.compat.v1.variables_initializer instead.\n",
            "\n",
            "41557/41557 [==============================] - 418s 10ms/step - loss: 0.0026 - mean_absolute_error: 0.0335\n",
            "Epoch 2/2\n",
            "41557/41557 [==============================] - 416s 10ms/step - loss: 0.0010 - mean_absolute_error: 0.0215\n"
          ],
          "name": "stdout"
        },
        {
          "output_type": "execute_result",
          "data": {
            "text/plain": [
              "<keras.callbacks.History at 0x7f72d3019a90>"
            ]
          },
          "metadata": {
            "tags": []
          },
          "execution_count": 5
        }
      ]
    },
    {
      "cell_type": "code",
      "metadata": {
        "id": "JTqeHBL6u7b0",
        "colab_type": "code",
        "colab": {}
      },
      "source": [
        "base_teste = pd.read_csv('/content/sample_data/Teste.csv')\n",
        "base_teste = base_teste.dropna()\n",
        "base_teste = base_teste.drop('No', axis = 1)\n",
        "base_teste = base_teste.drop('year', axis = 1)\n",
        "base_teste = base_teste.drop('month', axis = 1)\n",
        "base_teste = base_teste.drop('day', axis = 1)\n",
        "base_teste = base_teste.drop('hour', axis = 1)\n",
        "base_teste = base_teste.drop('cbwd', axis = 1)\n",
        "poluicao_real = base_teste.iloc[:, 0:1].values\n",
        "\n",
        "frames = [base, base_teste]\n",
        "base_completa = pd.concat(frames)\n",
        "entradas = base_completa[len(base_completa) - len(base_teste)- 90:].values\n",
        "entradas = normalizador.transform(entradas)"
      ],
      "execution_count": 0,
      "outputs": []
    },
    {
      "cell_type": "code",
      "metadata": {
        "id": "q30gRNUgxqtq",
        "colab_type": "code",
        "colab": {
          "base_uri": "https://localhost:8080/",
          "height": 51
        },
        "outputId": "b28df5c2-8cb6-469e-b2e6-33d856082a9b"
      },
      "source": [
        "print(previsores.shape)\n",
        "for i in range(90, len(entradas)):\n",
        "  X_teste.append(entradas[i-90: i, 0:7])\n",
        "X_teste = np.array(X_teste)\n",
        "print(X_teste.shape)\n",
        "previsores = regressor.predict(X_teste)\n",
        "normalizador_previsor = MinMaxScaler(feature_range = (0, 1))\n",
        "normalizador_previsor.fit_transform(base_treinamento[:,0: 1])\n",
        "previsores = normalizador_previsor.inverse_transform(previsores)# desnormaliza os dados"
      ],
      "execution_count": 7,
      "outputs": [
        {
          "output_type": "stream",
          "text": [
            "(41557, 90, 7)\n",
            "(110, 90, 7)\n"
          ],
          "name": "stdout"
        }
      ]
    },
    {
      "cell_type": "code",
      "metadata": {
        "id": "ULBaDmPYyE1f",
        "colab_type": "code",
        "colab": {
          "base_uri": "https://localhost:8080/",
          "height": 1000
        },
        "outputId": "cbc64da5-71af-4f81-e6f7-e40d2d55efc5"
      },
      "source": [
        "for i in range(len(previsores)):\n",
        "  print(previsores[i], poluicao_real[i])\n",
        "print(\"Diferença Media: \" , ((previsores.mean() - poluicao_real.mean())**2)**1/2)"
      ],
      "execution_count": 10,
      "outputs": [
        {
          "output_type": "stream",
          "text": [
            "[168.69621] [185]\n",
            "[177.6505] [191]\n",
            "[178.46573] [194]\n",
            "[181.62434] [194]\n",
            "[185.90501] [192]\n",
            "[182.94333] [208]\n",
            "[200.53185] [224]\n",
            "[216.74768] [249]\n",
            "[240.19684] [317]\n",
            "[304.95816] [328]\n",
            "[311.3772] [349]\n",
            "[335.55176] [327]\n",
            "[306.54752] [348]\n",
            "[334.9253] [363]\n",
            "[341.95245] [385]\n",
            "[364.43127] [393]\n",
            "[365.76846] [388]\n",
            "[359.153] [444]\n",
            "[423.07672] [334]\n",
            "[288.25433] [284]\n",
            "[265.9135] [264]\n",
            "[249.37804] [221]\n",
            "[211.48901] [160]\n",
            "[160.1286] [160]\n",
            "[158.60518] [92]\n",
            "[93.22593] [59]\n",
            "[64.67829] [69]\n",
            "[72.71796] [48]\n",
            "[57.912304] [32]\n",
            "[45.05806] [33]\n",
            "[45.246346] [45]\n",
            "[55.19016] [42]\n",
            "[55.406902] [41]\n",
            "[54.005054] [110]\n",
            "[106.04252] [175]\n",
            "[169.32628] [293]\n",
            "[279.50464] [324]\n",
            "[305.58252] [341]\n",
            "[324.17447] [362]\n",
            "[345.79376] [372]\n",
            "[351.89407] [373]\n",
            "[348.69] [372]\n",
            "[348.1257] [318]\n",
            "[292.64377] [188]\n",
            "[177.83205] [171]\n",
            "[167.72015] [136]\n",
            "[138.06317] [124]\n",
            "[126.73091] [141]\n",
            "[138.34134] [132]\n",
            "[126.36879] [134]\n",
            "[128.4867] [56]\n",
            "[64.94856] [48]\n",
            "[54.954712] [27]\n",
            "[40.29853] [28]\n",
            "[40.29526] [20]\n",
            "[34.13721] [22]\n",
            "[34.97553] [120]\n",
            "[112.2893] [109]\n",
            "[115.57228] [112]\n",
            "[119.963165] [128]\n",
            "[130.08598] [164]\n",
            "[163.19304] [159]\n",
            "[157.39491] [189]\n",
            "[180.67432] [97]\n",
            "[101.905525] [81]\n",
            "[89.05081] [28]\n",
            "[44.94528] [25]\n",
            "[41.08343] [9]\n",
            "[27.41784] [9]\n",
            "[24.286963] [13]\n",
            "[29.697] [17]\n",
            "[28.586178] [16]\n",
            "[28.27031] [25]\n",
            "[32.66989] [48]\n",
            "[50.711758] [49]\n",
            "[55.484337] [73]\n",
            "[77.621994] [65]\n",
            "[75.04851] [55]\n",
            "[67.76261] [60]\n",
            "[69.80872] [63]\n",
            "[71.57916] [79]\n",
            "[86.6383] [35]\n",
            "[51.37405] [26]\n",
            "[38.378582] [20]\n",
            "[31.53441] [8]\n",
            "[15.822508] [16]\n",
            "[21.738663] [10]\n",
            "[22.596472] [11]\n",
            "[24.11391] [20]\n",
            "[31.801167] [9]\n",
            "[24.027176] [8]\n",
            "[20.9038] [9]\n",
            "[20.746794] [8]\n",
            "[18.323206] [8]\n",
            "[19.05958] [8]\n",
            "[19.64283] [8]\n",
            "[18.17874] [7]\n",
            "[16.965101] [12]\n",
            "[21.109749] [17]\n",
            "[24.774303] [11]\n",
            "[18.885105] [9]\n",
            "[17.115314] [11]\n",
            "[20.050745] [8]\n",
            "[22.084148] [9]\n",
            "[23.300116] [10]\n",
            "[23.93377] [8]\n",
            "[19.96931] [10]\n",
            "[21.719734] [10]\n",
            "[21.258022] [8]\n",
            "[20.259289] [12]\n",
            "Diferença Media:  2.9029928194528267\n"
          ],
          "name": "stdout"
        }
      ]
    },
    {
      "cell_type": "code",
      "metadata": {
        "id": "1cEp8OgEyShP",
        "colab_type": "code",
        "colab": {
          "base_uri": "https://localhost:8080/",
          "height": 295
        },
        "outputId": "cca93e5a-528a-49b2-faaa-b714a9e6ba33"
      },
      "source": [
        "plt.plot(poluicao_real, color = 'red', label = 'Poluicao Real')\n",
        "plt.plot(previsores, color = 'blue', label = 'Previsões')\n",
        "plt.title('Previsão')\n",
        "plt.xlabel('Tempo')\n",
        "plt.ylabel('Poluicao')\n",
        "plt.legend()\n",
        "plt.show()"
      ],
      "execution_count": 11,
      "outputs": [
        {
          "output_type": "display_data",
          "data": {
            "image/png": "[encoded data removed]",
            "text/plain": [
              "<Figure size 432x288 with 1 Axes>"
            ]
          },
          "metadata": {
            "tags": []
          }
        }
      ]
    }
  ]
}