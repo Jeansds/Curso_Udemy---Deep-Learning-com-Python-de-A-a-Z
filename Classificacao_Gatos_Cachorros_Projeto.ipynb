{
  "nbformat": 4,
  "nbformat_minor": 0,
  "metadata": {
    "colab": {
      "name": "Classificacao_Gatos_Cachorros_Projeto",
      "provenance": [],
      "authorship_tag": "ABX9TyMcQhoJyY6IUhphgwY1zOzJ",
      "include_colab_link": true
    },
    "kernelspec": {
      "name": "python3",
      "display_name": "Python 3"
    },
    "accelerator": "GPU"
  },
  "cells": [
    {
      "cell_type": "markdown",
      "metadata": {
        "id": "view-in-github",
        "colab_type": "text"
      },
      "source": [
        "<a href=\"https://colab.research.google.com/github/Jeansds/Curso_Udemy---Deep-Learning-com-Python-de-A-a-Z/blob/master/Classificacao_Gatos_Cachorros_Projeto.ipynb\" target=\"_parent\"><img src=\"https://colab.research.google.com/assets/colab-badge.svg\" alt=\"Open In Colab\"/></a>"
      ]
    },
    {
      "cell_type": "code",
      "metadata": {
        "id": "IXHl12lLqNAL",
        "colab_type": "code",
        "colab": {}
      },
      "source": [
        "from keras.models import Sequential\n",
        "from keras.layers import Conv2D, MaxPooling2D, Dense, Dropout, Flatten\n",
        "from keras.layers.normalization import BatchNormalization\n",
        "from keras.preprocessing.image import ImageDataGenerator\n",
        "import numpy as np\n",
        "from keras.preprocessing import image"
      ],
      "execution_count": 0,
      "outputs": []
    },
    {
      "cell_type": "code",
      "metadata": {
        "id": "6IRWtdiEqp4Y",
        "colab_type": "code",
        "colab": {
          "base_uri": "https://localhost:8080/",
          "height": 136
        },
        "outputId": "11f75ad6-becf-4a6d-ae93-21c31d8d7e5e"
      },
      "source": [
        "!wget -c https://s3.amazonaws.com/content.udacity-data.com/nd089/Cat_Dog_data.zip\n",
        "\n",
        "# remove existing directories\n",
        "!rm -r Cat_Dog_data __MACOSX || true\n",
        "!unzip -qq Cat_Dog_data.zip\n",
        "\n",
        "data_dir = 'Cat_Dog_data'"
      ],
      "execution_count": 4,
      "outputs": [
        {
          "output_type": "stream",
          "text": [
            "--2020-03-03 14:13:53--  https://s3.amazonaws.com/content.udacity-data.com/nd089/Cat_Dog_data.zip\n",
            "Resolving s3.amazonaws.com (s3.amazonaws.com)... 52.217.38.206\n",
            "Connecting to s3.amazonaws.com (s3.amazonaws.com)|52.217.38.206|:443... connected.\n",
            "HTTP request sent, awaiting response... 416 Requested Range Not Satisfiable\n",
            "\n",
            "    The file is already fully retrieved; nothing to do.\n",
            "\n"
          ],
          "name": "stdout"
        }
      ]
    },
    {
      "cell_type": "code",
      "metadata": {
        "id": "-5y89zeBqxC-",
        "colab_type": "code",
        "colab": {
          "base_uri": "https://localhost:8080/",
          "height": 156
        },
        "outputId": "3bab561b-9d91-4ec9-fe49-2faff8b22642"
      },
      "source": [
        "classificador = Sequential()\n",
        "classificador.add(Conv2D(32, (3, 3), input_shape = (64, 64, 3), activation = 'relu'))\n",
        "classificador.add(BatchNormalization())\n",
        "classificador.add(MaxPooling2D(pool_size = (2, 2)))\n",
        "classificador.add(Dropout(0.25))\n",
        "\n",
        "classificador.add(Conv2D(32, (3, 3), input_shape = (64, 64, 3), activation = 'relu'))\n",
        "classificador.add(BatchNormalization())\n",
        "classificador.add(MaxPooling2D(pool_size = (2, 2)))\n",
        "classificador.add(Dropout(0.25))\n",
        "\n",
        "classificador.add(Flatten())\n",
        "\n",
        "classificador.add(Dense(units = 128, activation = 'relu'))\n",
        "classificador.add(Dropout(0.25))\n",
        "\n",
        "classificador.add(Dense(units = 128, activation = 'relu'))\n",
        "classificador.add(Dropout(0.25))\n",
        "\n",
        "classificador.add(Dense(units = 1, activation = 'sigmoid'))\n",
        "\n",
        "classificador.compile(optimizer = 'adam', loss = 'binary_crossentropy', metrics = ['accuracy'])"
      ],
      "execution_count": 12,
      "outputs": [
        {
          "output_type": "stream",
          "text": [
            "WARNING:tensorflow:From /usr/local/lib/python3.6/dist-packages/keras/optimizers.py:793: The name tf.train.Optimizer is deprecated. Please use tf.compat.v1.train.Optimizer instead.\n",
            "\n",
            "WARNING:tensorflow:From /usr/local/lib/python3.6/dist-packages/keras/backend/tensorflow_backend.py:3657: The name tf.log is deprecated. Please use tf.math.log instead.\n",
            "\n",
            "WARNING:tensorflow:From /usr/local/lib/python3.6/dist-packages/tensorflow_core/python/ops/nn_impl.py:183: where (from tensorflow.python.ops.array_ops) is deprecated and will be removed in a future version.\n",
            "Instructions for updating:\n",
            "Use tf.where in 2.0, which has the same broadcast rule as np.where\n"
          ],
          "name": "stdout"
        }
      ]
    },
    {
      "cell_type": "code",
      "metadata": {
        "id": "DJiOKsrbtYgy",
        "colab_type": "code",
        "colab": {
          "base_uri": "https://localhost:8080/",
          "height": 51
        },
        "outputId": "0a1719dd-feea-40c5-c55d-f597ca86e361"
      },
      "source": [
        "gerador_treinamento = ImageDataGenerator(rescale = 1./255, rotation_range = 7,\n",
        "                                         shear_range = 0.2, height_shift_range = 0.07, zoom_range = 0.2)\n",
        "gerador_teste = ImageDataGenerator(rescale = 1./255)\n",
        "#o metodo flow_from_directory automaticamente determina a quantidade de classes e o seu tipo pelos respectivos\n",
        "#nomes e quantidades de pastas no diretorio indicado\n",
        "base_treinamento = gerador_treinamento.flow_from_directory('/content/Cat_Dog_data/train', \n",
        "                                                           target_size = (64, 64), batch_size = 32,\n",
        "                                                           class_mode = 'binary')\n",
        "base_teste = gerador_teste.flow_from_directory('/content/Cat_Dog_data/test',\n",
        "                                                target_size = (64, 64), batch_size = 32,\n",
        "                                                class_mode = 'binary')"
      ],
      "execution_count": 14,
      "outputs": [
        {
          "output_type": "stream",
          "text": [
            "Found 22500 images belonging to 2 classes.\n",
            "Found 2500 images belonging to 2 classes.\n"
          ],
          "name": "stdout"
        }
      ]
    },
    {
      "cell_type": "code",
      "metadata": {
        "id": "vBxuAo9zvYws",
        "colab_type": "code",
        "colab": {
          "base_uri": "https://localhost:8080/",
          "height": 292
        },
        "outputId": "8f024591-c4b0-416f-a5c0-ec209dd1ef6c"
      },
      "source": [
        "#steps_per_epoch é a quantidade de imagens usadas por epoca, bom sempre deixar o total de imagens da pasta maior + lento\n",
        "#a mesmma coisa vale para validation steps e epochs, então boa sorte no futuro Jean\n",
        "classificador.fit_generator(base_treinamento, steps_per_epoch = 22500/32, epochs = 5,\n",
        "                            validation_data = base_teste, validation_steps = 2500/32)"
      ],
      "execution_count": 15,
      "outputs": [
        {
          "output_type": "stream",
          "text": [
            "WARNING:tensorflow:From /usr/local/lib/python3.6/dist-packages/keras/backend/tensorflow_backend.py:1033: The name tf.assign_add is deprecated. Please use tf.compat.v1.assign_add instead.\n",
            "\n",
            "WARNING:tensorflow:From /usr/local/lib/python3.6/dist-packages/keras/backend/tensorflow_backend.py:1020: The name tf.assign is deprecated. Please use tf.compat.v1.assign instead.\n",
            "\n",
            "Epoch 1/5\n",
            "704/703 [==============================] - 95s 135ms/step - loss: 0.6770 - acc: 0.6108 - val_loss: 0.6058 - val_acc: 0.6752\n",
            "Epoch 2/5\n",
            "704/703 [==============================] - 88s 124ms/step - loss: 0.5992 - acc: 0.6762 - val_loss: 0.5644 - val_acc: 0.6964\n",
            "Epoch 3/5\n",
            "704/703 [==============================] - 84s 120ms/step - loss: 0.5590 - acc: 0.7068 - val_loss: 0.7298 - val_acc: 0.6404\n",
            "Epoch 4/5\n",
            "704/703 [==============================] - 87s 123ms/step - loss: 0.5256 - acc: 0.7365 - val_loss: 0.5441 - val_acc: 0.7292\n",
            "Epoch 5/5\n",
            "704/703 [==============================] - 83s 118ms/step - loss: 0.5003 - acc: 0.7539 - val_loss: 0.5270 - val_acc: 0.7332\n"
          ],
          "name": "stdout"
        },
        {
          "output_type": "execute_result",
          "data": {
            "text/plain": [
              "<keras.callbacks.History at 0x7f9ba8a0f748>"
            ]
          },
          "metadata": {
            "tags": []
          },
          "execution_count": 15
        }
      ]
    },
    {
      "cell_type": "code",
      "metadata": {
        "id": "NghDEfURw3dg",
        "colab_type": "code",
        "colab": {
          "base_uri": "https://localhost:8080/",
          "height": 51
        },
        "outputId": "695c1678-c1d9-48d9-a38a-f6e5bb700852"
      },
      "source": [
        "#teste da rede com uma img\n",
        "imagem_teste = image.load_img('/content/Cat_Dog_data/test/dog/dog.10010.jpg', target_size = (64,64))\n",
        "imagem_teste = image.img_to_array(imagem_teste)\n",
        "imagem_teste /= 255\n",
        "imagem_teste = np.expand_dims(imagem_teste, axis = 0)# adiciona uma coluna, a img é 64, 64, 3, com isto ela vira 1, 64, 64, 3 pois o tensor flow precisa deste formato para funcionar\n",
        "print(classificador.predict(imagem_teste))\n",
        "print(base_treinamento.class_indices)"
      ],
      "execution_count": 22,
      "outputs": [
        {
          "output_type": "stream",
          "text": [
            "[[0.7815035]]\n",
            "{'cat': 0, 'dog': 1}\n"
          ],
          "name": "stdout"
        }
      ]
    }
  ]
}