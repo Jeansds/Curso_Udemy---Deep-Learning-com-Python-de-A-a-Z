{
  "nbformat": 4,
  "nbformat_minor": 0,
  "metadata": {
    "colab": {
      "name": "Tarefa_9_Classificador_Bart_Homer",
      "provenance": [],
      "include_colab_link": true
    },
    "kernelspec": {
      "name": "python3",
      "display_name": "Python 3"
    },
    "accelerator": "GPU"
  },
  "cells": [
    {
      "cell_type": "markdown",
      "metadata": {
        "id": "view-in-github",
        "colab_type": "text"
      },
      "source": [
        "<a href=\"https://colab.research.google.com/github/Jeansds/Curso_Udemy---Deep-Learning-com-Python-de-A-a-Z/blob/master/Tarefa_9_Classificador_Bart_Homer.ipynb\" target=\"_parent\"><img src=\"https://colab.research.google.com/assets/colab-badge.svg\" alt=\"Open In Colab\"/></a>"
      ]
    },
    {
      "cell_type": "code",
      "metadata": {
        "id": "IXHl12lLqNAL",
        "colab_type": "code",
        "colab": {}
      },
      "source": [
        "from keras.models import Sequential\n",
        "from keras.layers import Conv2D, MaxPooling2D, Dense, Dropout, Flatten\n",
        "from keras.layers.normalization import BatchNormalization\n",
        "from keras.preprocessing.image import ImageDataGenerator\n",
        "import numpy as np\n",
        "from keras.preprocessing import image"
      ],
      "execution_count": 0,
      "outputs": []
    },
    {
      "cell_type": "code",
      "metadata": {
        "id": "uvayRH7Qg8KR",
        "colab_type": "code",
        "colab": {}
      },
      "source": [
        "!unzip -qq original.zip"
      ],
      "execution_count": 0,
      "outputs": []
    },
    {
      "cell_type": "code",
      "metadata": {
        "id": "-5y89zeBqxC-",
        "colab_type": "code",
        "colab": {}
      },
      "source": [
        "classificador = Sequential()\n",
        "classificador.add(Conv2D(32, (3, 3), input_shape = (64, 64, 3), activation = 'relu'))\n",
        "classificador.add(BatchNormalization())\n",
        "classificador.add(MaxPooling2D(pool_size = (2, 2)))\n",
        "classificador.add(Dropout(0.25))\n",
        "\n",
        "classificador.add(Conv2D(32, (3, 3), input_shape = (64, 64, 3), activation = 'relu'))\n",
        "classificador.add(BatchNormalization())\n",
        "classificador.add(MaxPooling2D(pool_size = (2, 2)))\n",
        "classificador.add(Dropout(0.25))\n",
        "\n",
        "classificador.add(Flatten())\n",
        "\n",
        "classificador.add(Dense(units = 128, activation = 'relu'))\n",
        "classificador.add(Dropout(0.25))\n",
        "\n",
        "classificador.add(Dense(units = 128, activation = 'relu'))\n",
        "classificador.add(Dropout(0.25))\n",
        "\n",
        "classificador.add(Dense(units = 1, activation = 'sigmoid'))\n",
        "\n",
        "classificador.compile(optimizer = 'adam', loss = 'binary_crossentropy', metrics = ['accuracy'])"
      ],
      "execution_count": 0,
      "outputs": []
    },
    {
      "cell_type": "code",
      "metadata": {
        "id": "DJiOKsrbtYgy",
        "colab_type": "code",
        "outputId": "9db6b8c0-8730-4918-f2d3-14070cfa0dc4",
        "colab": {
          "base_uri": "https://localhost:8080/",
          "height": 51
        }
      },
      "source": [
        "gerador_treinamento = ImageDataGenerator(rescale = 1./255, rotation_range = 7,\n",
        "                                         shear_range = 0.2, height_shift_range = 0.07, zoom_range = 0.2)\n",
        "gerador_teste = ImageDataGenerator(rescale = 1./255)\n",
        "#o metodo flow_from_directory automaticamente determina a quantidade de classes e o seu tipo pelos respectivos\n",
        "#nomes e quantidades de pastas no diretorio indicado\n",
        "base_treinamento = gerador_treinamento.flow_from_directory('/content/dataset_personagens/training_set', \n",
        "                                                           target_size = (64, 64), batch_size = 32,\n",
        "                                                           class_mode = 'binary')\n",
        "base_teste = gerador_teste.flow_from_directory('/content/dataset_personagens/test_set',\n",
        "                                                target_size = (64, 64), batch_size = 32,\n",
        "                                                class_mode = 'binary')"
      ],
      "execution_count": 0,
      "outputs": [
        {
          "output_type": "stream",
          "text": [
            "Found 196 images belonging to 2 classes.\n",
            "Found 73 images belonging to 2 classes.\n"
          ],
          "name": "stdout"
        }
      ]
    },
    {
      "cell_type": "code",
      "metadata": {
        "id": "vBxuAo9zvYws",
        "colab_type": "code",
        "colab": {}
      },
      "source": [
        "#steps_per_epoch é a quantidade de imagens usadas por epoca, bom sempre deixar o total de imagens da pasta maior + lento\n",
        "#a mesmma coisa vale para validation steps e epochs, então boa sorte no futuro Jean\n",
        "classificador.fit_generator(base_treinamento, steps_per_epoch = 196, epochs = 25,\n",
        "                            validation_data = base_teste, validation_steps = 73)"
      ],
      "execution_count": 0,
      "outputs": []
    }
  ]
}