{
  "nbformat": 4,
  "nbformat_minor": 0,
  "metadata": {
    "colab": {
      "name": "UCI_Project_Cancer_Turning_Param",
      "provenance": [],
      "toc_visible": true,
      "authorship_tag": "ABX9TyND5adXeOXgEqrjOvSYj3Ln",
      "include_colab_link": true
    },
    "kernelspec": {
      "name": "python3",
      "display_name": "Python 3"
    }
  },
  "cells": [
    {
      "cell_type": "markdown",
      "metadata": {
        "id": "view-in-github",
        "colab_type": "text"
      },
      "source": [
        "<a href=\"https://colab.research.google.com/github/Jeansds/Curso_Udemy---Deep-Learning-com-Python-de-A-a-Z/blob/master/UCI_Project_Cancer_Turning_Param.ipynb\" target=\"_parent\"><img src=\"https://colab.research.google.com/assets/colab-badge.svg\" alt=\"Open In Colab\"/></a>"
      ]
    },
    {
      "cell_type": "code",
      "metadata": {
        "id": "i0m_YJvCyTEB",
        "colab_type": "code",
        "colab": {}
      },
      "source": [
        "import pandas as pd\n",
        "import keras\n",
        "from keras.models import Sequential\n",
        "from keras.layers import Dense, Dropout\n",
        "from keras.wrappers.scikit_learn import KerasClassifier\n",
        "from sklearn.model_selection import GridSearchCV"
      ],
      "execution_count": 0,
      "outputs": []
    },
    {
      "cell_type": "code",
      "metadata": {
        "id": "WKrTH4CL3mCd",
        "colab_type": "code",
        "colab": {}
      },
      "source": [
        "#se for executar vai demorar umas 3h pois testa as possibilidades, para demorar menos diminuir a quantidade de epochs e batch_sizes porem diminuira a precisão(possivelmente)\n",
        "#links da udemy, não é possivel fazer o download com !wget -c, access is forbidden\n",
        "#https://a.udemycdn.com/2018-06-05_15-16-04-5dc8274288bd5c86f5c3321b505da9d3/original.csv?nva=20200227213157&filename=entradas-breast.csv&download=True&token=099099a21bead7423ab9e\n",
        "#https://a2.udemycdn.com/2018-06-05_15-16-17-e799a030a477b8c240a6320c6b0dee0f/original.csv?nva=20200227213504&filename=saidas-breast.csv&download=True&token=0742cdd8106b4c5ad7ca3\n",
        "previsores = pd.read_csv('/content/entradas-breast.csv')\n",
        "classe = pd.read_csv('/content/saidas-breast.csv')"
      ],
      "execution_count": 0,
      "outputs": []
    },
    {
      "cell_type": "code",
      "metadata": {
        "id": "qXG-BcD_yfE8",
        "colab_type": "code",
        "colab": {}
      },
      "source": [
        "def criarRede(optimizer, loos, kernel_initializer, activation, neurons):\n",
        "  classificador = Sequential()\n",
        "  classificador.add(Dense(units = neurons, activation = activation,\n",
        "                          kernel_initializer = kernel_initializer, input_dim = 30))\n",
        "  classificador.add(Dropout(0.2))\n",
        "  classificador.add(Dense(units = neurons, activation = activation,\n",
        "                          kernel_initializer = kernel_initializer))\n",
        "  classificador.add(Dropout(0.2)) \n",
        "  classificador.add(Dense(units = 1, activation = 'sigmoid'))\n",
        "  classificador.compile(optimizer = optimizer, loss = loos, \n",
        "                        metrics = ['binary_accuracy'])\n",
        "  return classificador"
      ],
      "execution_count": 0,
      "outputs": []
    },
    {
      "cell_type": "code",
      "metadata": {
        "id": "R3EDmrqHz4yb",
        "colab_type": "code",
        "colab": {}
      },
      "source": [
        "classificador = KerasClassifier(build_fn = criarRede)\n",
        "parametros = {'batch_size': [10, 30],\n",
        "              'epochs': [50, 100],\n",
        "              'optimizer': ['adam', 'sgd'],\n",
        "              'loos': ['binary_crossentropy', 'hinge'],\n",
        "              'kernel_initializer': ['random_uniform', 'normal'],\n",
        "              'activation': ['relu', 'tanh'],\n",
        "              'neurons': [16, 8]}\n",
        "grid_search = GridSearchCV(estimator = classificador,\n",
        "                           param_grid = parametros,\n",
        "                           scoring = 'accuracy',\n",
        "                           cv = 5)\n",
        "grid_search = grid_search.fit(previsores, classe)\n",
        "melhores_parametros = grid_search.best_params_\n",
        "melhor_precisao = grid_search.best_score_"
      ],
      "execution_count": 0,
      "outputs": []
    },
    {
      "cell_type": "code",
      "metadata": {
        "id": "HM_X55jm5CvX",
        "colab_type": "code",
        "colab": {}
      },
      "source": [
        "print(melhores_parametros)\n",
        "print(melhor_precisao)"
      ],
      "execution_count": 0,
      "outputs": []
    }
  ]
}