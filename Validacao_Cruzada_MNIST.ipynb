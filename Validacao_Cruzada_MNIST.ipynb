{
  "nbformat": 4,
  "nbformat_minor": 0,
  "metadata": {
    "colab": {
      "name": "Validacao_Cruzada_MNIST",
      "provenance": [],
      "authorship_tag": "ABX9TyNbFSHzsV0MiHgeihNHJASw",
      "include_colab_link": true
    },
    "kernelspec": {
      "name": "python3",
      "display_name": "Python 3"
    }
  },
  "cells": [
    {
      "cell_type": "markdown",
      "metadata": {
        "id": "view-in-github",
        "colab_type": "text"
      },
      "source": [
        "<a href=\"https://colab.research.google.com/github/Jeansds/Curso_Udemy---Deep-Learning-com-Python-de-A-a-Z/blob/master/Validacao_Cruzada_MNIST.ipynb\" target=\"_parent\"><img src=\"https://colab.research.google.com/assets/colab-badge.svg\" alt=\"Open In Colab\"/></a>"
      ]
    },
    {
      "cell_type": "code",
      "metadata": {
        "id": "l_3WqQ2AGwN3",
        "colab_type": "code",
        "colab": {}
      },
      "source": [
        "from keras.datasets import mnist\n",
        "from keras.models import Sequential\n",
        "from keras.layers import Dense, Flatten, Conv2D, MaxPooling2D\n",
        "from keras.utils import np_utils\n",
        "import numpy as np\n",
        "from sklearn.model_selection import StratifiedKFold"
      ],
      "execution_count": 0,
      "outputs": []
    },
    {
      "cell_type": "code",
      "metadata": {
        "id": "oQBf2XSjHR5F",
        "colab_type": "code",
        "colab": {}
      },
      "source": [
        "seed = 5\n",
        "np.random.seed(seed)"
      ],
      "execution_count": 0,
      "outputs": []
    },
    {
      "cell_type": "code",
      "metadata": {
        "id": "fB-JjAcKHdMr",
        "colab_type": "code",
        "colab": {}
      },
      "source": [
        "(X, y), (X_teste, y_teste) = mnist.load_data()\n",
        "previsores = X.reshape(X.shape[0], 28, 28, 1)\n",
        "previsores = previsores.astype('float32')\n",
        "previsores /= 255\n",
        "classe = np_utils.to_categorical(y, 10)"
      ],
      "execution_count": 0,
      "outputs": []
    },
    {
      "cell_type": "code",
      "metadata": {
        "id": "sEZoOBL6IKd0",
        "colab_type": "code",
        "colab": {
          "base_uri": "https://localhost:8080/",
          "height": 1000
        },
        "outputId": "d9cca932-ba1e-4179-9239-faeb70b38049"
      },
      "source": [
        "kfold = StratifiedKFold(n_splits = 5, shuffle = True, random_state = seed)\n",
        "resultados = []\n",
        "a = np.zeros(5)\n",
        "b = np.zeros(shape = (classe.shape[0], 1))\n",
        "for indice_treinamento, indice_teste in kfold.split(previsores, np.zeros(shape = (classe.shape[0], 1))):\n",
        "  #print(indice_treinamento, 'Treinamento', indice_teste, 'Teste')\n",
        "  classificador = Sequential()\n",
        "  classificador.add(Conv2D(32, (3, 3), input_shape = (28, 28, 1), activation = 'relu'))\n",
        "  classificador.add(MaxPooling2D(pool_size = (2, 2)))\n",
        "  classificador.add(Flatten())\n",
        "  classificador.add(Dense(units = 128, activation = 'relu'))\n",
        "  classificador.add(Dense(units = 10, activation = 'softmax'))\n",
        "  classificador.compile(loss = 'categorical_crossentropy', optimizer = 'adam', metrics = ['accuracy'])\n",
        "  classificador.fit(previsores[indice_treinamento], classe[indice_treinamento], batch_size = 128,\n",
        "                    epochs = 5)\n",
        "  precisao = classificador.evaluate(previsores[indice_teste], classe[indice_teste])\n",
        "  resultados.append(precisao[1])"
      ],
      "execution_count": 13,
      "outputs": [
        {
          "output_type": "stream",
          "text": [
            "WARNING:tensorflow:From /usr/local/lib/python3.6/dist-packages/keras/backend/tensorflow_backend.py:66: The name tf.get_default_graph is deprecated. Please use tf.compat.v1.get_default_graph instead.\n",
            "\n",
            "WARNING:tensorflow:From /usr/local/lib/python3.6/dist-packages/keras/backend/tensorflow_backend.py:541: The name tf.placeholder is deprecated. Please use tf.compat.v1.placeholder instead.\n",
            "\n",
            "WARNING:tensorflow:From /usr/local/lib/python3.6/dist-packages/keras/backend/tensorflow_backend.py:4432: The name tf.random_uniform is deprecated. Please use tf.random.uniform instead.\n",
            "\n",
            "WARNING:tensorflow:From /usr/local/lib/python3.6/dist-packages/keras/backend/tensorflow_backend.py:4267: The name tf.nn.max_pool is deprecated. Please use tf.nn.max_pool2d instead.\n",
            "\n",
            "WARNING:tensorflow:From /usr/local/lib/python3.6/dist-packages/keras/optimizers.py:793: The name tf.train.Optimizer is deprecated. Please use tf.compat.v1.train.Optimizer instead.\n",
            "\n",
            "WARNING:tensorflow:From /usr/local/lib/python3.6/dist-packages/keras/backend/tensorflow_backend.py:3576: The name tf.log is deprecated. Please use tf.math.log instead.\n",
            "\n",
            "WARNING:tensorflow:From /usr/local/lib/python3.6/dist-packages/tensorflow_core/python/ops/math_grad.py:1424: where (from tensorflow.python.ops.array_ops) is deprecated and will be removed in a future version.\n",
            "Instructions for updating:\n",
            "Use tf.where in 2.0, which has the same broadcast rule as np.where\n",
            "WARNING:tensorflow:From /usr/local/lib/python3.6/dist-packages/keras/backend/tensorflow_backend.py:1033: The name tf.assign_add is deprecated. Please use tf.compat.v1.assign_add instead.\n",
            "\n",
            "WARNING:tensorflow:From /usr/local/lib/python3.6/dist-packages/keras/backend/tensorflow_backend.py:1020: The name tf.assign is deprecated. Please use tf.compat.v1.assign instead.\n",
            "\n",
            "WARNING:tensorflow:From /usr/local/lib/python3.6/dist-packages/keras/backend/tensorflow_backend.py:3005: The name tf.Session is deprecated. Please use tf.compat.v1.Session instead.\n",
            "\n",
            "Epoch 1/5\n",
            "WARNING:tensorflow:From /usr/local/lib/python3.6/dist-packages/keras/backend/tensorflow_backend.py:190: The name tf.get_default_session is deprecated. Please use tf.compat.v1.get_default_session instead.\n",
            "\n",
            "WARNING:tensorflow:From /usr/local/lib/python3.6/dist-packages/keras/backend/tensorflow_backend.py:197: The name tf.ConfigProto is deprecated. Please use tf.compat.v1.ConfigProto instead.\n",
            "\n",
            "WARNING:tensorflow:From /usr/local/lib/python3.6/dist-packages/keras/backend/tensorflow_backend.py:207: The name tf.global_variables is deprecated. Please use tf.compat.v1.global_variables instead.\n",
            "\n",
            "WARNING:tensorflow:From /usr/local/lib/python3.6/dist-packages/keras/backend/tensorflow_backend.py:216: The name tf.is_variable_initialized is deprecated. Please use tf.compat.v1.is_variable_initialized instead.\n",
            "\n",
            "WARNING:tensorflow:From /usr/local/lib/python3.6/dist-packages/keras/backend/tensorflow_backend.py:223: The name tf.variables_initializer is deprecated. Please use tf.compat.v1.variables_initializer instead.\n",
            "\n",
            "48000/48000 [==============================] - 23s 476us/step - loss: 0.2499 - acc: 0.9286\n",
            "Epoch 2/5\n",
            "48000/48000 [==============================] - 22s 454us/step - loss: 0.0761 - acc: 0.9782\n",
            "Epoch 3/5\n",
            "48000/48000 [==============================] - 22s 456us/step - loss: 0.0498 - acc: 0.9849\n",
            "Epoch 4/5\n",
            "48000/48000 [==============================] - 22s 456us/step - loss: 0.0373 - acc: 0.9885\n",
            "Epoch 5/5\n",
            "48000/48000 [==============================] - 22s 453us/step - loss: 0.0282 - acc: 0.9913\n",
            "12000/12000 [==============================] - 2s 195us/step\n",
            "Epoch 1/5\n",
            "48000/48000 [==============================] - 22s 461us/step - loss: 0.2397 - acc: 0.9328\n",
            "Epoch 2/5\n",
            "48000/48000 [==============================] - 22s 458us/step - loss: 0.0744 - acc: 0.9779\n",
            "Epoch 3/5\n",
            "48000/48000 [==============================] - 22s 460us/step - loss: 0.0493 - acc: 0.9851\n",
            "Epoch 4/5\n",
            "48000/48000 [==============================] - 23s 470us/step - loss: 0.0361 - acc: 0.9896\n",
            "Epoch 5/5\n",
            "48000/48000 [==============================] - 22s 461us/step - loss: 0.0270 - acc: 0.9920\n",
            "12000/12000 [==============================] - 2s 202us/step\n",
            "Epoch 1/5\n",
            "48000/48000 [==============================] - 22s 467us/step - loss: 0.2483 - acc: 0.9293\n",
            "Epoch 2/5\n",
            "48000/48000 [==============================] - 22s 462us/step - loss: 0.0773 - acc: 0.9781\n",
            "Epoch 3/5\n",
            "48000/48000 [==============================] - 22s 458us/step - loss: 0.0524 - acc: 0.9847\n",
            "Epoch 4/5\n",
            "48000/48000 [==============================] - 22s 464us/step - loss: 0.0382 - acc: 0.9886\n",
            "Epoch 5/5\n",
            "48000/48000 [==============================] - 22s 460us/step - loss: 0.0284 - acc: 0.9916\n",
            "12000/12000 [==============================] - 2s 199us/step\n",
            "Epoch 1/5\n",
            "48000/48000 [==============================] - 23s 469us/step - loss: 0.2703 - acc: 0.9225\n",
            "Epoch 2/5\n",
            "48000/48000 [==============================] - 22s 460us/step - loss: 0.0856 - acc: 0.9754\n",
            "Epoch 3/5\n",
            "48000/48000 [==============================] - 22s 458us/step - loss: 0.0560 - acc: 0.9836\n",
            "Epoch 4/5\n",
            "48000/48000 [==============================] - 22s 462us/step - loss: 0.0416 - acc: 0.9877\n",
            "Epoch 5/5\n",
            "48000/48000 [==============================] - 22s 463us/step - loss: 0.0308 - acc: 0.9910\n",
            "12000/12000 [==============================] - 3s 209us/step\n",
            "Epoch 1/5\n",
            "48000/48000 [==============================] - 23s 470us/step - loss: 0.2500 - acc: 0.9300\n",
            "Epoch 2/5\n",
            "48000/48000 [==============================] - 22s 460us/step - loss: 0.0788 - acc: 0.9768\n",
            "Epoch 3/5\n",
            "48000/48000 [==============================] - 22s 469us/step - loss: 0.0543 - acc: 0.9838\n",
            "Epoch 4/5\n",
            "48000/48000 [==============================] - 22s 461us/step - loss: 0.0391 - acc: 0.9884\n",
            "Epoch 5/5\n",
            "48000/48000 [==============================] - 22s 462us/step - loss: 0.0297 - acc: 0.9910\n",
            "12000/12000 [==============================] - 3s 209us/step\n"
          ],
          "name": "stdout"
        }
      ]
    },
    {
      "cell_type": "code",
      "metadata": {
        "id": "9jymVaQSLrfS",
        "colab_type": "code",
        "colab": {
          "base_uri": "https://localhost:8080/",
          "height": 51
        },
        "outputId": "cee6b6d9-a8af-4304-ff28-b416f4d91b5b"
      },
      "source": [
        "print(resultados)\n",
        "print(sum(resultados)/ len(resultados))"
      ],
      "execution_count": 15,
      "outputs": [
        {
          "output_type": "stream",
          "text": [
            "[0.9825833333333334, 0.98475, 0.9853333333333333, 0.9848333333333333, 0.983]\n",
            "0.9841\n"
          ],
          "name": "stdout"
        }
      ]
    }
  ]
}