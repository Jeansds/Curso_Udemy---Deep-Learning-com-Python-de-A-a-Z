{
  "nbformat": 4,
  "nbformat_minor": 0,
  "metadata": {
    "colab": {
      "name": "Projeto_Petrobras_Multiplas_Saidas_Serie_Temporal",
      "provenance": [],
      "authorship_tag": "ABX9TyOZ326XZPIR2s5F7xehOPm4",
      "include_colab_link": true
    },
    "kernelspec": {
      "name": "python3",
      "display_name": "Python 3"
    }
  },
  "cells": [
    {
      "cell_type": "markdown",
      "metadata": {
        "id": "view-in-github",
        "colab_type": "text"
      },
      "source": [
        "<a href=\"https://colab.research.google.com/github/Jeansds/Curso_Udemy---Deep-Learning-com-Python-de-A-a-Z/blob/master/Projeto_Petrobras_Multiplas_Saidas_Serie_Temporal.ipynb\" target=\"_parent\"><img src=\"https://colab.research.google.com/assets/colab-badge.svg\" alt=\"Open In Colab\"/></a>"
      ]
    },
    {
      "cell_type": "code",
      "metadata": {
        "id": "xs-xCsp_ptDY",
        "colab_type": "code",
        "colab": {
          "base_uri": "https://localhost:8080/",
          "height": 80
        },
        "outputId": "259bba75-c075-49df-fdd5-b2ee35c569e1"
      },
      "source": [
        "from keras.models import Sequential\n",
        "from keras.layers import Dense, Dropout, LSTM\n",
        "import numpy as np\n",
        "import pandas as pd\n",
        "from sklearn.preprocessing import MinMaxScaler\n",
        "import matplotlib.pyplot as plt"
      ],
      "execution_count": 1,
      "outputs": [
        {
          "output_type": "stream",
          "text": [
            "Using TensorFlow backend.\n"
          ],
          "name": "stderr"
        },
        {
          "output_type": "display_data",
          "data": {
            "text/html": [
              "<p style=\"color: red;\">\n",
              "The default version of TensorFlow in Colab will soon switch to TensorFlow 2.x.<br>\n",
              "We recommend you <a href=\"https://www.tensorflow.org/guide/migrate\" target=\"_blank\">upgrade</a> now \n",
              "or ensure your notebook will continue to use TensorFlow 1.x via the <code>%tensorflow_version 1.x</code> magic:\n",
              "<a href=\"https://colab.research.google.com/notebooks/tensorflow_version.ipynb\" target=\"_blank\">more info</a>.</p>\n"
            ],
            "text/plain": [
              "<IPython.core.display.HTML object>"
            ]
          },
          "metadata": {
            "tags": []
          }
        }
      ]
    },
    {
      "cell_type": "code",
      "metadata": {
        "id": "WRjNuPewpu_r",
        "colab_type": "code",
        "colab": {}
      },
      "source": [
        "base = pd.read_csv('/content/sample_data/petr4_treinamento.csv')\n",
        "base = base.dropna()\n",
        "base_treinamento = base.iloc[:, 1:2].values\n",
        "base_valor_maximo = base.iloc[:, 2:3].values"
      ],
      "execution_count": 0,
      "outputs": []
    },
    {
      "cell_type": "code",
      "metadata": {
        "id": "9QrtOlI4p6oC",
        "colab_type": "code",
        "colab": {}
      },
      "source": [
        "normalizador = MinMaxScaler(feature_range = (0, 1))\n",
        "base_treinamento_normalizada = normalizador.fit_transform(base_treinamento)\n",
        "base_valor_maximo_normalizada = normalizador.fit_transform(base_valor_maximo)"
      ],
      "execution_count": 0,
      "outputs": []
    },
    {
      "cell_type": "code",
      "metadata": {
        "id": "fWlgiA3iqMB5",
        "colab_type": "code",
        "colab": {}
      },
      "source": [
        "previsores = []\n",
        "preco_real_1 = []\n",
        "preco_real_2 = []\n",
        "for i in range(90, len(base_treinamento_normalizada)):\n",
        "  previsores.append(base_treinamento_normalizada[i - 90: i, 0])\n",
        "  preco_real_1.append(base_treinamento_normalizada[i, 0])\n",
        "  preco_real_2.append(base_valor_maximo_normalizada[i, 0])\n",
        "previsores, preco_real_1, preco_real_2 = np.array(previsores), np.array(preco_real_1), np.array(preco_real_2)\n",
        "previsores = np.reshape(previsores, (previsores.shape[0], previsores.shape[1], 1))"
      ],
      "execution_count": 0,
      "outputs": []
    },
    {
      "cell_type": "code",
      "metadata": {
        "id": "sAIRf5Phq8-G",
        "colab_type": "code",
        "colab": {}
      },
      "source": [
        "preco_real = np.column_stack((preco_real_1, preco_real_2))"
      ],
      "execution_count": 0,
      "outputs": []
    },
    {
      "cell_type": "code",
      "metadata": {
        "id": "3jqGUgFarFBR",
        "colab_type": "code",
        "colab": {
          "base_uri": "https://localhost:8080/",
          "height": 1000
        },
        "outputId": "38e513b3-7d04-4583-f033-1b9d2242218b"
      },
      "source": [
        "regressor = Sequential()\n",
        "regressor.add(LSTM(units = 100, return_sequences = True, input_shape = (previsores.shape[1], previsores.shape[2])))#return_sequences passa a informacao para as proxima camada LSTM\n",
        "regressor.add(Dropout(0.3))\n",
        "\n",
        "regressor.add(LSTM(units = 50, return_sequences = True))\n",
        "regressor.add(Dropout(0.3))\n",
        "\n",
        "regressor.add(LSTM(units = 50, return_sequences = True))\n",
        "regressor.add(Dropout(0.3))\n",
        "\n",
        "regressor.add(LSTM(units = 50))\n",
        "regressor.add(Dropout(0.3))\n",
        "\n",
        "regressor.add(Dense(units = 2, activation = 'linear'))\n",
        "\n",
        "regressor.compile(optimizer = 'rmsprop', loss = 'mean_squared_error',\n",
        "                  metrics = ['mean_absolute_error'])#adam tambem server porem para redes recorrentes o rmsprop pode trazer melhores resultados\n",
        "regressor.fit(previsores, preco_real, epochs = 30, batch_size = 32)"
      ],
      "execution_count": 7,
      "outputs": [
        {
          "output_type": "stream",
          "text": [
            "WARNING:tensorflow:From /usr/local/lib/python3.6/dist-packages/keras/backend/tensorflow_backend.py:66: The name tf.get_default_graph is deprecated. Please use tf.compat.v1.get_default_graph instead.\n",
            "\n",
            "WARNING:tensorflow:From /usr/local/lib/python3.6/dist-packages/keras/backend/tensorflow_backend.py:541: The name tf.placeholder is deprecated. Please use tf.compat.v1.placeholder instead.\n",
            "\n",
            "WARNING:tensorflow:From /usr/local/lib/python3.6/dist-packages/keras/backend/tensorflow_backend.py:4432: The name tf.random_uniform is deprecated. Please use tf.random.uniform instead.\n",
            "\n",
            "WARNING:tensorflow:From /usr/local/lib/python3.6/dist-packages/keras/backend/tensorflow_backend.py:148: The name tf.placeholder_with_default is deprecated. Please use tf.compat.v1.placeholder_with_default instead.\n",
            "\n",
            "WARNING:tensorflow:From /usr/local/lib/python3.6/dist-packages/keras/backend/tensorflow_backend.py:3733: calling dropout (from tensorflow.python.ops.nn_ops) with keep_prob is deprecated and will be removed in a future version.\n",
            "Instructions for updating:\n",
            "Please use `rate` instead of `keep_prob`. Rate should be set to `rate = 1 - keep_prob`.\n",
            "WARNING:tensorflow:From /usr/local/lib/python3.6/dist-packages/keras/optimizers.py:793: The name tf.train.Optimizer is deprecated. Please use tf.compat.v1.train.Optimizer instead.\n",
            "\n",
            "WARNING:tensorflow:From /usr/local/lib/python3.6/dist-packages/tensorflow_core/python/ops/math_grad.py:1424: where (from tensorflow.python.ops.array_ops) is deprecated and will be removed in a future version.\n",
            "Instructions for updating:\n",
            "Use tf.where in 2.0, which has the same broadcast rule as np.where\n",
            "WARNING:tensorflow:From /usr/local/lib/python3.6/dist-packages/keras/backend/tensorflow_backend.py:1033: The name tf.assign_add is deprecated. Please use tf.compat.v1.assign_add instead.\n",
            "\n",
            "WARNING:tensorflow:From /usr/local/lib/python3.6/dist-packages/keras/backend/tensorflow_backend.py:1020: The name tf.assign is deprecated. Please use tf.compat.v1.assign instead.\n",
            "\n",
            "WARNING:tensorflow:From /usr/local/lib/python3.6/dist-packages/keras/backend/tensorflow_backend.py:3005: The name tf.Session is deprecated. Please use tf.compat.v1.Session instead.\n",
            "\n",
            "Epoch 1/30\n",
            "WARNING:tensorflow:From /usr/local/lib/python3.6/dist-packages/keras/backend/tensorflow_backend.py:190: The name tf.get_default_session is deprecated. Please use tf.compat.v1.get_default_session instead.\n",
            "\n",
            "WARNING:tensorflow:From /usr/local/lib/python3.6/dist-packages/keras/backend/tensorflow_backend.py:197: The name tf.ConfigProto is deprecated. Please use tf.compat.v1.ConfigProto instead.\n",
            "\n",
            "WARNING:tensorflow:From /usr/local/lib/python3.6/dist-packages/keras/backend/tensorflow_backend.py:207: The name tf.global_variables is deprecated. Please use tf.compat.v1.global_variables instead.\n",
            "\n",
            "WARNING:tensorflow:From /usr/local/lib/python3.6/dist-packages/keras/backend/tensorflow_backend.py:216: The name tf.is_variable_initialized is deprecated. Please use tf.compat.v1.is_variable_initialized instead.\n",
            "\n",
            "WARNING:tensorflow:From /usr/local/lib/python3.6/dist-packages/keras/backend/tensorflow_backend.py:223: The name tf.variables_initializer is deprecated. Please use tf.compat.v1.variables_initializer instead.\n",
            "\n",
            "1152/1152 [==============================] - 15s 13ms/step - loss: 0.0394 - mean_absolute_error: 0.1455\n",
            "Epoch 2/30\n",
            "1152/1152 [==============================] - 12s 10ms/step - loss: 0.0155 - mean_absolute_error: 0.0988\n",
            "Epoch 3/30\n",
            "1152/1152 [==============================] - 12s 10ms/step - loss: 0.0147 - mean_absolute_error: 0.0935\n",
            "Epoch 4/30\n",
            "1152/1152 [==============================] - 12s 10ms/step - loss: 0.0119 - mean_absolute_error: 0.0837\n",
            "Epoch 5/30\n",
            "1152/1152 [==============================] - 12s 10ms/step - loss: 0.0106 - mean_absolute_error: 0.0793\n",
            "Epoch 6/30\n",
            "1152/1152 [==============================] - 12s 10ms/step - loss: 0.0104 - mean_absolute_error: 0.0774\n",
            "Epoch 7/30\n",
            "1152/1152 [==============================] - 12s 10ms/step - loss: 0.0091 - mean_absolute_error: 0.0716\n",
            "Epoch 8/30\n",
            "1152/1152 [==============================] - 12s 11ms/step - loss: 0.0089 - mean_absolute_error: 0.0712\n",
            "Epoch 9/30\n",
            "1152/1152 [==============================] - 12s 10ms/step - loss: 0.0076 - mean_absolute_error: 0.0652\n",
            "Epoch 10/30\n",
            "1152/1152 [==============================] - 12s 10ms/step - loss: 0.0076 - mean_absolute_error: 0.0658\n",
            "Epoch 11/30\n",
            "1152/1152 [==============================] - 12s 11ms/step - loss: 0.0071 - mean_absolute_error: 0.0624\n",
            "Epoch 12/30\n",
            "1152/1152 [==============================] - 12s 10ms/step - loss: 0.0066 - mean_absolute_error: 0.0611\n",
            "Epoch 13/30\n",
            "1152/1152 [==============================] - 12s 10ms/step - loss: 0.0066 - mean_absolute_error: 0.0605\n",
            "Epoch 14/30\n",
            "1152/1152 [==============================] - 12s 10ms/step - loss: 0.0053 - mean_absolute_error: 0.0562\n",
            "Epoch 15/30\n",
            "1152/1152 [==============================] - 12s 10ms/step - loss: 0.0055 - mean_absolute_error: 0.0558\n",
            "Epoch 16/30\n",
            "1152/1152 [==============================] - 12s 11ms/step - loss: 0.0054 - mean_absolute_error: 0.0551\n",
            "Epoch 17/30\n",
            "1152/1152 [==============================] - 12s 10ms/step - loss: 0.0051 - mean_absolute_error: 0.0539\n",
            "Epoch 18/30\n",
            "1152/1152 [==============================] - 12s 10ms/step - loss: 0.0049 - mean_absolute_error: 0.0531\n",
            "Epoch 19/30\n",
            "1152/1152 [==============================] - 12s 10ms/step - loss: 0.0048 - mean_absolute_error: 0.0524\n",
            "Epoch 20/30\n",
            "1152/1152 [==============================] - 12s 10ms/step - loss: 0.0045 - mean_absolute_error: 0.0508\n",
            "Epoch 21/30\n",
            "1152/1152 [==============================] - 12s 10ms/step - loss: 0.0046 - mean_absolute_error: 0.0516\n",
            "Epoch 22/30\n",
            "1152/1152 [==============================] - 12s 10ms/step - loss: 0.0040 - mean_absolute_error: 0.0477\n",
            "Epoch 23/30\n",
            "1152/1152 [==============================] - 12s 10ms/step - loss: 0.0040 - mean_absolute_error: 0.0481\n",
            "Epoch 24/30\n",
            "1152/1152 [==============================] - 12s 10ms/step - loss: 0.0040 - mean_absolute_error: 0.0479\n",
            "Epoch 25/30\n",
            "1152/1152 [==============================] - 12s 10ms/step - loss: 0.0037 - mean_absolute_error: 0.0463\n",
            "Epoch 26/30\n",
            "1152/1152 [==============================] - 12s 11ms/step - loss: 0.0034 - mean_absolute_error: 0.0445\n",
            "Epoch 27/30\n",
            "1152/1152 [==============================] - 12s 10ms/step - loss: 0.0036 - mean_absolute_error: 0.0459\n",
            "Epoch 28/30\n",
            "1152/1152 [==============================] - 12s 11ms/step - loss: 0.0034 - mean_absolute_error: 0.0444\n",
            "Epoch 29/30\n",
            "1152/1152 [==============================] - 12s 10ms/step - loss: 0.0032 - mean_absolute_error: 0.0432\n",
            "Epoch 30/30\n",
            "1152/1152 [==============================] - 12s 11ms/step - loss: 0.0030 - mean_absolute_error: 0.0414\n"
          ],
          "name": "stdout"
        },
        {
          "output_type": "execute_result",
          "data": {
            "text/plain": [
              "<keras.callbacks.History at 0x7f8164dcc1d0>"
            ]
          },
          "metadata": {
            "tags": []
          },
          "execution_count": 7
        }
      ]
    },
    {
      "cell_type": "code",
      "metadata": {
        "id": "svecghPNrsKw",
        "colab_type": "code",
        "colab": {}
      },
      "source": [
        "base_teste = pd.read_csv('/content/sample_data/petr4_teste.csv')\n",
        "preco_real_open = base_teste.iloc[:, 1: 2].values\n",
        "preco_real_high = base_teste.iloc[:, 2: 3].values"
      ],
      "execution_count": 0,
      "outputs": []
    },
    {
      "cell_type": "code",
      "metadata": {
        "id": "LY2U60lcsrOl",
        "colab_type": "code",
        "colab": {}
      },
      "source": [
        "base_completa = pd.concat((base['Open'], base_teste['Open']), axis = 0)#concatena 2 arquivos, axis =0 indica que isto e feito por coluna\n",
        "entradas = base_completa[len(base_completa) - len(base_teste)- 90:].values\n",
        "entradas = entradas.reshape(-1, 1)\n",
        "entradas = normalizador.transform(entradas)"
      ],
      "execution_count": 0,
      "outputs": []
    },
    {
      "cell_type": "code",
      "metadata": {
        "id": "IF08eRDusJ6q",
        "colab_type": "code",
        "colab": {}
      },
      "source": [
        "X_teste = []\n",
        "for i in range(90, len(entradas)):\n",
        "  X_teste.append(entradas[i-90: i, 0:6])\n",
        "X_teste = np.array(X_teste)\n",
        "X_teste = np.reshape(X_teste, (X_teste.shape[0], X_teste.shape[1], 1))"
      ],
      "execution_count": 0,
      "outputs": []
    },
    {
      "cell_type": "code",
      "metadata": {
        "id": "9UGpimTItGeZ",
        "colab_type": "code",
        "colab": {}
      },
      "source": [
        "previsoes = regressor.predict(X_teste)\n",
        "previsoes = normalizador.inverse_transform(previsoes)"
      ],
      "execution_count": 0,
      "outputs": []
    },
    {
      "cell_type": "code",
      "metadata": {
        "id": "tOyCXVWJtYCA",
        "colab_type": "code",
        "colab": {
          "base_uri": "https://localhost:8080/",
          "height": 295
        },
        "outputId": "b64ddb04-44d0-4ed5-f382-152c3bd3be69"
      },
      "source": [
        "plt.plot(preco_real_open, color = 'red', label = 'Preço abertura real')\n",
        "plt.plot(preco_real_high, color = 'black', label = 'Preço alta real')\n",
        "plt.plot(previsoes[:, 0], color = 'blue', label = 'Previsão Abertura')\n",
        "plt.plot(previsoes[:, 1], color = 'orange', label = 'Previsão Alta')\n",
        "plt.title('Previsão Preco das Ações')\n",
        "plt.xlabel('Tempo')\n",
        "plt.ylabel('Valor Yahoo')\n",
        "plt.legend()\n",
        "plt.show()"
      ],
      "execution_count": 18,
      "outputs": [
        {
          "output_type": "display_data",
          "data": {
            "image/png": "[encoded data removed]",
            "text/plain": [
              "<Figure size 432x288 with 1 Axes>"
            ]
          },
          "metadata": {
            "tags": []
          }
        }
      ]
    }
  ]
}