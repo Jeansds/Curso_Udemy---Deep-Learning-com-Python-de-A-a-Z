{
  "nbformat": 4,
  "nbformat_minor": 0,
  "metadata": {
    "colab": {
      "name": "Projeto_Deep_Auto_Encoders",
      "provenance": [],
      "authorship_tag": "ABX9TyO34ARtGyaBA7QB/RXkDiBa",
      "include_colab_link": true
    },
    "kernelspec": {
      "name": "python3",
      "display_name": "Python 3"
    }
  },
  "cells": [
    {
      "cell_type": "markdown",
      "metadata": {
        "id": "view-in-github",
        "colab_type": "text"
      },
      "source": [
        "<a href=\"https://colab.research.google.com/github/Jeansds/Curso_Udemy---Deep-Learning-com-Python-de-A-a-Z/blob/master/Projeto_Deep_Auto_Encoders.ipynb\" target=\"_parent\"><img src=\"https://colab.research.google.com/assets/colab-badge.svg\" alt=\"Open In Colab\"/></a>"
      ]
    },
    {
      "cell_type": "code",
      "metadata": {
        "id": "AJJh9x-Xr7kY",
        "colab_type": "code",
        "colab": {
          "base_uri": "https://localhost:8080/",
          "height": 80
        },
        "outputId": "2299a0ff-e96b-4d87-b2d4-2a02e74726e4"
      },
      "source": [
        "import numpy as np\n",
        "from keras.datasets import mnist\n",
        "from keras.models import Model, Sequential\n",
        "from keras.layers import Input, Dense\n",
        "import matplotlib.pyplot as plt"
      ],
      "execution_count": 1,
      "outputs": [
        {
          "output_type": "stream",
          "text": [
            "Using TensorFlow backend.\n"
          ],
          "name": "stderr"
        },
        {
          "output_type": "display_data",
          "data": {
            "text/html": [
              "<p style=\"color: red;\">\n",
              "The default version of TensorFlow in Colab will soon switch to TensorFlow 2.x.<br>\n",
              "We recommend you <a href=\"https://www.tensorflow.org/guide/migrate\" target=\"_blank\">upgrade</a> now \n",
              "or ensure your notebook will continue to use TensorFlow 1.x via the <code>%tensorflow_version 1.x</code> magic:\n",
              "<a href=\"https://colab.research.google.com/notebooks/tensorflow_version.ipynb\" target=\"_blank\">more info</a>.</p>\n"
            ],
            "text/plain": [
              "<IPython.core.display.HTML object>"
            ]
          },
          "metadata": {
            "tags": []
          }
        }
      ]
    },
    {
      "cell_type": "code",
      "metadata": {
        "id": "1ZFfutossBxP",
        "colab_type": "code",
        "colab": {
          "base_uri": "https://localhost:8080/",
          "height": 51
        },
        "outputId": "0128d7f4-779a-4ca9-d1fc-2c10dc49ff2d"
      },
      "source": [
        "(previsores_treinamento, _), (previsores_teste, _) = mnist.load_data()"
      ],
      "execution_count": 2,
      "outputs": [
        {
          "output_type": "stream",
          "text": [
            "Downloading data from https://s3.amazonaws.com/img-datasets/mnist.npz\n",
            "11493376/11490434 [==============================] - 0s 0us/step\n"
          ],
          "name": "stdout"
        }
      ]
    },
    {
      "cell_type": "code",
      "metadata": {
        "id": "vwnYvwGPsEwn",
        "colab_type": "code",
        "colab": {}
      },
      "source": [
        "previsores_treinamento = previsores_treinamento.astype('float32') / 255\n",
        "previsores_teste = previsores_teste.astype('float32') / 255"
      ],
      "execution_count": 0,
      "outputs": []
    },
    {
      "cell_type": "code",
      "metadata": {
        "id": "2E1zlfBJsHS_",
        "colab_type": "code",
        "colab": {}
      },
      "source": [
        "previsores_treinamento = previsores_treinamento.reshape((len(previsores_treinamento), np.prod(previsores_treinamento.shape[1: ])))"
      ],
      "execution_count": 0,
      "outputs": []
    },
    {
      "cell_type": "code",
      "metadata": {
        "id": "gBZ2zDs5sJFt",
        "colab_type": "code",
        "colab": {}
      },
      "source": [
        "previsores_teste = previsores_teste.reshape((len(previsores_teste), np.prod(previsores_teste.shape[1: ])))"
      ],
      "execution_count": 0,
      "outputs": []
    },
    {
      "cell_type": "code",
      "metadata": {
        "id": "Wi-d-ZmFsKe1",
        "colab_type": "code",
        "colab": {
          "base_uri": "https://localhost:8080/",
          "height": 139
        },
        "outputId": "df4fb328-ceeb-477c-ca63-513defdde81d"
      },
      "source": [
        "#encoder\n",
        "autoencoder = Sequential()\n",
        "autoencoder.add(Dense(units = 128, activation = 'relu', input_dim = 784))\n",
        "autoencoder.add(Dense(units = 64, activation = 'relu'))\n",
        "autoencoder.add(Dense(units = 32, activation = 'relu'))"
      ],
      "execution_count": 6,
      "outputs": [
        {
          "output_type": "stream",
          "text": [
            "WARNING:tensorflow:From /usr/local/lib/python3.6/dist-packages/keras/backend/tensorflow_backend.py:66: The name tf.get_default_graph is deprecated. Please use tf.compat.v1.get_default_graph instead.\n",
            "\n",
            "WARNING:tensorflow:From /usr/local/lib/python3.6/dist-packages/keras/backend/tensorflow_backend.py:541: The name tf.placeholder is deprecated. Please use tf.compat.v1.placeholder instead.\n",
            "\n",
            "WARNING:tensorflow:From /usr/local/lib/python3.6/dist-packages/keras/backend/tensorflow_backend.py:4432: The name tf.random_uniform is deprecated. Please use tf.random.uniform instead.\n",
            "\n"
          ],
          "name": "stdout"
        }
      ]
    },
    {
      "cell_type": "code",
      "metadata": {
        "id": "CBkDixCmsecw",
        "colab_type": "code",
        "colab": {}
      },
      "source": [
        "#decoder\n",
        "autoencoder.add(Dense(units = 64, activation = 'relu'))\n",
        "autoencoder.add(Dense(units = 128, activation = 'relu'))\n",
        "autoencoder.add(Dense(units = 784, activation = 'sigmoid'))#camada de saida"
      ],
      "execution_count": 0,
      "outputs": []
    },
    {
      "cell_type": "code",
      "metadata": {
        "id": "E3c7_jZhs0eV",
        "colab_type": "code",
        "colab": {
          "base_uri": "https://localhost:8080/",
          "height": 357
        },
        "outputId": "7921d6ad-0ecd-4307-d102-d786834156d5"
      },
      "source": [
        "autoencoder.summary()"
      ],
      "execution_count": 8,
      "outputs": [
        {
          "output_type": "stream",
          "text": [
            "Model: \"sequential_1\"\n",
            "_________________________________________________________________\n",
            "Layer (type)                 Output Shape              Param #   \n",
            "=================================================================\n",
            "dense_1 (Dense)              (None, 128)               100480    \n",
            "_________________________________________________________________\n",
            "dense_2 (Dense)              (None, 64)                8256      \n",
            "_________________________________________________________________\n",
            "dense_3 (Dense)              (None, 32)                2080      \n",
            "_________________________________________________________________\n",
            "dense_4 (Dense)              (None, 64)                2112      \n",
            "_________________________________________________________________\n",
            "dense_5 (Dense)              (None, 128)               8320      \n",
            "_________________________________________________________________\n",
            "dense_6 (Dense)              (None, 784)               101136    \n",
            "=================================================================\n",
            "Total params: 222,384\n",
            "Trainable params: 222,384\n",
            "Non-trainable params: 0\n",
            "_________________________________________________________________\n"
          ],
          "name": "stdout"
        }
      ]
    },
    {
      "cell_type": "code",
      "metadata": {
        "id": "iNNrBnH2s6Cl",
        "colab_type": "code",
        "colab": {
          "base_uri": "https://localhost:8080/",
          "height": 1000
        },
        "outputId": "4b002796-fa04-4580-dff5-846c643b17a8"
      },
      "source": [
        "autoencoder.compile(optimizer = 'adam', loss = 'binary_crossentropy',\n",
        "                    metrics = ['accuracy'])\n",
        "autoencoder.fit(previsores_treinamento, previsores_treinamento,\n",
        "                epochs = 100, batch_size = 256,\n",
        "                validation_data = (previsores_teste, previsores_teste))"
      ],
      "execution_count": 9,
      "outputs": [
        {
          "output_type": "stream",
          "text": [
            "WARNING:tensorflow:From /usr/local/lib/python3.6/dist-packages/keras/optimizers.py:793: The name tf.train.Optimizer is deprecated. Please use tf.compat.v1.train.Optimizer instead.\n",
            "\n",
            "WARNING:tensorflow:From /usr/local/lib/python3.6/dist-packages/keras/backend/tensorflow_backend.py:3657: The name tf.log is deprecated. Please use tf.math.log instead.\n",
            "\n",
            "WARNING:tensorflow:From /usr/local/lib/python3.6/dist-packages/tensorflow_core/python/ops/nn_impl.py:183: where (from tensorflow.python.ops.array_ops) is deprecated and will be removed in a future version.\n",
            "Instructions for updating:\n",
            "Use tf.where in 2.0, which has the same broadcast rule as np.where\n",
            "WARNING:tensorflow:From /usr/local/lib/python3.6/dist-packages/keras/backend/tensorflow_backend.py:1033: The name tf.assign_add is deprecated. Please use tf.compat.v1.assign_add instead.\n",
            "\n",
            "WARNING:tensorflow:From /usr/local/lib/python3.6/dist-packages/keras/backend/tensorflow_backend.py:1020: The name tf.assign is deprecated. Please use tf.compat.v1.assign instead.\n",
            "\n",
            "WARNING:tensorflow:From /usr/local/lib/python3.6/dist-packages/keras/backend/tensorflow_backend.py:3005: The name tf.Session is deprecated. Please use tf.compat.v1.Session instead.\n",
            "\n",
            "Train on 60000 samples, validate on 10000 samples\n",
            "Epoch 1/100\n",
            "WARNING:tensorflow:From /usr/local/lib/python3.6/dist-packages/keras/backend/tensorflow_backend.py:190: The name tf.get_default_session is deprecated. Please use tf.compat.v1.get_default_session instead.\n",
            "\n",
            "WARNING:tensorflow:From /usr/local/lib/python3.6/dist-packages/keras/backend/tensorflow_backend.py:197: The name tf.ConfigProto is deprecated. Please use tf.compat.v1.ConfigProto instead.\n",
            "\n",
            "WARNING:tensorflow:From /usr/local/lib/python3.6/dist-packages/keras/backend/tensorflow_backend.py:207: The name tf.global_variables is deprecated. Please use tf.compat.v1.global_variables instead.\n",
            "\n",
            "WARNING:tensorflow:From /usr/local/lib/python3.6/dist-packages/keras/backend/tensorflow_backend.py:216: The name tf.is_variable_initialized is deprecated. Please use tf.compat.v1.is_variable_initialized instead.\n",
            "\n",
            "WARNING:tensorflow:From /usr/local/lib/python3.6/dist-packages/keras/backend/tensorflow_backend.py:223: The name tf.variables_initializer is deprecated. Please use tf.compat.v1.variables_initializer instead.\n",
            "\n",
            "60000/60000 [==============================] - 6s 100us/step - loss: 0.2546 - acc: 0.7839 - val_loss: 0.1704 - val_acc: 0.7984\n",
            "Epoch 2/100\n",
            "60000/60000 [==============================] - 5s 85us/step - loss: 0.1533 - acc: 0.8039 - val_loss: 0.1395 - val_acc: 0.8065\n",
            "Epoch 3/100\n",
            "60000/60000 [==============================] - 5s 87us/step - loss: 0.1331 - acc: 0.8081 - val_loss: 0.1256 - val_acc: 0.8087\n",
            "Epoch 4/100\n",
            "60000/60000 [==============================] - 5s 86us/step - loss: 0.1239 - acc: 0.8097 - val_loss: 0.1193 - val_acc: 0.8091\n",
            "Epoch 5/100\n",
            "60000/60000 [==============================] - 5s 87us/step - loss: 0.1182 - acc: 0.8106 - val_loss: 0.1154 - val_acc: 0.8092\n",
            "Epoch 6/100\n",
            "60000/60000 [==============================] - 5s 86us/step - loss: 0.1140 - acc: 0.8113 - val_loss: 0.1109 - val_acc: 0.8106\n",
            "Epoch 7/100\n",
            "60000/60000 [==============================] - 5s 86us/step - loss: 0.1110 - acc: 0.8117 - val_loss: 0.1082 - val_acc: 0.8108\n",
            "Epoch 8/100\n",
            "60000/60000 [==============================] - 5s 86us/step - loss: 0.1083 - acc: 0.8121 - val_loss: 0.1056 - val_acc: 0.8113\n",
            "Epoch 9/100\n",
            "60000/60000 [==============================] - 5s 86us/step - loss: 0.1062 - acc: 0.8123 - val_loss: 0.1040 - val_acc: 0.8119\n",
            "Epoch 10/100\n",
            "60000/60000 [==============================] - 5s 86us/step - loss: 0.1042 - acc: 0.8126 - val_loss: 0.1018 - val_acc: 0.8119\n",
            "Epoch 11/100\n",
            "60000/60000 [==============================] - 5s 88us/step - loss: 0.1024 - acc: 0.8128 - val_loss: 0.1006 - val_acc: 0.8123\n",
            "Epoch 12/100\n",
            "60000/60000 [==============================] - 5s 86us/step - loss: 0.1008 - acc: 0.8130 - val_loss: 0.0991 - val_acc: 0.8122\n",
            "Epoch 13/100\n",
            "60000/60000 [==============================] - 5s 86us/step - loss: 0.0996 - acc: 0.8131 - val_loss: 0.0985 - val_acc: 0.8119\n",
            "Epoch 14/100\n",
            "60000/60000 [==============================] - 5s 87us/step - loss: 0.0983 - acc: 0.8133 - val_loss: 0.0968 - val_acc: 0.8122\n",
            "Epoch 15/100\n",
            "60000/60000 [==============================] - 5s 85us/step - loss: 0.0971 - acc: 0.8134 - val_loss: 0.0956 - val_acc: 0.8125\n",
            "Epoch 16/100\n",
            "60000/60000 [==============================] - 5s 85us/step - loss: 0.0959 - acc: 0.8135 - val_loss: 0.0946 - val_acc: 0.8128\n",
            "Epoch 17/100\n",
            "60000/60000 [==============================] - 5s 85us/step - loss: 0.0951 - acc: 0.8136 - val_loss: 0.0940 - val_acc: 0.8126\n",
            "Epoch 18/100\n",
            "60000/60000 [==============================] - 5s 84us/step - loss: 0.0942 - acc: 0.8137 - val_loss: 0.0928 - val_acc: 0.8128\n",
            "Epoch 19/100\n",
            "60000/60000 [==============================] - 5s 86us/step - loss: 0.0936 - acc: 0.8138 - val_loss: 0.0926 - val_acc: 0.8130\n",
            "Epoch 20/100\n",
            "60000/60000 [==============================] - 5s 86us/step - loss: 0.0930 - acc: 0.8138 - val_loss: 0.0919 - val_acc: 0.8129\n",
            "Epoch 21/100\n",
            "60000/60000 [==============================] - 5s 88us/step - loss: 0.0924 - acc: 0.8139 - val_loss: 0.0914 - val_acc: 0.8131\n",
            "Epoch 22/100\n",
            "60000/60000 [==============================] - 5s 86us/step - loss: 0.0919 - acc: 0.8139 - val_loss: 0.0908 - val_acc: 0.8129\n",
            "Epoch 23/100\n",
            "60000/60000 [==============================] - 5s 86us/step - loss: 0.0914 - acc: 0.8140 - val_loss: 0.0902 - val_acc: 0.8131\n",
            "Epoch 24/100\n",
            "60000/60000 [==============================] - 5s 85us/step - loss: 0.0909 - acc: 0.8140 - val_loss: 0.0899 - val_acc: 0.8133\n",
            "Epoch 25/100\n",
            "60000/60000 [==============================] - 5s 85us/step - loss: 0.0904 - acc: 0.8141 - val_loss: 0.0893 - val_acc: 0.8131\n",
            "Epoch 26/100\n",
            "60000/60000 [==============================] - 5s 85us/step - loss: 0.0899 - acc: 0.8141 - val_loss: 0.0892 - val_acc: 0.8133\n",
            "Epoch 27/100\n",
            "60000/60000 [==============================] - 5s 86us/step - loss: 0.0895 - acc: 0.8142 - val_loss: 0.0884 - val_acc: 0.8132\n",
            "Epoch 28/100\n",
            "60000/60000 [==============================] - 5s 86us/step - loss: 0.0891 - acc: 0.8142 - val_loss: 0.0881 - val_acc: 0.8133\n",
            "Epoch 29/100\n",
            "60000/60000 [==============================] - 5s 86us/step - loss: 0.0886 - acc: 0.8142 - val_loss: 0.0880 - val_acc: 0.8133\n",
            "Epoch 30/100\n",
            "60000/60000 [==============================] - 5s 85us/step - loss: 0.0882 - acc: 0.8143 - val_loss: 0.0875 - val_acc: 0.8134\n",
            "Epoch 31/100\n",
            "60000/60000 [==============================] - 5s 86us/step - loss: 0.0879 - acc: 0.8143 - val_loss: 0.0870 - val_acc: 0.8134\n",
            "Epoch 32/100\n",
            "60000/60000 [==============================] - 5s 86us/step - loss: 0.0875 - acc: 0.8143 - val_loss: 0.0869 - val_acc: 0.8135\n",
            "Epoch 33/100\n",
            "60000/60000 [==============================] - 5s 86us/step - loss: 0.0872 - acc: 0.8144 - val_loss: 0.0865 - val_acc: 0.8135\n",
            "Epoch 34/100\n",
            "60000/60000 [==============================] - 5s 86us/step - loss: 0.0869 - acc: 0.8144 - val_loss: 0.0864 - val_acc: 0.8135\n",
            "Epoch 35/100\n",
            "60000/60000 [==============================] - 5s 85us/step - loss: 0.0866 - acc: 0.8144 - val_loss: 0.0860 - val_acc: 0.8135\n",
            "Epoch 36/100\n",
            "60000/60000 [==============================] - 5s 86us/step - loss: 0.0864 - acc: 0.8144 - val_loss: 0.0862 - val_acc: 0.8135\n",
            "Epoch 37/100\n",
            "60000/60000 [==============================] - 5s 85us/step - loss: 0.0861 - acc: 0.8145 - val_loss: 0.0857 - val_acc: 0.8135\n",
            "Epoch 38/100\n",
            "60000/60000 [==============================] - 5s 84us/step - loss: 0.0859 - acc: 0.8145 - val_loss: 0.0855 - val_acc: 0.8136\n",
            "Epoch 39/100\n",
            "60000/60000 [==============================] - 5s 85us/step - loss: 0.0857 - acc: 0.8145 - val_loss: 0.0852 - val_acc: 0.8135\n",
            "Epoch 40/100\n",
            "60000/60000 [==============================] - 5s 84us/step - loss: 0.0855 - acc: 0.8145 - val_loss: 0.0850 - val_acc: 0.8136\n",
            "Epoch 41/100\n",
            "60000/60000 [==============================] - 5s 85us/step - loss: 0.0853 - acc: 0.8145 - val_loss: 0.0850 - val_acc: 0.8135\n",
            "Epoch 42/100\n",
            "60000/60000 [==============================] - 5s 85us/step - loss: 0.0851 - acc: 0.8145 - val_loss: 0.0846 - val_acc: 0.8136\n",
            "Epoch 43/100\n",
            "60000/60000 [==============================] - 5s 85us/step - loss: 0.0850 - acc: 0.8145 - val_loss: 0.0847 - val_acc: 0.8136\n",
            "Epoch 44/100\n",
            "60000/60000 [==============================] - 5s 85us/step - loss: 0.0847 - acc: 0.8146 - val_loss: 0.0842 - val_acc: 0.8136\n",
            "Epoch 45/100\n",
            "60000/60000 [==============================] - 5s 85us/step - loss: 0.0846 - acc: 0.8146 - val_loss: 0.0842 - val_acc: 0.8136\n",
            "Epoch 46/100\n",
            "60000/60000 [==============================] - 5s 85us/step - loss: 0.0844 - acc: 0.8146 - val_loss: 0.0839 - val_acc: 0.8136\n",
            "Epoch 47/100\n",
            "60000/60000 [==============================] - 5s 85us/step - loss: 0.0843 - acc: 0.8146 - val_loss: 0.0839 - val_acc: 0.8137\n",
            "Epoch 48/100\n",
            "60000/60000 [==============================] - 5s 84us/step - loss: 0.0841 - acc: 0.8146 - val_loss: 0.0843 - val_acc: 0.8137\n",
            "Epoch 49/100\n",
            "60000/60000 [==============================] - 5s 85us/step - loss: 0.0841 - acc: 0.8146 - val_loss: 0.0837 - val_acc: 0.8137\n",
            "Epoch 50/100\n",
            "60000/60000 [==============================] - 5s 85us/step - loss: 0.0839 - acc: 0.8146 - val_loss: 0.0837 - val_acc: 0.8137\n",
            "Epoch 51/100\n",
            "60000/60000 [==============================] - 5s 86us/step - loss: 0.0838 - acc: 0.8146 - val_loss: 0.0835 - val_acc: 0.8137\n",
            "Epoch 52/100\n",
            "60000/60000 [==============================] - 5s 85us/step - loss: 0.0837 - acc: 0.8146 - val_loss: 0.0833 - val_acc: 0.8136\n",
            "Epoch 53/100\n",
            "60000/60000 [==============================] - 5s 85us/step - loss: 0.0836 - acc: 0.8147 - val_loss: 0.0834 - val_acc: 0.8137\n",
            "Epoch 54/100\n",
            "60000/60000 [==============================] - 5s 84us/step - loss: 0.0835 - acc: 0.8147 - val_loss: 0.0830 - val_acc: 0.8137\n",
            "Epoch 55/100\n",
            "60000/60000 [==============================] - 5s 86us/step - loss: 0.0834 - acc: 0.8147 - val_loss: 0.0834 - val_acc: 0.8137\n",
            "Epoch 56/100\n",
            "60000/60000 [==============================] - 5s 85us/step - loss: 0.0833 - acc: 0.8147 - val_loss: 0.0828 - val_acc: 0.8137\n",
            "Epoch 57/100\n",
            "60000/60000 [==============================] - 5s 85us/step - loss: 0.0832 - acc: 0.8147 - val_loss: 0.0829 - val_acc: 0.8137\n",
            "Epoch 58/100\n",
            "60000/60000 [==============================] - 5s 84us/step - loss: 0.0831 - acc: 0.8147 - val_loss: 0.0830 - val_acc: 0.8137\n",
            "Epoch 59/100\n",
            "60000/60000 [==============================] - 5s 85us/step - loss: 0.0830 - acc: 0.8147 - val_loss: 0.0830 - val_acc: 0.8137\n",
            "Epoch 60/100\n",
            "60000/60000 [==============================] - 5s 87us/step - loss: 0.0830 - acc: 0.8147 - val_loss: 0.0827 - val_acc: 0.8137\n",
            "Epoch 61/100\n",
            "60000/60000 [==============================] - 5s 88us/step - loss: 0.0828 - acc: 0.8147 - val_loss: 0.0826 - val_acc: 0.8138\n",
            "Epoch 62/100\n",
            "60000/60000 [==============================] - 5s 84us/step - loss: 0.0827 - acc: 0.8147 - val_loss: 0.0822 - val_acc: 0.8138\n",
            "Epoch 63/100\n",
            "60000/60000 [==============================] - 5s 85us/step - loss: 0.0826 - acc: 0.8147 - val_loss: 0.0824 - val_acc: 0.8137\n",
            "Epoch 64/100\n",
            "60000/60000 [==============================] - 5s 84us/step - loss: 0.0825 - acc: 0.8147 - val_loss: 0.0822 - val_acc: 0.8138\n",
            "Epoch 65/100\n",
            "60000/60000 [==============================] - 5s 85us/step - loss: 0.0824 - acc: 0.8147 - val_loss: 0.0820 - val_acc: 0.8137\n",
            "Epoch 66/100\n",
            "60000/60000 [==============================] - 5s 84us/step - loss: 0.0823 - acc: 0.8147 - val_loss: 0.0823 - val_acc: 0.8138\n",
            "Epoch 67/100\n",
            "60000/60000 [==============================] - 5s 85us/step - loss: 0.0823 - acc: 0.8147 - val_loss: 0.0818 - val_acc: 0.8138\n",
            "Epoch 68/100\n",
            "60000/60000 [==============================] - 5s 84us/step - loss: 0.0821 - acc: 0.8148 - val_loss: 0.0818 - val_acc: 0.8138\n",
            "Epoch 69/100\n",
            "60000/60000 [==============================] - 5s 85us/step - loss: 0.0821 - acc: 0.8148 - val_loss: 0.0820 - val_acc: 0.8139\n",
            "Epoch 70/100\n",
            "60000/60000 [==============================] - 5s 84us/step - loss: 0.0820 - acc: 0.8148 - val_loss: 0.0817 - val_acc: 0.8138\n",
            "Epoch 71/100\n",
            "60000/60000 [==============================] - 5s 86us/step - loss: 0.0819 - acc: 0.8148 - val_loss: 0.0816 - val_acc: 0.8138\n",
            "Epoch 72/100\n",
            "60000/60000 [==============================] - 5s 85us/step - loss: 0.0818 - acc: 0.8148 - val_loss: 0.0815 - val_acc: 0.8138\n",
            "Epoch 73/100\n",
            "60000/60000 [==============================] - 5s 85us/step - loss: 0.0818 - acc: 0.8148 - val_loss: 0.0815 - val_acc: 0.8138\n",
            "Epoch 74/100\n",
            "60000/60000 [==============================] - 5s 85us/step - loss: 0.0817 - acc: 0.8148 - val_loss: 0.0814 - val_acc: 0.8138\n",
            "Epoch 75/100\n",
            "60000/60000 [==============================] - 5s 86us/step - loss: 0.0817 - acc: 0.8148 - val_loss: 0.0815 - val_acc: 0.8138\n",
            "Epoch 76/100\n",
            "60000/60000 [==============================] - 5s 85us/step - loss: 0.0816 - acc: 0.8148 - val_loss: 0.0813 - val_acc: 0.8138\n",
            "Epoch 77/100\n",
            "60000/60000 [==============================] - 5s 84us/step - loss: 0.0816 - acc: 0.8148 - val_loss: 0.0811 - val_acc: 0.8138\n",
            "Epoch 78/100\n",
            "60000/60000 [==============================] - 5s 85us/step - loss: 0.0815 - acc: 0.8148 - val_loss: 0.0813 - val_acc: 0.8138\n",
            "Epoch 79/100\n",
            "60000/60000 [==============================] - 5s 84us/step - loss: 0.0814 - acc: 0.8148 - val_loss: 0.0811 - val_acc: 0.8138\n",
            "Epoch 80/100\n",
            "60000/60000 [==============================] - 5s 86us/step - loss: 0.0813 - acc: 0.8148 - val_loss: 0.0813 - val_acc: 0.8138\n",
            "Epoch 81/100\n",
            "60000/60000 [==============================] - 5s 85us/step - loss: 0.0813 - acc: 0.8148 - val_loss: 0.0811 - val_acc: 0.8138\n",
            "Epoch 82/100\n",
            "60000/60000 [==============================] - 5s 86us/step - loss: 0.0813 - acc: 0.8148 - val_loss: 0.0813 - val_acc: 0.8137\n",
            "Epoch 83/100\n",
            "60000/60000 [==============================] - 5s 85us/step - loss: 0.0812 - acc: 0.8148 - val_loss: 0.0809 - val_acc: 0.8138\n",
            "Epoch 84/100\n",
            "60000/60000 [==============================] - 5s 85us/step - loss: 0.0811 - acc: 0.8148 - val_loss: 0.0807 - val_acc: 0.8138\n",
            "Epoch 85/100\n",
            "60000/60000 [==============================] - 5s 85us/step - loss: 0.0810 - acc: 0.8148 - val_loss: 0.0810 - val_acc: 0.8138\n",
            "Epoch 86/100\n",
            "60000/60000 [==============================] - 5s 85us/step - loss: 0.0809 - acc: 0.8148 - val_loss: 0.0809 - val_acc: 0.8138\n",
            "Epoch 87/100\n",
            "60000/60000 [==============================] - 5s 86us/step - loss: 0.0808 - acc: 0.8149 - val_loss: 0.0806 - val_acc: 0.8138\n",
            "Epoch 88/100\n",
            "60000/60000 [==============================] - 5s 87us/step - loss: 0.0807 - acc: 0.8149 - val_loss: 0.0806 - val_acc: 0.8138\n",
            "Epoch 89/100\n",
            "60000/60000 [==============================] - 5s 86us/step - loss: 0.0807 - acc: 0.8149 - val_loss: 0.0806 - val_acc: 0.8139\n",
            "Epoch 90/100\n",
            "60000/60000 [==============================] - 5s 85us/step - loss: 0.0806 - acc: 0.8149 - val_loss: 0.0805 - val_acc: 0.8138\n",
            "Epoch 91/100\n",
            "60000/60000 [==============================] - 5s 86us/step - loss: 0.0806 - acc: 0.8149 - val_loss: 0.0804 - val_acc: 0.8139\n",
            "Epoch 92/100\n",
            "60000/60000 [==============================] - 5s 86us/step - loss: 0.0805 - acc: 0.8149 - val_loss: 0.0803 - val_acc: 0.8138\n",
            "Epoch 93/100\n",
            "60000/60000 [==============================] - 5s 85us/step - loss: 0.0805 - acc: 0.8149 - val_loss: 0.0804 - val_acc: 0.8139\n",
            "Epoch 94/100\n",
            "60000/60000 [==============================] - 5s 85us/step - loss: 0.0805 - acc: 0.8149 - val_loss: 0.0805 - val_acc: 0.8139\n",
            "Epoch 95/100\n",
            "60000/60000 [==============================] - 5s 86us/step - loss: 0.0804 - acc: 0.8149 - val_loss: 0.0802 - val_acc: 0.8139\n",
            "Epoch 96/100\n",
            "60000/60000 [==============================] - 5s 88us/step - loss: 0.0803 - acc: 0.8149 - val_loss: 0.0802 - val_acc: 0.8139\n",
            "Epoch 97/100\n",
            "60000/60000 [==============================] - 5s 85us/step - loss: 0.0803 - acc: 0.8149 - val_loss: 0.0803 - val_acc: 0.8139\n",
            "Epoch 98/100\n",
            "60000/60000 [==============================] - 5s 86us/step - loss: 0.0803 - acc: 0.8149 - val_loss: 0.0802 - val_acc: 0.8139\n",
            "Epoch 99/100\n",
            "60000/60000 [==============================] - 5s 85us/step - loss: 0.0802 - acc: 0.8149 - val_loss: 0.0801 - val_acc: 0.8139\n",
            "Epoch 100/100\n",
            "60000/60000 [==============================] - 5s 85us/step - loss: 0.0802 - acc: 0.8149 - val_loss: 0.0800 - val_acc: 0.8139\n"
          ],
          "name": "stdout"
        },
        {
          "output_type": "execute_result",
          "data": {
            "text/plain": [
              "<keras.callbacks.History at 0x7f3277306780>"
            ]
          },
          "metadata": {
            "tags": []
          },
          "execution_count": 9
        }
      ]
    },
    {
      "cell_type": "code",
      "metadata": {
        "id": "JhRYSbs4tiTR",
        "colab_type": "code",
        "colab": {}
      },
      "source": [
        "dimensao_original = Input(shape = (784, ))\n",
        "camada_encoder_1 = autoencoder.layers[0]\n",
        "camada_encoder_2 = autoencoder.layers[1]\n",
        "camada_encoder_3 = autoencoder.layers[2]\n",
        "encoder = Model(dimensao_original, \n",
        "                camada_encoder_3(camada_encoder_2(camada_encoder_1(dimensao_original))))"
      ],
      "execution_count": 0,
      "outputs": []
    },
    {
      "cell_type": "code",
      "metadata": {
        "id": "ILMCvg_2uM_O",
        "colab_type": "code",
        "colab": {
          "base_uri": "https://localhost:8080/",
          "height": 289
        },
        "outputId": "88c66f1a-c316-4732-8d24-c05a5ab17d2c"
      },
      "source": [
        "encoder.summary()"
      ],
      "execution_count": 11,
      "outputs": [
        {
          "output_type": "stream",
          "text": [
            "Model: \"model_1\"\n",
            "_________________________________________________________________\n",
            "Layer (type)                 Output Shape              Param #   \n",
            "=================================================================\n",
            "input_1 (InputLayer)         (None, 784)               0         \n",
            "_________________________________________________________________\n",
            "dense_1 (Dense)              (None, 128)               100480    \n",
            "_________________________________________________________________\n",
            "dense_2 (Dense)              (None, 64)                8256      \n",
            "_________________________________________________________________\n",
            "dense_3 (Dense)              (None, 32)                2080      \n",
            "=================================================================\n",
            "Total params: 110,816\n",
            "Trainable params: 110,816\n",
            "Non-trainable params: 0\n",
            "_________________________________________________________________\n"
          ],
          "name": "stdout"
        }
      ]
    },
    {
      "cell_type": "code",
      "metadata": {
        "id": "0uzTg-HGuTAN",
        "colab_type": "code",
        "colab": {}
      },
      "source": [
        "imagens_codificadas = encoder.predict(previsores_teste)\n",
        "imagens_decodificadas = autoencoder.predict(previsores_teste)"
      ],
      "execution_count": 0,
      "outputs": []
    },
    {
      "cell_type": "code",
      "metadata": {
        "id": "14bLw_jEu0ru",
        "colab_type": "code",
        "colab": {
          "base_uri": "https://localhost:8080/",
          "height": 336
        },
        "outputId": "4f2cffc2-3b7d-42f1-a818-d9a5f5626609"
      },
      "source": [
        "numero_imagens = 10\n",
        "imagens_teste = np.random.randint(previsores_teste.shape[0], size = numero_imagens)# seleciona 10 imagens e um intervalo de 0 a 10000\n",
        "plt.figure(figsize=(18, 18))\n",
        "for i, indice_imagem in enumerate(imagens_teste):\n",
        "  # imagem original\n",
        "  eixo = plt.subplot(10, 10, i + 1)\n",
        "  plt.imshow(previsores_teste[indice_imagem].reshape(28, 28))\n",
        "  plt.xticks(())\n",
        "  plt.yticks(())\n",
        "    \n",
        "  # imagem codificada\n",
        "  eixo = plt.subplot(10, 10, i + 1 + numero_imagens)\n",
        "  plt.imshow(imagens_codificadas[indice_imagem].reshape(8, 4))\n",
        "  plt.xticks(())\n",
        "  plt.yticks(())\n",
        "    \n",
        "  # imagem reconstruÃ­da\n",
        "  eixo = plt.subplot(10, 10, i + 1 + numero_imagens * 2)\n",
        "  plt.imshow(imagens_decodificadas[indice_imagem].reshape(28, 28))\n",
        "  plt.xticks(())\n",
        "  plt.yticks(())"
      ],
      "execution_count": 14,
      "outputs": [
        {
          "output_type": "display_data",
          "data": {
            "image/png": "[encoded data removed]",
            "text/plain": [
              "<Figure size 1296x1296 with 30 Axes>"
            ]
          },
          "metadata": {
            "tags": []
          }
        }
      ]
    }
  ]
}