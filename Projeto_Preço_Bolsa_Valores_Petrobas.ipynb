{
  "nbformat": 4,
  "nbformat_minor": 0,
  "metadata": {
    "colab": {
      "name": "Projeto_Preço_Bolsa_Valores_Petrobas",
      "provenance": [],
      "authorship_tag": "ABX9TyO7y4PlFUiV+c1znTk6wCuV",
      "include_colab_link": true
    },
    "kernelspec": {
      "name": "python3",
      "display_name": "Python 3"
    }
  },
  "cells": [
    {
      "cell_type": "markdown",
      "metadata": {
        "id": "view-in-github",
        "colab_type": "text"
      },
      "source": [
        "<a href=\"https://colab.research.google.com/github/Jeansds/Curso_Udemy---Deep-Learning-com-Python-de-A-a-Z/blob/master/Projeto_Pre%C3%A7o_Bolsa_Valores_Petrobas.ipynb\" target=\"_parent\"><img src=\"https://colab.research.google.com/assets/colab-badge.svg\" alt=\"Open In Colab\"/></a>"
      ]
    },
    {
      "cell_type": "markdown",
      "metadata": {
        "id": "BO10hjyymaVM",
        "colab_type": "text"
      },
      "source": [
        "Link Download base\n",
        "[link text](https://br.financas.yahoo.com/quote/PETR4.SA/history?period1=1356998400&period2=1517356800&interval=1d&filter=history&frequency=1d)\n",
        "\n",
        "Treino até Dezembro 2017\n",
        "\n",
        "Teste Inicio de Janeiro ao Final de Janeiro"
      ]
    },
    {
      "cell_type": "code",
      "metadata": {
        "id": "XYrxfTWqmABM",
        "colab_type": "code",
        "colab": {}
      },
      "source": [
        "from keras.models import Sequential\n",
        "from keras.layers import Dense, Dropout, LSTM\n",
        "import numpy as np\n",
        "import pandas as pd\n",
        "from sklearn.preprocessing import MinMaxScaler\n",
        "import matplotlib.pyplot as plt"
      ],
      "execution_count": 0,
      "outputs": []
    },
    {
      "cell_type": "code",
      "metadata": {
        "id": "j25fmKsznwb5",
        "colab_type": "code",
        "colab": {}
      },
      "source": [
        "base = pd.read_csv('/content/sample_data/petr4_treinamento.csv')\n",
        "base = base.dropna()#dropa valores nulos\n",
        "base_treinamento = base.iloc[:, 1:2].values #pega somento o valor ontem no caso preço de abertura\n",
        "\n",
        "normalizador = MinMaxScaler(feature_range = (0, 1))\n",
        "base_treinamento_normalizada = normalizador.fit_transform(base_treinamento)# deixa a base de treinamento normalizada entre 0 e 1"
      ],
      "execution_count": 0,
      "outputs": []
    },
    {
      "cell_type": "code",
      "metadata": {
        "id": "7TDskHXnyPGU",
        "colab_type": "code",
        "colab": {}
      },
      "source": [
        "previsores = []\n",
        "preco_real = []\n",
        "for i in range(90, 1242):\n",
        "  previsores.append(base_treinamento_normalizada[i - 90: i, 0])\n",
        "  preco_real.append(base_treinamento_normalizada[i, 0])\n",
        "previsores, preco = np.array(previsores), np.array(preco_real)\n",
        "previsores = np.reshape(previsores, (previsores.shape[0], previsores.shape[1], 1))"
      ],
      "execution_count": 0,
      "outputs": []
    },
    {
      "cell_type": "code",
      "metadata": {
        "id": "IlCBsQWT1ieo",
        "colab_type": "code",
        "colab": {
          "base_uri": "https://localhost:8080/",
          "height": 1000
        },
        "outputId": "48eb3c65-fc60-419b-b1b7-2621c13b881f"
      },
      "source": [
        "regressor = Sequential()\n",
        "regressor.add(LSTM(units = 100, return_sequences = True, input_shape = (previsores.shape[1], 1)))#return_sequences passa a informacao para as proxima camada LSTM\n",
        "regressor.add(Dropout(0.3))\n",
        "\n",
        "regressor.add(LSTM(units = 50, return_sequences = True))\n",
        "regressor.add(Dropout(0.3))\n",
        "\n",
        "regressor.add(LSTM(units = 50, return_sequences = True))\n",
        "regressor.add(Dropout(0.3))\n",
        "\n",
        "regressor.add(LSTM(units = 50))\n",
        "regressor.add(Dropout(0.3))\n",
        "\n",
        "regressor.add(Dense(units = 1, activation = 'linear'))\n",
        "\n",
        "regressor.compile(optimizer = 'rmsprop', loss = 'mean_squared_error',\n",
        "                  metrics = ['mean_absolute_error'])#adam tambem server porem para redes recorrentes o rmsprop pode trazer melhores resultados\n",
        "regressor.fit(previsores, preco_real, epochs = 100, batch_size = 32)"
      ],
      "execution_count": 7,
      "outputs": [
        {
          "output_type": "stream",
          "text": [
            "WARNING:tensorflow:From /usr/local/lib/python3.6/dist-packages/keras/backend/tensorflow_backend.py:66: The name tf.get_default_graph is deprecated. Please use tf.compat.v1.get_default_graph instead.\n",
            "\n",
            "WARNING:tensorflow:From /usr/local/lib/python3.6/dist-packages/keras/backend/tensorflow_backend.py:541: The name tf.placeholder is deprecated. Please use tf.compat.v1.placeholder instead.\n",
            "\n",
            "WARNING:tensorflow:From /usr/local/lib/python3.6/dist-packages/keras/backend/tensorflow_backend.py:4432: The name tf.random_uniform is deprecated. Please use tf.random.uniform instead.\n",
            "\n",
            "WARNING:tensorflow:From /usr/local/lib/python3.6/dist-packages/keras/backend/tensorflow_backend.py:148: The name tf.placeholder_with_default is deprecated. Please use tf.compat.v1.placeholder_with_default instead.\n",
            "\n",
            "WARNING:tensorflow:From /usr/local/lib/python3.6/dist-packages/keras/backend/tensorflow_backend.py:3733: calling dropout (from tensorflow.python.ops.nn_ops) with keep_prob is deprecated and will be removed in a future version.\n",
            "Instructions for updating:\n",
            "Please use `rate` instead of `keep_prob`. Rate should be set to `rate = 1 - keep_prob`.\n",
            "WARNING:tensorflow:From /usr/local/lib/python3.6/dist-packages/keras/optimizers.py:793: The name tf.train.Optimizer is deprecated. Please use tf.compat.v1.train.Optimizer instead.\n",
            "\n",
            "WARNING:tensorflow:From /usr/local/lib/python3.6/dist-packages/tensorflow_core/python/ops/math_grad.py:1424: where (from tensorflow.python.ops.array_ops) is deprecated and will be removed in a future version.\n",
            "Instructions for updating:\n",
            "Use tf.where in 2.0, which has the same broadcast rule as np.where\n",
            "WARNING:tensorflow:From /usr/local/lib/python3.6/dist-packages/keras/backend/tensorflow_backend.py:1033: The name tf.assign_add is deprecated. Please use tf.compat.v1.assign_add instead.\n",
            "\n",
            "WARNING:tensorflow:From /usr/local/lib/python3.6/dist-packages/keras/backend/tensorflow_backend.py:1020: The name tf.assign is deprecated. Please use tf.compat.v1.assign instead.\n",
            "\n",
            "WARNING:tensorflow:From /usr/local/lib/python3.6/dist-packages/keras/backend/tensorflow_backend.py:3005: The name tf.Session is deprecated. Please use tf.compat.v1.Session instead.\n",
            "\n",
            "Epoch 1/100\n",
            "WARNING:tensorflow:From /usr/local/lib/python3.6/dist-packages/keras/backend/tensorflow_backend.py:190: The name tf.get_default_session is deprecated. Please use tf.compat.v1.get_default_session instead.\n",
            "\n",
            "WARNING:tensorflow:From /usr/local/lib/python3.6/dist-packages/keras/backend/tensorflow_backend.py:197: The name tf.ConfigProto is deprecated. Please use tf.compat.v1.ConfigProto instead.\n",
            "\n",
            "WARNING:tensorflow:From /usr/local/lib/python3.6/dist-packages/keras/backend/tensorflow_backend.py:207: The name tf.global_variables is deprecated. Please use tf.compat.v1.global_variables instead.\n",
            "\n",
            "WARNING:tensorflow:From /usr/local/lib/python3.6/dist-packages/keras/backend/tensorflow_backend.py:216: The name tf.is_variable_initialized is deprecated. Please use tf.compat.v1.is_variable_initialized instead.\n",
            "\n",
            "WARNING:tensorflow:From /usr/local/lib/python3.6/dist-packages/keras/backend/tensorflow_backend.py:223: The name tf.variables_initializer is deprecated. Please use tf.compat.v1.variables_initializer instead.\n",
            "\n",
            "1152/1152 [==============================] - 15s 13ms/step - loss: 0.0333 - mean_absolute_error: 0.1358\n",
            "Epoch 2/100\n",
            "1152/1152 [==============================] - 12s 11ms/step - loss: 0.0154 - mean_absolute_error: 0.0968\n",
            "Epoch 3/100\n",
            "1152/1152 [==============================] - 12s 11ms/step - loss: 0.0129 - mean_absolute_error: 0.0867\n",
            "Epoch 4/100\n",
            "1152/1152 [==============================] - 12s 11ms/step - loss: 0.0122 - mean_absolute_error: 0.0843\n",
            "Epoch 5/100\n",
            "1152/1152 [==============================] - 12s 11ms/step - loss: 0.0092 - mean_absolute_error: 0.0735\n",
            "Epoch 6/100\n",
            "1152/1152 [==============================] - 12s 11ms/step - loss: 0.0090 - mean_absolute_error: 0.0722\n",
            "Epoch 7/100\n",
            "1152/1152 [==============================] - 13s 11ms/step - loss: 0.0082 - mean_absolute_error: 0.0691\n",
            "Epoch 8/100\n",
            "1152/1152 [==============================] - 12s 11ms/step - loss: 0.0074 - mean_absolute_error: 0.0646\n",
            "Epoch 9/100\n",
            "1152/1152 [==============================] - 13s 11ms/step - loss: 0.0067 - mean_absolute_error: 0.0622\n",
            "Epoch 10/100\n",
            "1152/1152 [==============================] - 12s 11ms/step - loss: 0.0064 - mean_absolute_error: 0.0619\n",
            "Epoch 11/100\n",
            "1152/1152 [==============================] - 12s 11ms/step - loss: 0.0061 - mean_absolute_error: 0.0589\n",
            "Epoch 12/100\n",
            "1152/1152 [==============================] - 12s 11ms/step - loss: 0.0055 - mean_absolute_error: 0.0565\n",
            "Epoch 13/100\n",
            "1152/1152 [==============================] - 12s 11ms/step - loss: 0.0058 - mean_absolute_error: 0.0585\n",
            "Epoch 14/100\n",
            "1152/1152 [==============================] - 13s 11ms/step - loss: 0.0052 - mean_absolute_error: 0.0564\n",
            "Epoch 15/100\n",
            "1152/1152 [==============================] - 12s 11ms/step - loss: 0.0051 - mean_absolute_error: 0.0551\n",
            "Epoch 16/100\n",
            "1152/1152 [==============================] - 12s 11ms/step - loss: 0.0050 - mean_absolute_error: 0.0538\n",
            "Epoch 17/100\n",
            "1152/1152 [==============================] - 12s 11ms/step - loss: 0.0045 - mean_absolute_error: 0.0511\n",
            "Epoch 18/100\n",
            "1152/1152 [==============================] - 12s 11ms/step - loss: 0.0042 - mean_absolute_error: 0.0493\n",
            "Epoch 19/100\n",
            "1152/1152 [==============================] - 13s 11ms/step - loss: 0.0042 - mean_absolute_error: 0.0501\n",
            "Epoch 20/100\n",
            "1152/1152 [==============================] - 12s 11ms/step - loss: 0.0044 - mean_absolute_error: 0.0508\n",
            "Epoch 21/100\n",
            "1152/1152 [==============================] - 12s 11ms/step - loss: 0.0041 - mean_absolute_error: 0.0485\n",
            "Epoch 22/100\n",
            "1152/1152 [==============================] - 12s 11ms/step - loss: 0.0039 - mean_absolute_error: 0.0485\n",
            "Epoch 23/100\n",
            "1152/1152 [==============================] - 12s 11ms/step - loss: 0.0038 - mean_absolute_error: 0.0472\n",
            "Epoch 24/100\n",
            "1152/1152 [==============================] - 12s 11ms/step - loss: 0.0039 - mean_absolute_error: 0.0475\n",
            "Epoch 25/100\n",
            "1152/1152 [==============================] - 12s 11ms/step - loss: 0.0033 - mean_absolute_error: 0.0431\n",
            "Epoch 26/100\n",
            "1152/1152 [==============================] - 12s 11ms/step - loss: 0.0037 - mean_absolute_error: 0.0464\n",
            "Epoch 27/100\n",
            "1152/1152 [==============================] - 12s 11ms/step - loss: 0.0037 - mean_absolute_error: 0.0449\n",
            "Epoch 28/100\n",
            "1152/1152 [==============================] - 12s 11ms/step - loss: 0.0033 - mean_absolute_error: 0.0441\n",
            "Epoch 29/100\n",
            "1152/1152 [==============================] - 13s 11ms/step - loss: 0.0033 - mean_absolute_error: 0.0440\n",
            "Epoch 30/100\n",
            "1152/1152 [==============================] - 12s 11ms/step - loss: 0.0032 - mean_absolute_error: 0.0425\n",
            "Epoch 31/100\n",
            "1152/1152 [==============================] - 12s 11ms/step - loss: 0.0028 - mean_absolute_error: 0.0401\n",
            "Epoch 32/100\n",
            "1152/1152 [==============================] - 13s 11ms/step - loss: 0.0030 - mean_absolute_error: 0.0411\n",
            "Epoch 33/100\n",
            "1152/1152 [==============================] - 13s 11ms/step - loss: 0.0028 - mean_absolute_error: 0.0408\n",
            "Epoch 34/100\n",
            "1152/1152 [==============================] - 13s 11ms/step - loss: 0.0028 - mean_absolute_error: 0.0404\n",
            "Epoch 35/100\n",
            "1152/1152 [==============================] - 13s 11ms/step - loss: 0.0026 - mean_absolute_error: 0.0394\n",
            "Epoch 36/100\n",
            "1152/1152 [==============================] - 13s 11ms/step - loss: 0.0028 - mean_absolute_error: 0.0410\n",
            "Epoch 37/100\n",
            "1152/1152 [==============================] - 12s 11ms/step - loss: 0.0028 - mean_absolute_error: 0.0394\n",
            "Epoch 38/100\n",
            "1152/1152 [==============================] - 13s 11ms/step - loss: 0.0028 - mean_absolute_error: 0.0401\n",
            "Epoch 39/100\n",
            "1152/1152 [==============================] - 12s 11ms/step - loss: 0.0027 - mean_absolute_error: 0.0394\n",
            "Epoch 40/100\n",
            "1152/1152 [==============================] - 13s 11ms/step - loss: 0.0026 - mean_absolute_error: 0.0385\n",
            "Epoch 41/100\n",
            "1152/1152 [==============================] - 12s 11ms/step - loss: 0.0027 - mean_absolute_error: 0.0398\n",
            "Epoch 42/100\n",
            "1152/1152 [==============================] - 13s 11ms/step - loss: 0.0023 - mean_absolute_error: 0.0358\n",
            "Epoch 43/100\n",
            "1152/1152 [==============================] - 13s 11ms/step - loss: 0.0025 - mean_absolute_error: 0.0383\n",
            "Epoch 44/100\n",
            "1152/1152 [==============================] - 13s 11ms/step - loss: 0.0024 - mean_absolute_error: 0.0376\n",
            "Epoch 45/100\n",
            "1152/1152 [==============================] - 12s 11ms/step - loss: 0.0025 - mean_absolute_error: 0.0377\n",
            "Epoch 46/100\n",
            "1152/1152 [==============================] - 12s 11ms/step - loss: 0.0024 - mean_absolute_error: 0.0371\n",
            "Epoch 47/100\n",
            "1152/1152 [==============================] - 13s 11ms/step - loss: 0.0023 - mean_absolute_error: 0.0364\n",
            "Epoch 48/100\n",
            "1152/1152 [==============================] - 12s 11ms/step - loss: 0.0024 - mean_absolute_error: 0.0368\n",
            "Epoch 49/100\n",
            "1152/1152 [==============================] - 12s 11ms/step - loss: 0.0022 - mean_absolute_error: 0.0362\n",
            "Epoch 50/100\n",
            "1152/1152 [==============================] - 12s 11ms/step - loss: 0.0023 - mean_absolute_error: 0.0362\n",
            "Epoch 51/100\n",
            "1152/1152 [==============================] - 12s 11ms/step - loss: 0.0024 - mean_absolute_error: 0.0361\n",
            "Epoch 52/100\n",
            "1152/1152 [==============================] - 12s 11ms/step - loss: 0.0022 - mean_absolute_error: 0.0354\n",
            "Epoch 53/100\n",
            "1152/1152 [==============================] - 12s 11ms/step - loss: 0.0020 - mean_absolute_error: 0.0344\n",
            "Epoch 54/100\n",
            "1152/1152 [==============================] - 13s 11ms/step - loss: 0.0022 - mean_absolute_error: 0.0352\n",
            "Epoch 55/100\n",
            "1152/1152 [==============================] - 12s 11ms/step - loss: 0.0021 - mean_absolute_error: 0.0345\n",
            "Epoch 56/100\n",
            "1152/1152 [==============================] - 12s 11ms/step - loss: 0.0021 - mean_absolute_error: 0.0348\n",
            "Epoch 57/100\n",
            "1152/1152 [==============================] - 13s 11ms/step - loss: 0.0021 - mean_absolute_error: 0.0338\n",
            "Epoch 58/100\n",
            "1152/1152 [==============================] - 12s 11ms/step - loss: 0.0020 - mean_absolute_error: 0.0344\n",
            "Epoch 59/100\n",
            "1152/1152 [==============================] - 12s 11ms/step - loss: 0.0021 - mean_absolute_error: 0.0350\n",
            "Epoch 60/100\n",
            "1152/1152 [==============================] - 13s 11ms/step - loss: 0.0020 - mean_absolute_error: 0.0342\n",
            "Epoch 61/100\n",
            "1152/1152 [==============================] - 12s 11ms/step - loss: 0.0019 - mean_absolute_error: 0.0333\n",
            "Epoch 62/100\n",
            "1152/1152 [==============================] - 12s 11ms/step - loss: 0.0019 - mean_absolute_error: 0.0331\n",
            "Epoch 63/100\n",
            "1152/1152 [==============================] - 12s 11ms/step - loss: 0.0020 - mean_absolute_error: 0.0344\n",
            "Epoch 64/100\n",
            "1152/1152 [==============================] - 12s 11ms/step - loss: 0.0020 - mean_absolute_error: 0.0327\n",
            "Epoch 65/100\n",
            "1152/1152 [==============================] - 12s 11ms/step - loss: 0.0020 - mean_absolute_error: 0.0342\n",
            "Epoch 66/100\n",
            "1152/1152 [==============================] - 12s 11ms/step - loss: 0.0019 - mean_absolute_error: 0.0331\n",
            "Epoch 67/100\n",
            "1152/1152 [==============================] - 12s 11ms/step - loss: 0.0020 - mean_absolute_error: 0.0339\n",
            "Epoch 68/100\n",
            "1152/1152 [==============================] - 12s 11ms/step - loss: 0.0018 - mean_absolute_error: 0.0315\n",
            "Epoch 69/100\n",
            "1152/1152 [==============================] - 12s 11ms/step - loss: 0.0017 - mean_absolute_error: 0.0319\n",
            "Epoch 70/100\n",
            "1152/1152 [==============================] - 12s 11ms/step - loss: 0.0019 - mean_absolute_error: 0.0320\n",
            "Epoch 71/100\n",
            "1152/1152 [==============================] - 12s 11ms/step - loss: 0.0019 - mean_absolute_error: 0.0319\n",
            "Epoch 72/100\n",
            "1152/1152 [==============================] - 12s 11ms/step - loss: 0.0018 - mean_absolute_error: 0.0321\n",
            "Epoch 73/100\n",
            "1152/1152 [==============================] - 12s 11ms/step - loss: 0.0018 - mean_absolute_error: 0.0312\n",
            "Epoch 74/100\n",
            "1152/1152 [==============================] - 12s 11ms/step - loss: 0.0019 - mean_absolute_error: 0.0323\n",
            "Epoch 75/100\n",
            "1152/1152 [==============================] - 12s 11ms/step - loss: 0.0019 - mean_absolute_error: 0.0331\n",
            "Epoch 76/100\n",
            "1152/1152 [==============================] - 12s 11ms/step - loss: 0.0016 - mean_absolute_error: 0.0306\n",
            "Epoch 77/100\n",
            "1152/1152 [==============================] - 12s 11ms/step - loss: 0.0018 - mean_absolute_error: 0.0323\n",
            "Epoch 78/100\n",
            "1152/1152 [==============================] - 12s 11ms/step - loss: 0.0018 - mean_absolute_error: 0.0313\n",
            "Epoch 79/100\n",
            "1152/1152 [==============================] - 13s 11ms/step - loss: 0.0017 - mean_absolute_error: 0.0310\n",
            "Epoch 80/100\n",
            "1152/1152 [==============================] - 12s 11ms/step - loss: 0.0018 - mean_absolute_error: 0.0318\n",
            "Epoch 81/100\n",
            "1152/1152 [==============================] - 12s 11ms/step - loss: 0.0016 - mean_absolute_error: 0.0300\n",
            "Epoch 82/100\n",
            "1152/1152 [==============================] - 12s 11ms/step - loss: 0.0017 - mean_absolute_error: 0.0315\n",
            "Epoch 83/100\n",
            "1152/1152 [==============================] - 12s 11ms/step - loss: 0.0016 - mean_absolute_error: 0.0299\n",
            "Epoch 84/100\n",
            "1152/1152 [==============================] - 12s 11ms/step - loss: 0.0016 - mean_absolute_error: 0.0295\n",
            "Epoch 85/100\n",
            "1152/1152 [==============================] - 12s 11ms/step - loss: 0.0016 - mean_absolute_error: 0.0303\n",
            "Epoch 86/100\n",
            "1152/1152 [==============================] - 12s 11ms/step - loss: 0.0018 - mean_absolute_error: 0.0321\n",
            "Epoch 87/100\n",
            "1152/1152 [==============================] - 12s 11ms/step - loss: 0.0017 - mean_absolute_error: 0.0302\n",
            "Epoch 88/100\n",
            "1152/1152 [==============================] - 12s 11ms/step - loss: 0.0017 - mean_absolute_error: 0.0300\n",
            "Epoch 89/100\n",
            "1152/1152 [==============================] - 12s 11ms/step - loss: 0.0014 - mean_absolute_error: 0.0285\n",
            "Epoch 90/100\n",
            "1152/1152 [==============================] - 12s 10ms/step - loss: 0.0016 - mean_absolute_error: 0.0300\n",
            "Epoch 91/100\n",
            "1152/1152 [==============================] - 12s 11ms/step - loss: 0.0017 - mean_absolute_error: 0.0303\n",
            "Epoch 92/100\n",
            "1152/1152 [==============================] - 12s 11ms/step - loss: 0.0016 - mean_absolute_error: 0.0295\n",
            "Epoch 93/100\n",
            "1152/1152 [==============================] - 12s 11ms/step - loss: 0.0015 - mean_absolute_error: 0.0291\n",
            "Epoch 94/100\n",
            "1152/1152 [==============================] - 12s 11ms/step - loss: 0.0015 - mean_absolute_error: 0.0292\n",
            "Epoch 95/100\n",
            "1152/1152 [==============================] - 12s 11ms/step - loss: 0.0016 - mean_absolute_error: 0.0303\n",
            "Epoch 96/100\n",
            "1152/1152 [==============================] - 12s 11ms/step - loss: 0.0015 - mean_absolute_error: 0.0295\n",
            "Epoch 97/100\n",
            "1152/1152 [==============================] - 12s 11ms/step - loss: 0.0016 - mean_absolute_error: 0.0302\n",
            "Epoch 98/100\n",
            "1152/1152 [==============================] - 12s 11ms/step - loss: 0.0016 - mean_absolute_error: 0.0300\n",
            "Epoch 99/100\n",
            "1152/1152 [==============================] - 12s 11ms/step - loss: 0.0016 - mean_absolute_error: 0.0297\n",
            "Epoch 100/100\n",
            "1152/1152 [==============================] - 12s 11ms/step - loss: 0.0017 - mean_absolute_error: 0.0304\n"
          ],
          "name": "stdout"
        },
        {
          "output_type": "execute_result",
          "data": {
            "text/plain": [
              "<keras.callbacks.History at 0x7f2613c5f4e0>"
            ]
          },
          "metadata": {
            "tags": []
          },
          "execution_count": 7
        }
      ]
    },
    {
      "cell_type": "code",
      "metadata": {
        "id": "fSggpJzO4GCO",
        "colab_type": "code",
        "colab": {}
      },
      "source": [
        "base_teste = pd.read_csv('/content/sample_data/petr4_teste.csv')\n",
        "preco_real_teste = base_teste.iloc[:, 1:2].values\n",
        "base_completa = pd.concat((base['Open'], base_teste['Open']), axis = 0)#concatena 2 arquivos, axis =0 indica que isto e feito por coluna\n",
        "entradas = base_completa[len(base_completa) - len(base_teste)- 90:].values\n",
        "entradas = entradas.reshape(-1, 1)\n",
        "entradas = normalizador.transform(entradas)"
      ],
      "execution_count": 0,
      "outputs": []
    },
    {
      "cell_type": "code",
      "metadata": {
        "id": "2PDb9dkM6DND",
        "colab_type": "code",
        "colab": {
          "base_uri": "https://localhost:8080/",
          "height": 408
        },
        "outputId": "c38c9b93-74f2-4d27-bfa1-a1cc3b009536"
      },
      "source": [
        "X_teste = []\n",
        "for i in range(90, 112):\n",
        "  X_teste.append(entradas[i-90: i, 0])\n",
        "X_teste = np.array(X_teste)\n",
        "X_teste = np.reshape(X_teste, (X_teste.shape[0], X_teste.shape[1], 1))\n",
        "previsores = regressor.predict(X_teste)\n",
        "previsores = normalizador.inverse_transform(previsores)# desnormaliza os dados\n",
        "for i in range(len(previsores)):\n",
        "  print(previsores[i], preco_real_teste[i])\n",
        "print(\"Diferença Media: \" , previsores.mean() - preco_real_teste.mean())"
      ],
      "execution_count": 14,
      "outputs": [
        {
          "output_type": "stream",
          "text": [
            "[16.252272] [16.190001]\n",
            "[16.315222] [16.49]\n",
            "[16.552011] [16.780001]\n",
            "[16.867413] [16.700001]\n",
            "[16.925417] [16.74]\n",
            "[16.927649] [17.030001]\n",
            "[17.139128] [16.92]\n",
            "[17.180275] [16.879999]\n",
            "[17.128109] [17.040001]\n",
            "[17.216932] [17.32]\n",
            "[17.474419] [17.35]\n",
            "[17.600628] [17.92]\n",
            "[18.011143] [18.35]\n",
            "[18.505003] [18.309999]\n",
            "[18.623789] [18.26]\n",
            "[18.567133] [18.4]\n",
            "[18.652071] [18.42]\n",
            "[18.73328] [19.34]\n",
            "[19.425896] [19.620001]\n",
            "[19.918339] [19.67]\n",
            "[20.022959] [19.77]\n",
            "[20.08472] [19.74]\n",
            "Diferença Media:  0.04017299156604892\n"
          ],
          "name": "stdout"
        }
      ]
    },
    {
      "cell_type": "code",
      "metadata": {
        "id": "-k1Ha65l9SN2",
        "colab_type": "code",
        "colab": {
          "base_uri": "https://localhost:8080/",
          "height": 295
        },
        "outputId": "d6618c07-ffd0-4cc5-d484-9cd06464b0bd"
      },
      "source": [
        "plt.plot(preco_real_teste, color = 'red', label = 'Preço real')\n",
        "plt.plot(previsores, color = 'blue', label = 'Previsões')\n",
        "plt.title('Previsão Preco das Ações')\n",
        "plt.xlabel('Tempo')\n",
        "plt.ylabel('Valor Yahoo')\n",
        "plt.legend()\n",
        "plt.show()"
      ],
      "execution_count": 17,
      "outputs": [
        {
          "output_type": "display_data",
          "data": {
            "image/png": "[encoded data removed]",
            "text/plain": [
              "<Figure size 432x288 with 1 Axes>"
            ]
          },
          "metadata": {
            "tags": []
          }
        }
      ]
    }
  ]
}