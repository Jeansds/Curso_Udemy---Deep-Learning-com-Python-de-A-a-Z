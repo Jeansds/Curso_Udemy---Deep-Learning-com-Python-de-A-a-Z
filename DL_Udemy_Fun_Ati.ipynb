{
  "nbformat": 4,
  "nbformat_minor": 0,
  "metadata": {
    "colab": {
      "name": "DL_Udemy_Fun_Ati",
      "provenance": [],
      "collapsed_sections": [],
      "toc_visible": true,
      "authorship_tag": "ABX9TyME1rx1pB9/fTBnKUBXyM8a"
    },
    "kernelspec": {
      "name": "python3",
      "display_name": "Python 3"
    },
    "accelerator": "GPU"
  },
  "cells": [
    {
      "cell_type": "markdown",
      "metadata": {
        "id": "TPUVJJX4LQEq",
        "colab_type": "text"
      },
      "source": [
        "\n",
        "\n",
        "```\n",
        "Keras web site com funções de ativação\n",
        "```\n",
        "[link text](https://keras.io/activations/)\n",
        "\n"
      ]
    },
    {
      "cell_type": "code",
      "metadata": {
        "id": "Pi2Hpj7Op3nl",
        "colab_type": "code",
        "colab": {
          "base_uri": "https://localhost:8080/",
          "height": 63
        },
        "outputId": "2e120939-d66e-408f-c16b-6853a90469a9"
      },
      "source": [
        "import numpy as np\n",
        "import tensorflow as tf\n",
        "from tensorflow import keras"
      ],
      "execution_count": 1,
      "outputs": [
        {
          "output_type": "display_data",
          "data": {
            "text/html": [
              "<p style=\"color: red;\">\n",
              "The default version of TensorFlow in Colab will soon switch to TensorFlow 2.x.<br>\n",
              "We recommend you <a href=\"https://www.tensorflow.org/guide/migrate\" target=\"_blank\">upgrade</a> now \n",
              "or ensure your notebook will continue to use TensorFlow 1.x via the <code>%tensorflow_version 1.x</code> magic:\n",
              "<a href=\"https://colab.research.google.com/notebooks/tensorflow_version.ipynb\" target=\"_blank\">more info</a>.</p>\n"
            ],
            "text/plain": [
              "<IPython.core.display.HTML object>"
            ]
          },
          "metadata": {
            "tags": []
          }
        }
      ]
    },
    {
      "cell_type": "code",
      "metadata": {
        "id": "RNXUDn-eDGFf",
        "colab_type": "code",
        "colab": {}
      },
      "source": [
        "def stepFunction(soma):\n",
        "  if soma >= 1:\n",
        "    return 1\n",
        "  return 0"
      ],
      "execution_count": 0,
      "outputs": []
    },
    {
      "cell_type": "code",
      "metadata": {
        "id": "uLyM4VpKDoZz",
        "colab_type": "code",
        "colab": {}
      },
      "source": [
        "def sigmoidFunction(soma):\n",
        "  return 1 / (1 + np.exp(-soma))"
      ],
      "execution_count": 0,
      "outputs": []
    },
    {
      "cell_type": "code",
      "metadata": {
        "id": "rvvRp8gzFP6x",
        "colab_type": "code",
        "colab": {}
      },
      "source": [
        "def tahnFunction(soma):\n",
        "  return ((np.exp(soma) - np.exp(-soma)) / (np.exp(soma) + np.exp(-soma)))"
      ],
      "execution_count": 0,
      "outputs": []
    },
    {
      "cell_type": "code",
      "metadata": {
        "id": "gxejj-enIvym",
        "colab_type": "code",
        "colab": {}
      },
      "source": [
        "def reluFunction(soma):\n",
        "  if soma >= 0:\n",
        "    return soma\n",
        "  return 0"
      ],
      "execution_count": 0,
      "outputs": []
    },
    {
      "cell_type": "code",
      "metadata": {
        "id": "t0Eo9pj5JWMH",
        "colab_type": "code",
        "colab": {}
      },
      "source": [
        "def linearFunction(soma):\n",
        "  return soma"
      ],
      "execution_count": 0,
      "outputs": []
    },
    {
      "cell_type": "code",
      "metadata": {
        "id": "De3QPP-jJ3UI",
        "colab_type": "code",
        "colab": {}
      },
      "source": [
        "def softmaxFunction(x):\n",
        "  ex= np.exp(x)\n",
        "  return ex / ex.sum()"
      ],
      "execution_count": 0,
      "outputs": []
    },
    {
      "cell_type": "code",
      "metadata": {
        "id": "YCVLYZjDEVPN",
        "colab_type": "code",
        "outputId": "97689e90-ee54-417f-b027-ff6dc732b28d",
        "colab": {
          "base_uri": "https://localhost:8080/",
          "height": 119
        }
      },
      "source": [
        "teste=2.1\n",
        "teste_2=[1,2,3,4,5,6]\n",
        "print(stepFunction(teste))\n",
        "print(sigmoidFunction(teste))\n",
        "print(tahnFunction(teste))\n",
        "print(reluFunction(teste))\n",
        "print(linearFunction(teste))\n",
        "print(softmaxFunction(teste_2))"
      ],
      "execution_count": 8,
      "outputs": [
        {
          "output_type": "stream",
          "text": [
            "1\n",
            "0.8909031788043871\n",
            "0.9704519366134541\n",
            "2.1\n",
            "2.1\n",
            "[0.00426978 0.01160646 0.03154963 0.08576079 0.23312201 0.63369132]\n"
          ],
          "name": "stdout"
        }
      ]
    }
  ]
}