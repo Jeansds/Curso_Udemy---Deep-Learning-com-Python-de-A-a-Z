{
  "nbformat": 4,
  "nbformat_minor": 0,
  "metadata": {
    "colab": {
      "name": "Gerador_Imgs_Bases_Pequenas",
      "provenance": [],
      "authorship_tag": "ABX9TyM1s1lSoLddlWvaN9gwLZdD",
      "include_colab_link": true
    },
    "kernelspec": {
      "name": "python3",
      "display_name": "Python 3"
    }
  },
  "cells": [
    {
      "cell_type": "markdown",
      "metadata": {
        "id": "view-in-github",
        "colab_type": "text"
      },
      "source": [
        "<a href=\"https://colab.research.google.com/github/Jeansds/Curso_Udemy---Deep-Learning-com-Python-de-A-a-Z/blob/master/Gerador_Imgs_Bases_Pequenas.ipynb\" target=\"_parent\"><img src=\"https://colab.research.google.com/assets/colab-badge.svg\" alt=\"Open In Colab\"/></a>"
      ]
    },
    {
      "cell_type": "code",
      "metadata": {
        "id": "DEqxTRLPSx7B",
        "colab_type": "code",
        "colab": {}
      },
      "source": [
        "from keras.datasets import mnist\n",
        "from keras.models import Sequential\n",
        "from keras.layers import Dense, Flatten, Conv2D, MaxPooling2D\n",
        "from keras.utils import np_utils\n",
        "from keras.preprocessing.image import ImageDataGenerator"
      ],
      "execution_count": 0,
      "outputs": []
    },
    {
      "cell_type": "code",
      "metadata": {
        "id": "2b6DfTwGTBNU",
        "colab_type": "code",
        "colab": {
          "base_uri": "https://localhost:8080/",
          "height": 51
        },
        "outputId": "15ab15ed-3f80-4907-a4ad-a897061436ab"
      },
      "source": [
        "(X_treinamento, y_treinamento), (X_teste, y_teste) = mnist.load_data()\n",
        "previsores_treinamento = X_treinamento.reshape(X_treinamento.shape[0], 28, 28, 1)\n",
        "previsores_teste = X_teste.reshape(X_teste.shape[0], 28, 28, 1)\n",
        "previsores_treinamento = previsores_treinamento.astype('float32')\n",
        "previsores_teste = previsores_teste.astype('float32')\n",
        "previsores_treinamento /= 255\n",
        "previsores_teste /= 255\n",
        "classe_treinamento = np_utils.to_categorical(y_treinamento, 10)\n",
        "classe_teste = np_utils.to_categorical(y_teste, 10)"
      ],
      "execution_count": 2,
      "outputs": [
        {
          "output_type": "stream",
          "text": [
            "Downloading data from https://s3.amazonaws.com/img-datasets/mnist.npz\n",
            "11493376/11490434 [==============================] - 0s 0us/step\n"
          ],
          "name": "stdout"
        }
      ]
    },
    {
      "cell_type": "code",
      "metadata": {
        "id": "YB5rLk7NT2uX",
        "colab_type": "code",
        "colab": {}
      },
      "source": [
        "classificador = Sequential()\n",
        "classificador.add(Conv2D(32, (3, 3), input_shape = (28, 28, 1), activation = 'relu'))\n",
        "classificador.add(MaxPooling2D(pool_size = (2, 2)))\n",
        "classificador.add(Flatten())\n",
        "classificador.add(Dense(units = 128, activation = 'relu'))\n",
        "classificador.add(Dense(units = 10, activation = 'softmax'))\n",
        "classificador.compile(loss = 'categorical_crossentropy', optimizer = 'adam', metrics = ['accuracy'])"
      ],
      "execution_count": 0,
      "outputs": []
    },
    {
      "cell_type": "code",
      "metadata": {
        "id": "Zp93Ke9HUeeH",
        "colab_type": "code",
        "colab": {
          "base_uri": "https://localhost:8080/",
          "height": 547
        },
        "outputId": "af1a5f7a-278a-4e0d-8cb1-7073bcfd3169"
      },
      "source": [
        "gerador_treinamento = ImageDataGenerator(rotation_range = 7, horizontal_flip = True,\n",
        "                                         shear_range = 0.2, height_shift_range = 0.07,\n",
        "                                         zoom_range = 0.2)\n",
        "gerador_teste = ImageDataGenerator()\n",
        "base_treinamento = gerador_treinamento.flow(previsores_treinamento, classe_treinamento, batch_size = 128)\n",
        "base_teste = gerador_teste.flow(previsores_teste, classe_teste, batch_size = 128)\n",
        "classificador.fit_generator(base_treinamento, steps_per_epoch = 60000/128,\n",
        "                            epochs = 5, validation_data = base_teste, validation_steps = 10000/128)"
      ],
      "execution_count": 7,
      "outputs": [
        {
          "output_type": "stream",
          "text": [
            "WARNING:tensorflow:From /usr/local/lib/python3.6/dist-packages/tensorflow_core/python/ops/math_grad.py:1424: where (from tensorflow.python.ops.array_ops) is deprecated and will be removed in a future version.\n",
            "Instructions for updating:\n",
            "Use tf.where in 2.0, which has the same broadcast rule as np.where\n",
            "WARNING:tensorflow:From /usr/local/lib/python3.6/dist-packages/keras/backend/tensorflow_backend.py:1033: The name tf.assign_add is deprecated. Please use tf.compat.v1.assign_add instead.\n",
            "\n",
            "WARNING:tensorflow:From /usr/local/lib/python3.6/dist-packages/keras/backend/tensorflow_backend.py:1020: The name tf.assign is deprecated. Please use tf.compat.v1.assign instead.\n",
            "\n",
            "WARNING:tensorflow:From /usr/local/lib/python3.6/dist-packages/keras/backend/tensorflow_backend.py:3005: The name tf.Session is deprecated. Please use tf.compat.v1.Session instead.\n",
            "\n",
            "Epoch 1/5\n",
            "WARNING:tensorflow:From /usr/local/lib/python3.6/dist-packages/keras/backend/tensorflow_backend.py:190: The name tf.get_default_session is deprecated. Please use tf.compat.v1.get_default_session instead.\n",
            "\n",
            "WARNING:tensorflow:From /usr/local/lib/python3.6/dist-packages/keras/backend/tensorflow_backend.py:197: The name tf.ConfigProto is deprecated. Please use tf.compat.v1.ConfigProto instead.\n",
            "\n",
            "WARNING:tensorflow:From /usr/local/lib/python3.6/dist-packages/keras/backend/tensorflow_backend.py:207: The name tf.global_variables is deprecated. Please use tf.compat.v1.global_variables instead.\n",
            "\n",
            "WARNING:tensorflow:From /usr/local/lib/python3.6/dist-packages/keras/backend/tensorflow_backend.py:216: The name tf.is_variable_initialized is deprecated. Please use tf.compat.v1.is_variable_initialized instead.\n",
            "\n",
            "WARNING:tensorflow:From /usr/local/lib/python3.6/dist-packages/keras/backend/tensorflow_backend.py:223: The name tf.variables_initializer is deprecated. Please use tf.compat.v1.variables_initializer instead.\n",
            "\n",
            "469/468 [==============================] - 46s 98ms/step - loss: 0.5529 - acc: 0.8235 - val_loss: 0.1737 - val_acc: 0.9431\n",
            "Epoch 2/5\n",
            "469/468 [==============================] - 45s 97ms/step - loss: 0.2425 - acc: 0.9240 - val_loss: 0.1276 - val_acc: 0.9590\n",
            "Epoch 3/5\n",
            "469/468 [==============================] - 45s 96ms/step - loss: 0.1782 - acc: 0.9455 - val_loss: 0.1048 - val_acc: 0.9668\n",
            "Epoch 4/5\n",
            "469/468 [==============================] - 45s 96ms/step - loss: 0.1468 - acc: 0.9558 - val_loss: 0.0865 - val_acc: 0.9736\n",
            "Epoch 5/5\n",
            "469/468 [==============================] - 45s 96ms/step - loss: 0.1238 - acc: 0.9621 - val_loss: 0.0760 - val_acc: 0.9739\n"
          ],
          "name": "stdout"
        },
        {
          "output_type": "execute_result",
          "data": {
            "text/plain": [
              "<keras.callbacks.History at 0x7f68e20ab080>"
            ]
          },
          "metadata": {
            "tags": []
          },
          "execution_count": 7
        }
      ]
    }
  ]
}